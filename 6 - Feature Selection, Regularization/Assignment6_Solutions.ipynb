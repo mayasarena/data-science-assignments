{
 "cells": [
  {
   "cell_type": "markdown",
   "metadata": {},
   "source": [
    "# Grade: /100 pts\n",
    "\n",
    "# Assignment 06: Feature Selection and Regularization"
   ]
  },
  {
   "cell_type": "code",
   "execution_count": 20,
   "metadata": {},
   "outputs": [],
   "source": [
    "import pandas as pd\n",
    "import numpy as np\n",
    "import matplotlib.pyplot as plt\n",
    "import seaborn as sns\n",
    "import sklearn as sk\n",
    "from sklearn.model_selection import train_test_split, cross_val_score, GridSearchCV\n",
    "from sklearn.linear_model import Ridge, Lasso\n",
    "from sklearn.pipeline import Pipeline\n",
    "from sklearn.preprocessing import StandardScaler, PolynomialFeatures\n",
    "from sklearn.metrics import mean_squared_error\n",
    "\n",
    "pd.set_option('display.max_columns', 500)\n",
    "\n",
    "%matplotlib inline"
   ]
  },
  {
   "cell_type": "markdown",
   "metadata": {},
   "source": [
    "# You're Still a Data Scientist!\n",
    "\n",
    "Your models from the last assignment really impressed some in the management in your football club. Now that you have learned the art of regularization, your boss thinks you should do equally well with much less data. This will save a lot of money the next time around. This time you only get a data set with 3000 observations."
   ]
  },
  {
   "cell_type": "markdown",
   "metadata": {},
   "source": [
    "## Question 1: Preprocessing (5 pts)\n",
    "Tasks:\n",
    "* Load the data present in 'footballer_small.csv' using the pandas library and store the loaded data in a dataframe\n",
    "* Drop the variables: 'ID','club','club_logo','flag', 'nationality','photo','potential', 'birth_date'\n",
    "* Dummy code the variables: work_rate_att, work_rate_def, preferred_foot. **Because we are running a regularized model, we do not want to drop the first column**. If you want to understand why this is, have a look at the Jupyter notebook (`Ridge_And_Dummycoding.ipynb`).  \n",
    "* Get a test data set of size 500 - to make results comparable to solutions, set random_state = 0\n",
    "* visualize all variables of the first 50 observations of the Training data set as an image (see Lab06_followalong). You can also look at it as a data frame. How are the different variables scaled? Which variables have high and which ones have low values?    \n",
    "\n",
    "To make sure that you get a good start - check the solutions from Assignment 4. And make sure you can apply these steps flexibly and quickly. **You will need it for the midterm!**"
   ]
  },
  {
   "cell_type": "code",
   "execution_count": 21,
   "metadata": {},
   "outputs": [
    {
     "name": "stdout",
     "output_type": "stream",
     "text": [
      "Training set size: (2500, 48)\n"
     ]
    },
    {
     "data": {
      "image/png": "[encoded data removed]",
      "text/plain": [
       "<Figure size 432x288 with 2 Axes>"
      ]
     },
     "metadata": {
      "needs_background": "light"
     },
     "output_type": "display_data"
    },
    {
     "data": {
      "text/html": [
       "<div>\n",
       "<style scoped>\n",
       "    .dataframe tbody tr th:only-of-type {\n",
       "        vertical-align: middle;\n",
       "    }\n",
       "\n",
       "    .dataframe tbody tr th {\n",
       "        vertical-align: top;\n",
       "    }\n",
       "\n",
       "    .dataframe thead th {\n",
       "        text-align: right;\n",
       "    }\n",
       "</style>\n",
       "<table border=\"1\" class=\"dataframe\">\n",
       "  <thead>\n",
       "    <tr style=\"text-align: right;\">\n",
       "      <th></th>\n",
       "      <th>age</th>\n",
       "      <th>height_cm</th>\n",
       "      <th>weight_kg</th>\n",
       "      <th>pac</th>\n",
       "      <th>sho</th>\n",
       "      <th>pas</th>\n",
       "      <th>dri</th>\n",
       "      <th>def</th>\n",
       "      <th>phy</th>\n",
       "      <th>international_reputation</th>\n",
       "      <th>skill_moves</th>\n",
       "      <th>weak_foot</th>\n",
       "      <th>crossing</th>\n",
       "      <th>finishing</th>\n",
       "      <th>heading_accuracy</th>\n",
       "      <th>short_passing</th>\n",
       "      <th>volleys</th>\n",
       "      <th>dribbling</th>\n",
       "      <th>curve</th>\n",
       "      <th>free_kick_accuracy</th>\n",
       "      <th>long_passing</th>\n",
       "      <th>ball_control</th>\n",
       "      <th>acceleration</th>\n",
       "      <th>sprint_speed</th>\n",
       "      <th>agility</th>\n",
       "      <th>reactions</th>\n",
       "      <th>balance</th>\n",
       "      <th>shot_power</th>\n",
       "      <th>jumping</th>\n",
       "      <th>stamina</th>\n",
       "      <th>strength</th>\n",
       "      <th>long_shots</th>\n",
       "      <th>aggression</th>\n",
       "      <th>interceptions</th>\n",
       "      <th>positioning</th>\n",
       "      <th>vision</th>\n",
       "      <th>penalties</th>\n",
       "      <th>composure</th>\n",
       "      <th>marking</th>\n",
       "      <th>standing_tackle</th>\n",
       "      <th>work_rate_att_Low</th>\n",
       "      <th>work_rate_att_Medium</th>\n",
       "      <th>work_rate_att_High</th>\n",
       "      <th>work_rate_def_Low</th>\n",
       "      <th>work_rate_def_Medium</th>\n",
       "      <th>work_rate_def_High</th>\n",
       "      <th>preferred_foot_Left</th>\n",
       "      <th>preferred_foot_Right</th>\n",
       "    </tr>\n",
       "  </thead>\n",
       "  <tbody>\n",
       "    <tr>\n",
       "      <th>0</th>\n",
       "      <td>29</td>\n",
       "      <td>186.0</td>\n",
       "      <td>82.0</td>\n",
       "      <td>70</td>\n",
       "      <td>50</td>\n",
       "      <td>56</td>\n",
       "      <td>61</td>\n",
       "      <td>66</td>\n",
       "      <td>74</td>\n",
       "      <td>1</td>\n",
       "      <td>2</td>\n",
       "      <td>3</td>\n",
       "      <td>58</td>\n",
       "      <td>44</td>\n",
       "      <td>65</td>\n",
       "      <td>59</td>\n",
       "      <td>49</td>\n",
       "      <td>56</td>\n",
       "      <td>48</td>\n",
       "      <td>42</td>\n",
       "      <td>58</td>\n",
       "      <td>68</td>\n",
       "      <td>64</td>\n",
       "      <td>74</td>\n",
       "      <td>66</td>\n",
       "      <td>62</td>\n",
       "      <td>59</td>\n",
       "      <td>59</td>\n",
       "      <td>80</td>\n",
       "      <td>73</td>\n",
       "      <td>76</td>\n",
       "      <td>51</td>\n",
       "      <td>70</td>\n",
       "      <td>64</td>\n",
       "      <td>43</td>\n",
       "      <td>52</td>\n",
       "      <td>69</td>\n",
       "      <td>65</td>\n",
       "      <td>63</td>\n",
       "      <td>70</td>\n",
       "      <td>0</td>\n",
       "      <td>1</td>\n",
       "      <td>0</td>\n",
       "      <td>0</td>\n",
       "      <td>1</td>\n",
       "      <td>0</td>\n",
       "      <td>0</td>\n",
       "      <td>1</td>\n",
       "    </tr>\n",
       "    <tr>\n",
       "      <th>1</th>\n",
       "      <td>21</td>\n",
       "      <td>194.0</td>\n",
       "      <td>87.0</td>\n",
       "      <td>61</td>\n",
       "      <td>57</td>\n",
       "      <td>53</td>\n",
       "      <td>61</td>\n",
       "      <td>45</td>\n",
       "      <td>54</td>\n",
       "      <td>1</td>\n",
       "      <td>1</td>\n",
       "      <td>2</td>\n",
       "      <td>15</td>\n",
       "      <td>19</td>\n",
       "      <td>15</td>\n",
       "      <td>25</td>\n",
       "      <td>13</td>\n",
       "      <td>16</td>\n",
       "      <td>16</td>\n",
       "      <td>15</td>\n",
       "      <td>19</td>\n",
       "      <td>18</td>\n",
       "      <td>48</td>\n",
       "      <td>42</td>\n",
       "      <td>40</td>\n",
       "      <td>57</td>\n",
       "      <td>33</td>\n",
       "      <td>20</td>\n",
       "      <td>44</td>\n",
       "      <td>39</td>\n",
       "      <td>56</td>\n",
       "      <td>14</td>\n",
       "      <td>25</td>\n",
       "      <td>23</td>\n",
       "      <td>12</td>\n",
       "      <td>26</td>\n",
       "      <td>22</td>\n",
       "      <td>22</td>\n",
       "      <td>15</td>\n",
       "      <td>16</td>\n",
       "      <td>0</td>\n",
       "      <td>1</td>\n",
       "      <td>0</td>\n",
       "      <td>0</td>\n",
       "      <td>1</td>\n",
       "      <td>0</td>\n",
       "      <td>0</td>\n",
       "      <td>1</td>\n",
       "    </tr>\n",
       "    <tr>\n",
       "      <th>2</th>\n",
       "      <td>23</td>\n",
       "      <td>175.0</td>\n",
       "      <td>72.0</td>\n",
       "      <td>85</td>\n",
       "      <td>28</td>\n",
       "      <td>55</td>\n",
       "      <td>62</td>\n",
       "      <td>60</td>\n",
       "      <td>68</td>\n",
       "      <td>1</td>\n",
       "      <td>2</td>\n",
       "      <td>2</td>\n",
       "      <td>60</td>\n",
       "      <td>22</td>\n",
       "      <td>54</td>\n",
       "      <td>58</td>\n",
       "      <td>24</td>\n",
       "      <td>59</td>\n",
       "      <td>30</td>\n",
       "      <td>35</td>\n",
       "      <td>57</td>\n",
       "      <td>62</td>\n",
       "      <td>88</td>\n",
       "      <td>83</td>\n",
       "      <td>70</td>\n",
       "      <td>53</td>\n",
       "      <td>75</td>\n",
       "      <td>43</td>\n",
       "      <td>73</td>\n",
       "      <td>79</td>\n",
       "      <td>65</td>\n",
       "      <td>24</td>\n",
       "      <td>58</td>\n",
       "      <td>52</td>\n",
       "      <td>48</td>\n",
       "      <td>55</td>\n",
       "      <td>31</td>\n",
       "      <td>34</td>\n",
       "      <td>60</td>\n",
       "      <td>67</td>\n",
       "      <td>0</td>\n",
       "      <td>1</td>\n",
       "      <td>0</td>\n",
       "      <td>0</td>\n",
       "      <td>0</td>\n",
       "      <td>1</td>\n",
       "      <td>0</td>\n",
       "      <td>1</td>\n",
       "    </tr>\n",
       "    <tr>\n",
       "      <th>3</th>\n",
       "      <td>26</td>\n",
       "      <td>185.0</td>\n",
       "      <td>80.0</td>\n",
       "      <td>76</td>\n",
       "      <td>54</td>\n",
       "      <td>67</td>\n",
       "      <td>73</td>\n",
       "      <td>69</td>\n",
       "      <td>78</td>\n",
       "      <td>1</td>\n",
       "      <td>2</td>\n",
       "      <td>3</td>\n",
       "      <td>76</td>\n",
       "      <td>41</td>\n",
       "      <td>60</td>\n",
       "      <td>64</td>\n",
       "      <td>52</td>\n",
       "      <td>75</td>\n",
       "      <td>59</td>\n",
       "      <td>40</td>\n",
       "      <td>73</td>\n",
       "      <td>73</td>\n",
       "      <td>73</td>\n",
       "      <td>78</td>\n",
       "      <td>67</td>\n",
       "      <td>68</td>\n",
       "      <td>63</td>\n",
       "      <td>65</td>\n",
       "      <td>70</td>\n",
       "      <td>87</td>\n",
       "      <td>79</td>\n",
       "      <td>74</td>\n",
       "      <td>67</td>\n",
       "      <td>75</td>\n",
       "      <td>68</td>\n",
       "      <td>68</td>\n",
       "      <td>38</td>\n",
       "      <td>66</td>\n",
       "      <td>66</td>\n",
       "      <td>69</td>\n",
       "      <td>0</td>\n",
       "      <td>1</td>\n",
       "      <td>0</td>\n",
       "      <td>0</td>\n",
       "      <td>1</td>\n",
       "      <td>0</td>\n",
       "      <td>0</td>\n",
       "      <td>1</td>\n",
       "    </tr>\n",
       "    <tr>\n",
       "      <th>4</th>\n",
       "      <td>19</td>\n",
       "      <td>182.0</td>\n",
       "      <td>76.0</td>\n",
       "      <td>47</td>\n",
       "      <td>46</td>\n",
       "      <td>51</td>\n",
       "      <td>50</td>\n",
       "      <td>39</td>\n",
       "      <td>47</td>\n",
       "      <td>1</td>\n",
       "      <td>1</td>\n",
       "      <td>2</td>\n",
       "      <td>14</td>\n",
       "      <td>11</td>\n",
       "      <td>13</td>\n",
       "      <td>26</td>\n",
       "      <td>12</td>\n",
       "      <td>14</td>\n",
       "      <td>11</td>\n",
       "      <td>11</td>\n",
       "      <td>22</td>\n",
       "      <td>15</td>\n",
       "      <td>37</td>\n",
       "      <td>41</td>\n",
       "      <td>33</td>\n",
       "      <td>45</td>\n",
       "      <td>43</td>\n",
       "      <td>18</td>\n",
       "      <td>56</td>\n",
       "      <td>28</td>\n",
       "      <td>49</td>\n",
       "      <td>12</td>\n",
       "      <td>18</td>\n",
       "      <td>12</td>\n",
       "      <td>12</td>\n",
       "      <td>25</td>\n",
       "      <td>16</td>\n",
       "      <td>38</td>\n",
       "      <td>12</td>\n",
       "      <td>12</td>\n",
       "      <td>0</td>\n",
       "      <td>1</td>\n",
       "      <td>0</td>\n",
       "      <td>0</td>\n",
       "      <td>1</td>\n",
       "      <td>0</td>\n",
       "      <td>0</td>\n",
       "      <td>1</td>\n",
       "    </tr>\n",
       "  </tbody>\n",
       "</table>\n",
       "</div>"
      ],
      "text/plain": [
       "   age  height_cm  weight_kg  pac  sho  pas  dri  def  phy  \\\n",
       "0   29      186.0       82.0   70   50   56   61   66   74   \n",
       "1   21      194.0       87.0   61   57   53   61   45   54   \n",
       "2   23      175.0       72.0   85   28   55   62   60   68   \n",
       "3   26      185.0       80.0   76   54   67   73   69   78   \n",
       "4   19      182.0       76.0   47   46   51   50   39   47   \n",
       "\n",
       "   international_reputation  skill_moves  weak_foot  crossing  finishing  \\\n",
       "0                         1            2          3        58         44   \n",
       "1                         1            1          2        15         19   \n",
       "2                         1            2          2        60         22   \n",
       "3                         1            2          3        76         41   \n",
       "4                         1            1          2        14         11   \n",
       "\n",
       "   heading_accuracy  short_passing  volleys  dribbling  curve  \\\n",
       "0                65             59       49         56     48   \n",
       "1                15             25       13         16     16   \n",
       "2                54             58       24         59     30   \n",
       "3                60             64       52         75     59   \n",
       "4                13             26       12         14     11   \n",
       "\n",
       "   free_kick_accuracy  long_passing  ball_control  acceleration  sprint_speed  \\\n",
       "0                  42            58            68            64            74   \n",
       "1                  15            19            18            48            42   \n",
       "2                  35            57            62            88            83   \n",
       "3                  40            73            73            73            78   \n",
       "4                  11            22            15            37            41   \n",
       "\n",
       "   agility  reactions  balance  shot_power  jumping  stamina  strength  \\\n",
       "0       66         62       59          59       80       73        76   \n",
       "1       40         57       33          20       44       39        56   \n",
       "2       70         53       75          43       73       79        65   \n",
       "3       67         68       63          65       70       87        79   \n",
       "4       33         45       43          18       56       28        49   \n",
       "\n",
       "   long_shots  aggression  interceptions  positioning  vision  penalties  \\\n",
       "0          51          70             64           43      52         69   \n",
       "1          14          25             23           12      26         22   \n",
       "2          24          58             52           48      55         31   \n",
       "3          74          67             75           68      68         38   \n",
       "4          12          18             12           12      25         16   \n",
       "\n",
       "   composure  marking  standing_tackle  work_rate_att_Low  \\\n",
       "0         65       63               70                  0   \n",
       "1         22       15               16                  0   \n",
       "2         34       60               67                  0   \n",
       "3         66       66               69                  0   \n",
       "4         38       12               12                  0   \n",
       "\n",
       "   work_rate_att_Medium  work_rate_att_High  work_rate_def_Low  \\\n",
       "0                     1                   0                  0   \n",
       "1                     1                   0                  0   \n",
       "2                     1                   0                  0   \n",
       "3                     1                   0                  0   \n",
       "4                     1                   0                  0   \n",
       "\n",
       "   work_rate_def_Medium  work_rate_def_High  preferred_foot_Left  \\\n",
       "0                     1                   0                    0   \n",
       "1                     1                   0                    0   \n",
       "2                     0                   1                    0   \n",
       "3                     1                   0                    0   \n",
       "4                     1                   0                    0   \n",
       "\n",
       "   preferred_foot_Right  \n",
       "0                     1  \n",
       "1                     1  \n",
       "2                     1  \n",
       "3                     1  \n",
       "4                     1  "
      ]
     },
     "execution_count": 21,
     "metadata": {},
     "output_type": "execute_result"
    }
   ],
   "source": [
    "df = pd.read_csv('footballer_small.csv')\n",
    "\n",
    "# Drop the aformentioned columns\n",
    "model_data = df.drop(['ID','club','club_logo','flag', 'nationality','photo','potential', 'birth_date'], axis = 'columns')\n",
    "\n",
    "# In order to get dummies, convert categorical data to categorical type\n",
    "model_data['work_rate_att'] = pd.Categorical(model_data.work_rate_att, categories=['Low','Medium','High'])\n",
    "model_data['work_rate_def'] = pd.Categorical(model_data.work_rate_def, categories=['Low','Medium','High'])\n",
    "model_data['preferred_foot'] = pd.Categorical(model_data.preferred_foot, categories = ['Left','Right'])\n",
    "\n",
    "# Dummies, without dropping the first category\n",
    "model_data = pd.get_dummies(model_data, drop_first=False)\n",
    "\n",
    "y = model_data.overall\n",
    "X = model_data.drop('overall', axis = 'columns')\n",
    "\n",
    "# Random state assures that folds are consistent across models\n",
    "Xtrain, Xtest, ytrain, ytest = train_test_split(X,\n",
    "                                                y, \n",
    "                                                test_size = 500, \n",
    "                                                random_state = 0)\n",
    "print('Training set size:', Xtrain.shape)\n",
    "\n",
    "# Show as an image \n",
    "plt.imshow(Xtrain.values[0:50,:], cmap='gray')\n",
    "plt.colorbar()\n",
    "plt.show()\n",
    "\n",
    "# show as a data frame \n",
    "X.head()"
   ]
  },
  {
   "cell_type": "markdown",
   "metadata": {},
   "source": [
    "**Both the image and the data frame inspection show that the variables are not evenly scaled. The second column (height) has very large values, whereas reputation, skills, weak_foot and the indicator matrix in the end are very low.**  "
   ]
  },
  {
   "cell_type": "markdown",
   "metadata": {},
   "source": [
    "## Question 2: Standardization  (10 pts)\n",
    "When using regularized regression models, the scaling of the different regressors can influence the results dramatically (see lectures). One simple solution is to standardize all features before estimating the model, so that no feature can dominate others due to differences in feature scales. \n",
    "\n",
    "a) Use the sklearn class `StandardScaler` to produce a z-scale version of your training data set. Again visualize the the first 50 observations an image. Compare to the plot that you got in Question 1. What do you observe? \n",
    "\n",
    "b) Plot a histogram of the second column (height_cm) of the non-standarized and standardized training set. What is the mean and variance of the standardized training set. \n",
    "\n",
    "c) Build a model `pipeline` that first standarizes all the features in the training set and then fits a `LinearRegression` model. \n"
   ]
  },
  {
   "cell_type": "code",
   "execution_count": 22,
   "metadata": {},
   "outputs": [
    {
     "data": {
      "image/png": "[encoded data removed]",
      "text/plain": [
       "<Figure size 432x288 with 2 Axes>"
      ]
     },
     "metadata": {
      "needs_background": "light"
     },
     "output_type": "display_data"
    }
   ],
   "source": [
    "# a) Standarize and plot image \n",
    "StdScl = StandardScaler() # Make Scaler object \n",
    "std_Xtrain = StdScl.fit_transform(Xtrain) # Scale the design matrix\n",
    "# Show as an image \n",
    "plt.imshow(std_Xtrain[0:50,:], cmap='gray')\n",
    "plt.colorbar()\n",
    "plt.show()"
   ]
  },
  {
   "cell_type": "markdown",
   "metadata": {},
   "source": [
    "All features are now centered around zero and evenly scaled "
   ]
  },
  {
   "cell_type": "code",
   "execution_count": 23,
   "metadata": {},
   "outputs": [
    {
     "data": {
      "text/plain": [
       "[Text(0, 0.5, 'frequency'),\n",
       " Text(0.5, 0, 'stamina'),\n",
       " Text(0.5, 1.0, 'After Standardization')]"
      ]
     },
     "execution_count": 23,
     "metadata": {},
     "output_type": "execute_result"
    },
    {
     "data": {
      "image/png": "[encoded data removed]",
      "text/plain": [
       "<Figure size 1080x432 with 2 Axes>"
      ]
     },
     "metadata": {
      "needs_background": "light"
     },
     "output_type": "display_data"
    }
   ],
   "source": [
    "# b) Plot historgram \n",
    "plt.figure(figsize=(15,6))\n",
    "plt.subplot(1, 2, 1)\n",
    "ax = sns.histplot(Xtrain.values[:,1],\n",
    "                 bins=50,\n",
    "                 kde=True,\n",
    "                 color='skyblue',\n",
    "                 cbar_kws={\"linewidth\": 15,'alpha':1})\n",
    "ax.set(xlabel='stamina', ylabel='frequency', title=\"Before Standardization\")\n",
    "plt.subplot(1, 2, 2)\n",
    "\n",
    "ax = sns.histplot(std_Xtrain[:,1],\n",
    "                 bins=50,\n",
    "                 kde=True,\n",
    "                 color='skyblue',\n",
    "                 cbar_kws={\"linewidth\": 15,'alpha':1})\n",
    "ax.set(xlabel='stamina', ylabel='frequency', title=\"After Standardization\")"
   ]
  },
  {
   "cell_type": "markdown",
   "metadata": {},
   "source": [
    "The distribution is unchanged - but the mean has been shifted towards zero and the variance is now 1. "
   ]
  },
  {
   "cell_type": "code",
   "execution_count": 24,
   "metadata": {},
   "outputs": [],
   "source": [
    "# c: Build pipeline\n",
    "model_pipeline = Pipeline([\n",
    "    ('standardize', StandardScaler()),\n",
    "    ('reg', sk.linear_model.LinearRegression())\n",
    "])"
   ]
  },
  {
   "cell_type": "markdown",
   "metadata": {},
   "source": [
    "## Question 3: Comparing different complex features (10 pts)\n",
    "In this task, we will first consider a model that includes all the variables in the data AND all quadratic terms (i.e. each features to the power of two, and the products (interactions) between all possible pairs of features. \n",
    "\n",
    "a) Generate a design matrix for the model. You can use sklearn's `PolynomialFeatures` to do the job. Because sklearn's linear models have the option to fit the intercept, internally, set the `include_bias` option to `False`. \n",
    "* How many linear terms are in each of the new feature set?\n",
    "* How many squared terms are in each of the new feature set?\n",
    "* How many interaction terms are in each of the new feature set? Give an example of one of the interaction terms. \n",
    "\n",
    "b) Now generate 3 more models / design matrices. Again it should include all quadratic terms and 2-way interactions - but each model should drop one of the features\n",
    "* Second Model: Drop `standing_tackle`\n",
    "* Third Model: Drop `composure`\n",
    "* Fourth model: Drop `marking`\n",
    "\n",
    "Hint: For these models, create the design matrix without the aforementioned features and then apply polynomial expansion to the remaing features. \n"
   ]
  },
  {
   "cell_type": "code",
   "execution_count": 25,
   "metadata": {},
   "outputs": [
    {
     "data": {
      "text/plain": [
       "(2500, 1224)"
      ]
     },
     "execution_count": 25,
     "metadata": {},
     "output_type": "execute_result"
    }
   ],
   "source": [
    "# a) Make the new expanded design matrix \n",
    "\n",
    "poly = sk.preprocessing.PolynomialFeatures(2, include_bias=False)\n",
    "X_new_train = poly.fit_transform(Xtrain)\n",
    "X_new_train.shape"
   ]
  },
  {
   "cell_type": "markdown",
   "metadata": {},
   "source": [
    "Here are 48 columns in our original design matrix. \n",
    "\n",
    "Setting `degree=2` and `interactions_only=False` computes $x_i\\cdot x_j$ for all $i,j=1, \\cdots, 48$ and then adds this to our original design matrix. Note that when $i\\neq j$, the ordering of the terms does not matter. This is a total of\n",
    "\n",
    "* 48 linear linear terms\n",
    "* 48 squared terms \n",
    "* 48x47/2  interaction terms (If you are interested in knowing how I computed this, read the wikipedia page for \"Triangular Number\").\n",
    "\n",
    "Total of 1224 features"
   ]
  },
  {
   "cell_type": "code",
   "execution_count": 26,
   "metadata": {},
   "outputs": [],
   "source": [
    "# Make design matrices without one of the features\n",
    "Xwithout_standing = Xtrain.drop(['standing_tackle'], axis='columns')\n",
    "Xwithout_standing = poly.fit_transform(Xwithout_standing)\n",
    "\n",
    "Xwithout_composure = Xtrain.drop(['composure'], axis='columns')\n",
    "Xwithout_composure = poly.fit_transform(Xwithout_composure)\n",
    "\n",
    "Xwithout_marking= Xtrain.drop(['marking'], axis='columns')\n",
    "Xwithout_marking = poly.fit_transform(Xwithout_marking)"
   ]
  },
  {
   "cell_type": "markdown",
   "metadata": {},
   "source": [
    "## Question 4: Evaluating the backward feature search (10 pts)\n",
    "In this question, you have to use the pipeline created in question 2 and apply it to each of the models in question 3. Use 10-fold cross validation to report the validation error on the models using mean squared error as the metric. <br>\n",
    "Show all the steps of the process and compare and analyze the results using the validation error reported. For this first step in the backwards search, which feature would you drop? "
   ]
  },
  {
   "cell_type": "code",
   "execution_count": 27,
   "metadata": {},
   "outputs": [
    {
     "name": "stdout",
     "output_type": "stream",
     "text": [
      "base model 2.974946308807408\n",
      "model without standing tackle 2.747797303780692\n",
      "model without composure 2.7955817375187033\n",
      "model without marking 2.694920751659353\n"
     ]
    }
   ],
   "source": [
    "cv_score=cross_val_score(model_pipeline, X_new_train, ytrain, cv=10, scoring='neg_mean_squared_error')\n",
    "print('base model', -cv_score.mean())\n",
    "\n",
    "cv_score=cross_val_score(model_pipeline, Xwithout_standing, ytrain, cv=10, scoring='neg_mean_squared_error')\n",
    "print('model without standing tackle', -cv_score.mean())\n",
    "\n",
    "cv_score=cross_val_score(model_pipeline, Xwithout_composure, ytrain, cv=10, scoring='neg_mean_squared_error')\n",
    "print('model without composure', -cv_score.mean())\n",
    "\n",
    "cv_score=cross_val_score(model_pipeline, Xwithout_marking, ytrain, cv=10, scoring='neg_mean_squared_error')\n",
    "print('model without marking', -cv_score.mean())"
   ]
  },
  {
   "cell_type": "markdown",
   "metadata": {},
   "source": [
    "The base model that includes all the features is the worst performing model. The best performing model out of the four models is the model that excludes the marking feature and its corresponding quadratic and interacting feature. This means that this feature has contributed to the degradation of the quality of the model. In a backward search, I would therefore drop that feature and make this model the new base model.  "
   ]
  },
  {
   "cell_type": "markdown",
   "metadata": {},
   "source": [
    "## Question 5: Applying Ridge Regression (10 pts)\n",
    "Build a pipeline that performs scaling and fits the ridge regression on the data that includes the polynomial expansion of all the features. The ridge parameter ($\\lambda$ or `alpha` in sklearn) should be set to 0.5. Use the pipeline to report the validation error using mean square error metric. Use 10-fold cross validation. "
   ]
  },
  {
   "cell_type": "code",
   "execution_count": 28,
   "metadata": {},
   "outputs": [
    {
     "name": "stdout",
     "output_type": "stream",
     "text": [
      "1.714677002041243\n"
     ]
    }
   ],
   "source": [
    "pip = Pipeline([\n",
    "    ('standardize', StandardScaler()),\n",
    "    ('reg', Ridge(alpha=0.5, fit_intercept=True))\n",
    "])\n",
    "\n",
    "cv_scores = cross_val_score(pip,\n",
    "                           X_new_train,\n",
    "                           ytrain,\n",
    "                           cv=10,\n",
    "                           scoring='neg_mean_squared_error')\n",
    "meancv=-cv_scores.mean()\n",
    "print(meancv)"
   ]
  },
  {
   "cell_type": "markdown",
   "metadata": {},
   "source": [
    "## Question 6: Tune the Ridge coefficient for the 2nd-order model (15 pts)\n",
    "Perform the search going from $\\lambda = \\exp(-8), \\cdots, \\exp(6)$ in 15 evenly spaced increments on the log scale. \n",
    "\n",
    "For each setting of lambda, calculate the training error when fitting the regularized model to the entire trainign data set, and the prediction error by studying the performance on the left-out part using 10-fold cross-validation. (*Note this calculation can take a bit, be patient*)\n",
    "\n",
    "Plot the mean squared training error and mean squared validation error as a function of $\\log(\\lambda)$. \n",
    "\n",
    "Note: Although you can ultimately use `GridSearchCV` from sklearn, in this task you need to program a for-loop interating over all the levels of $\\lambda$.  \n",
    "\n",
    "### Questions: \n",
    "\n",
    "What is the best regularization parameter? \n",
    "\n",
    "Why does the validation error increase as $\\lambda \\rightarrow 0$, while the training error decreases from the optimal value?  Why does both the training and the validation error increase when $\\lambda \\rightarrow \\infty$?  Answer in terms of the bias variance trade off and model complexity.\n"
   ]
  },
  {
   "cell_type": "code",
   "execution_count": 29,
   "metadata": {},
   "outputs": [
    {
     "data": {
      "text/plain": [
       "Text(0.5, 0, '$\\\\log(\\\\lambda)$')"
      ]
     },
     "execution_count": 29,
     "metadata": {},
     "output_type": "execute_result"
    },
    {
     "data": {
      "image/png": "[encoded data removed]",
      "text/plain": [
       "<Figure size 432x288 with 1 Axes>"
      ]
     },
     "metadata": {
      "needs_background": "light"
     },
     "output_type": "display_data"
    }
   ],
   "source": [
    "params = np.exp(np.linspace(-8,6,15))\n",
    "mse_cv = np.zeros(params.shape)\n",
    "mse_train = np.zeros(params.shape)\n",
    "\n",
    "for i,lam in enumerate(params):\n",
    "    pip = Pipeline([\n",
    "    ('standardize', StandardScaler()),\n",
    "    ('reg', Ridge(alpha=lam, fit_intercept=True))])\n",
    "    cv_scores = cross_val_score(pip, X_new_train, ytrain,cv=10,scoring = 'neg_mean_squared_error')\n",
    "    mse_cv[i]=-cv_scores.mean()\n",
    "    pip.fit(X_new_train,ytrain) \n",
    "    Yp = pip.predict(X_new_train)\n",
    "    mse_train[i]= np.mean((ytrain-Yp)**2) \n",
    "\n",
    "plt.scatter( np.linspace(-8, 6,15),mse_cv)\n",
    "plt.scatter( np.linspace(-8, 6,15),mse_train)\n",
    "plt.xlabel(r'$\\log(\\lambda)$')"
   ]
  },
  {
   "cell_type": "markdown",
   "metadata": {},
   "source": [
    "### Answer: \n",
    "The best value is $\\lambda = exp(2)$. \n",
    "\n",
    "As $\\lambda \\rightarrow 0$, the model is becoming more complex. The model prediction is less biased (lower training error), but also more variable, which causes the validation error to increase. \n",
    "\n",
    "As $\\lambda \\rightarrow \\infty$, the model is becoming less complex. The variability decreases, but the bias increases, causing both the training and validation error to increase. "
   ]
  },
  {
   "cell_type": "markdown",
   "metadata": {},
   "source": [
    "## Question 7: Test error  (10 pts)\n",
    "Now fit the model using ridge regression, using the lambda-value that you determined works best (in terms of crossvalidated mse) from Question 6. Fit the model on the whole training set. \n",
    "\n",
    "Report the mean squared error on the test data - along with the 95% confidence interval, determined with the central limit theorem (remember assignment 5). "
   ]
  },
  {
   "cell_type": "code",
   "execution_count": 30,
   "metadata": {},
   "outputs": [
    {
     "name": "stdout",
     "output_type": "stream",
     "text": [
      "Mean squared error:  1.7057441746268402\n",
      "95% CI:  [1.38183746 2.02965089]\n"
     ]
    }
   ],
   "source": [
    "X_new_test = poly.fit_transform(Xtest)\n",
    "pip = Pipeline([\n",
    "    ('standardize', StandardScaler()),\n",
    "    ('reg', Ridge(alpha=np.exp(2), fit_intercept=True))])\n",
    "pip.fit(X_new_train,ytrain)\n",
    "ypred = pip.predict(X_new_test)\n",
    "sqerr = (ytest-ypred)**2 \n",
    "test_error = sqerr.mean() \n",
    "test_ci = test_error + 1.96 * np.std(sqerr) / np.sqrt(len(sqerr)) * np.array([-1, 1])\n",
    "\n",
    "print(\"Mean squared error: \",test_error)\n",
    "print(\"95% CI: \",test_ci)\n"
   ]
  },
  {
   "cell_type": "markdown",
   "metadata": {},
   "source": [
    "## Question 8: Lasso Regression (10 pts)\n",
    "That's great! You can achieve a really good prediction accuracy with much less data than in Week 5. Impressive! \n",
    "\n",
    "Now the problem is that the model is really hard to interpret and explain to clients- the importance of each feature is not easily apparent. So let's build a simpler model, which is only based on the first nine features:\n",
    "* age\n",
    "* height_cm\n",
    "* weight_kg \n",
    "* pac: ???  \n",
    "* sho: shooting \n",
    "* pas: passing \n",
    "* dri: dribble \n",
    "* def: defense\n",
    "* phy: Physiological VO2 max\n",
    "\n",
    "Build a design matrix using only these nine features. Standardize the design matrix using the standard scalar. \n",
    "Then use `sklearn.linear_model.lasso_path` to create a plot of the regression coefficients against the log-regularization parameter (see `Lab06_followalong`). Note that it is standard practice to plot on the x-axis the negative log-lambda values, such that the high regularization (and hence the simpler models) are on the left. \n",
    "\n",
    "Which of the 9 variables drops out of the predicitive model first? Which one is retained for the longest time? "
   ]
  },
  {
   "cell_type": "code",
   "execution_count": 34,
   "metadata": {},
   "outputs": [
    {
     "data": {
      "image/png": "[encoded data removed]",
      "text/plain": [
       "<Figure size 432x288 with 1 Axes>"
      ]
     },
     "metadata": {
      "needs_background": "light"
     },
     "output_type": "display_data"
    }
   ],
   "source": [
    "# Make a new, reduced design matrix \n",
    "Xt = Xtrain.iloc[:,0:9]\n",
    "Xts = StdScl.fit_transform(Xt)\n",
    "\n",
    "# Create a lasso path \n",
    "eps = 0.01\n",
    "lambda_lasso, coefs_lasso, _ = sk.linear_model.lasso_path(Xts, ytrain, eps=eps,\n",
    "                                                          n_alphas=100, alphas= None, fit_intercept=True)\n",
    "\n",
    "# Plot the lasso path\n",
    "colors = ['b', 'r', 'g', 'c', 'k','c','k','r','b']\n",
    "neg_log_lambda = -np.log(lambda_lasso)\n",
    "for i in range(9):\n",
    "    l1 = plt.plot(neg_log_lambda, coefs_lasso[i,], c=colors[i])\n",
    "    label = Xt.columns[i]\n",
    "    plt.annotate(label, # this is the text\n",
    "                 (neg_log_lambda[-1],coefs_lasso[i,-1]), # this is the point to label\n",
    "                 textcoords=\"offset points\", # how to position the text\n",
    "                 xytext=(0,10), # distance from text to points (x,y)\n",
    "                 ha='center',\n",
    "                 color = colors[i]) # horizontal alignment can be left, right or center\n",
    "                "
   ]
  },
  {
   "cell_type": "markdown",
   "metadata": {},
   "source": [
    "**Answer: Weight_kg (shortly followed by height_cm) is the first variable to be removed from the predictive model. \n",
    "Pas (passing ability) is the variable that is retained for the longest time in the model. This is even though in the full model it is not the variable that has the highest weight.**"
   ]
  },
  {
   "cell_type": "markdown",
   "metadata": {},
   "source": [
    "## Question 9: Tuning the lasso coefficient (10pts) \n",
    "We now want to find a model that is both simple (explainable), but at the same time yields still relatively decent predictions. To assess this, vary the regularization constant of the lasso model between exp(2) end exp(-3.5). That is, vary negative log lambda between -2 and 3.5 in even steps. \n",
    "Plot the crossvalidation error (mean squared error) against negative-log-lambda of the model. \n",
    "\n",
    "Hint: You can either program a for-loop as in Question 6, or use the function `GridSearchCV`. \n",
    "\n",
    "What is the simplest model that still gives you a expected validation error of below 15? \n",
    "If you wanted the best validation error, what $\\lambda$ would you need to use?"
   ]
  },
  {
   "cell_type": "code",
   "execution_count": 32,
   "metadata": {},
   "outputs": [
    {
     "data": {
      "text/plain": [
       "Text(0, 0.5, 'Validation error')"
      ]
     },
     "execution_count": 32,
     "metadata": {},
     "output_type": "execute_result"
    },
    {
     "data": {
      "image/png": "[encoded data removed]",
      "text/plain": [
       "<Figure size 432x288 with 1 Axes>"
      ]
     },
     "metadata": {
      "needs_background": "light"
     },
     "output_type": "display_data"
    }
   ],
   "source": [
    "pip = Pipeline([\n",
    "    ('standardize', StandardScaler()),\n",
    "    ('reg', Lasso(alpha=lam, fit_intercept=True))])\n",
    "\n",
    "neg_log_lambda = np.linspace(-2,3.5,10)\n",
    "params = {'reg__alpha': np.exp(-neg_log_lambda)}\n",
    "\n",
    "gscv = GridSearchCV(pip, param_grid=params, cv=10, scoring = 'neg_mean_squared_error', refit=True)\n",
    "gscv.fit(Xts, ytrain)\n",
    "results = pd.DataFrame(gscv.cv_results_)\n",
    "\n",
    "plt.scatter( neg_log_lambda, -results.mean_test_score)\n",
    "plt.xlabel(r'$-\\log(\\lambda)$')\n",
    "plt.ylabel('Validation error')\n"
   ]
  },
  {
   "cell_type": "markdown",
   "metadata": {},
   "source": [
    "**Answer: The model with negative log lambda of 1.05 is the simplest (most regularized model that still has a validation error of below 15. The best lambda is the smallest  value ($exp(-3.5)$).**"
   ]
  },
  {
   "cell_type": "markdown",
   "metadata": {},
   "source": [
    "## Question  10: Lasso vs. Ridge (10pts)\n",
    "In this quesiton, we will compare Ridge regression and Lasso solutions on the model defined in Question 8. Make sure you are using a standardized design matrix for this task. \n",
    "\n",
    "Fit the model using Ridge (L2- regularization, $\\lambda = exp(-3)$) and Lasso (L1-regularization, $\\lambda = exp(-0.5)$. Then print out the regression coefficients for each of the nine features in the design matrix. \n",
    "\n",
    "Based on the coefficients, which one is the most important feature in the Ridge vs. Lasso solution? How many features are contributing to the prediction for each solution? How can this difference be explained? \n"
   ]
  },
  {
   "cell_type": "code",
   "execution_count": 33,
   "metadata": {},
   "outputs": [
    {
     "name": "stdout",
     "output_type": "stream",
     "text": [
      "Ridge coefficients [0.93 0.25 0.17 0.77 1.16 0.42 2.8  1.91 2.32]\n",
      "Lasso Coefficients [0.57 0.   0.   0.   0.   1.03 2.68 0.46 2.71]\n"
     ]
    }
   ],
   "source": [
    "myRidge = Ridge(alpha=np.exp(-3),fit_intercept=True)\n",
    "myLasso = Lasso(alpha=np.exp(-0.5),fit_intercept=True)\n",
    "myRidge.fit(Xts,ytrain)\n",
    "myLasso.fit(Xts,ytrain)\n",
    "print(f'Ridge coefficients {myRidge.coef_.round(2)}')\n",
    "print(f'Lasso Coefficients {myLasso.coef_.round(2)}')"
   ]
  },
  {
   "cell_type": "markdown",
   "metadata": {},
   "source": [
    "\n",
    "### Answer\n",
    "In the grand scheme of things, both lasso and ridge regression shrink the less important features' coefficients to enhance the performance of the linear regression model. The key difference between the two techniques is that lasso regression intrinsically applies feature selection by shrinking feature coefficients to zero which removes some features. The results show that marking feature is the less important feature out of the ones considered, followed by composure feature and lastly the standing tackle feature. With the increase of the $\\lambda$ parameter, the coefficient of the marking feature shrinks to 0, rendering it ineffective in the prediction of the player's overall, then the coefficient of the composure feature shrinks to 0, which leaves the model with a single feature to predict the overall rating. "
   ]
  }
 ],
 "metadata": {
  "kernelspec": {
   "display_name": "Python 3",
   "language": "python",
   "name": "python3"
  },
  "language_info": {
   "codemirror_mode": {
    "name": "ipython",
    "version": 3
   },
   "file_extension": ".py",
   "mimetype": "text/x-python",
   "name": "python",
   "nbconvert_exporter": "python",
   "pygments_lexer": "ipython3",
   "version": "3.7.4"
  }
 },
 "nbformat": 4,
 "nbformat_minor": 4
}
