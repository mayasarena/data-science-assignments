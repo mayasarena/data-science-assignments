{
 "cells": [
  {
   "cell_type": "markdown",
   "metadata": {},
   "source": [
    "# Grade: /100 pts\n",
    "\n",
    "# Assignment 05: Model Selection & Cross Validation\n",
    "\n",
    "### Dear Applicant...You've Been Invited To  Interview To Be A Data Scientist!\n",
    "\n",
    "You've been invited to interview for a Junior Data Scientist job for a professional football (er, Soccer) club.  The owner of the team is very interested in seeing how the use of data can help improve the team's peformance, and perhaps win them the next national championship!\n",
    "\n",
    "The draft is coming up soon (thats when you get to pick new players for your team). To test your skills, the owner has asked you to create a model to help score potential draftees.  The model should look at attributes about the player and predict what their \"rating\" will be once they start playing professionally.\n",
    "\n",
    "The football club's data team has provided you with data for 17,993 footballers from the league.  Your job: build a model or models, perform model selection, and make predictions on players you have not yet seen.\n",
    "\n",
    "### The Dataset\n",
    "\n",
    "The data is stored in a csv file called `footballer_data.csv`.  The data contain 52 columns, including some information about the player, their skills, and their overall measure as an effective footballer.\n",
    "\n",
    "Most features relate to the player's abilities in football related skills, such as passing, shooting, dribbling, etc.  Some features are rated on a 1-5 scale (5 being the best), others are rated on 0-100 (100 being the best), and others still are categorical (e.g. work rate is coded as low, medium, or high).\n",
    "\n",
    "The target variable (or $y$ variable, if you will) is `overall`.  This is an overall measure of the footballer's skill and is rated from 0 to 100.  The most amazingly skilled footballer would be rated 100, where as I would struggle to score more than a 20. The model(s) you build should use the other features to predict `overall`.\n",
    "\n",
    "\n",
    "### Follow These Steps before submitting\n",
    "Once you are finished, ensure to complete the following steps.\n",
    "\n",
    "1.  Restart your kernel by clicking 'Kernel' > 'Restart & Run All'.\n",
    "\n",
    "2.  Fix any errors which result from this.\n",
    "\n",
    "3.  Repeat steps 1. and 2. until your notebook runs without errors.\n",
    "\n",
    "4.  Submit your completed notebook to OWL by the deadline.\n",
    "\n",
    "\n",
    "### Preliminaries\n",
    "---"
   ]
  },
  {
   "cell_type": "code",
   "execution_count": 1,
   "metadata": {},
   "outputs": [],
   "source": [
    "import pandas as pd\n",
    "import numpy as np\n",
    "import matplotlib.pyplot as plt\n",
    "import seaborn as sns\n",
    "from sklearn.model_selection import train_test_split, cross_val_score\n",
    "from sklearn.linear_model import LinearRegression\n",
    "from sklearn.pipeline import Pipeline\n",
    "from sklearn.preprocessing import StandardScaler, PolynomialFeatures\n",
    "from sklearn.metrics import make_scorer, mean_squared_error\n",
    "from sklearn.base import BaseEstimator, TransformerMixin\n",
    "\n",
    "pd.set_option('display.max_columns', 500)\n",
    "\n",
    "%matplotlib inline\n"
   ]
  },
  {
   "cell_type": "markdown",
   "metadata": {},
   "source": [
    "### Question 1: /10pts\n",
    "\n",
    "The hiring manager is going to walk you through a data analysis.  Your job is to implement what they ask to showcase yous skills as a data scientist.\n",
    "\n",
    "Read in the data and take a look at the dataframe.  There should be 52 columns. The outcome of interest is called `overall` which gives an overall measure of player performance. Not all of the other columns are particularly useful for modelling though (for instance, `ID` is just a unique identifier for the player.  This is essentially an arbitrary number and has no bearing on the player's rating).\n",
    "\n",
    "The hiring manager tells you to remove the following columns:\n",
    "\n",
    "* ID\n",
    "* club\n",
    "* club_logo\n",
    "* birth_date\n",
    "* flag\n",
    "* nationality\n",
    "* photo\n",
    "* potential\n",
    "\n",
    "The hiring manager would also like the following columns converted into dummy variables:\n",
    "\n",
    "* work_rate_att\n",
    "* work_rate_def\n",
    "* preferred_foot\n",
    "\n",
    "Clean the data according to the hiring manager's instructions."
   ]
  },
  {
   "cell_type": "code",
   "execution_count": 2,
   "metadata": {},
   "outputs": [
    {
     "output_type": "execute_result",
     "data": {
      "text/plain": [
       "   age  height_cm  weight_kg  overall  pac  sho  pas  dri  def  phy  \\\n",
       "0   32      185.0       80.0       94   90   93   82   90   33   80   \n",
       "1   30      170.0       72.0       93   89   90   86   96   26   61   \n",
       "2   25      175.0       68.0       92   92   84   79   95   30   60   \n",
       "3   30      182.0       86.0       92   82   90   79   87   42   81   \n",
       "4   31      193.0       92.0       92   91   90   95   89   60   91   \n",
       "\n",
       "   international_reputation  skill_moves  weak_foot  crossing  finishing  \\\n",
       "0                         5            5          4        85         94   \n",
       "1                         5            4          4        77         95   \n",
       "2                         5            5          5        75         89   \n",
       "3                         5            4          4        77         94   \n",
       "4                         5            1          4        15         13   \n",
       "\n",
       "   heading_accuracy  short_passing  volleys  dribbling  curve  \\\n",
       "0                88             83       88         91     81   \n",
       "1                71             88       85         97     89   \n",
       "2                62             81       83         96     81   \n",
       "3                77             83       88         86     86   \n",
       "4                25             55       11         30     14   \n",
       "\n",
       "   free_kick_accuracy  long_passing  ball_control  acceleration  sprint_speed  \\\n",
       "0                  76            77            93            89            91   \n",
       "1                  90            87            95            92            87   \n",
       "2                  84            75            95            94            90   \n",
       "3                  84            64            91            88            77   \n",
       "4                  11            59            48            58            61   \n",
       "\n",
       "   agility  reactions  balance  shot_power  jumping  stamina  strength  \\\n",
       "0       89         96       63          94       95       92        80   \n",
       "1       90         95       95          85       68       73        59   \n",
       "2       96         88       82          80       61       78        53   \n",
       "3       86         93       60          87       69       89        80   \n",
       "4       52         85       35          25       78       44        83   \n",
       "\n",
       "   long_shots  aggression  interceptions  positioning  vision  penalties  \\\n",
       "0          92          63             29           95      85         85   \n",
       "1          88          48             22           93      90         78   \n",
       "2          77          56             36           90      80         81   \n",
       "3          86          78             41           92      84         85   \n",
       "4          16          29             30           12      70         47   \n",
       "\n",
       "   composure  marking  standing_tackle  work_rate_att_Low  \\\n",
       "0         95       22               31                  0   \n",
       "1         96       13               28                  0   \n",
       "2         92       21               24                  0   \n",
       "3         83       30               45                  0   \n",
       "4         70       10               10                  0   \n",
       "\n",
       "   work_rate_att_Medium  work_rate_def_Low  work_rate_def_Medium  \\\n",
       "0                     0                  1                     0   \n",
       "1                     1                  0                     1   \n",
       "2                     0                  0                     1   \n",
       "3                     0                  0                     1   \n",
       "4                     1                  0                     1   \n",
       "\n",
       "   preferred_foot_Right  \n",
       "0                     1  \n",
       "1                     0  \n",
       "2                     1  \n",
       "3                     1  \n",
       "4                     1  "
      ],
      "text/html": "<div>\n<style scoped>\n    .dataframe tbody tr th:only-of-type {\n        vertical-align: middle;\n    }\n\n    .dataframe tbody tr th {\n        vertical-align: top;\n    }\n\n    .dataframe thead th {\n        text-align: right;\n    }\n</style>\n<table border=\"1\" class=\"dataframe\">\n  <thead>\n    <tr style=\"text-align: right;\">\n      <th></th>\n      <th>age</th>\n      <th>height_cm</th>\n      <th>weight_kg</th>\n      <th>overall</th>\n      <th>pac</th>\n      <th>sho</th>\n      <th>pas</th>\n      <th>dri</th>\n      <th>def</th>\n      <th>phy</th>\n      <th>international_reputation</th>\n      <th>skill_moves</th>\n      <th>weak_foot</th>\n      <th>crossing</th>\n      <th>finishing</th>\n      <th>heading_accuracy</th>\n      <th>short_passing</th>\n      <th>volleys</th>\n      <th>dribbling</th>\n      <th>curve</th>\n      <th>free_kick_accuracy</th>\n      <th>long_passing</th>\n      <th>ball_control</th>\n      <th>acceleration</th>\n      <th>sprint_speed</th>\n      <th>agility</th>\n      <th>reactions</th>\n      <th>balance</th>\n      <th>shot_power</th>\n      <th>jumping</th>\n      <th>stamina</th>\n      <th>strength</th>\n      <th>long_shots</th>\n      <th>aggression</th>\n      <th>interceptions</th>\n      <th>positioning</th>\n      <th>vision</th>\n      <th>penalties</th>\n      <th>composure</th>\n      <th>marking</th>\n      <th>standing_tackle</th>\n      <th>work_rate_att_Low</th>\n      <th>work_rate_att_Medium</th>\n      <th>work_rate_def_Low</th>\n      <th>work_rate_def_Medium</th>\n      <th>preferred_foot_Right</th>\n    </tr>\n  </thead>\n  <tbody>\n    <tr>\n      <th>0</th>\n      <td>32</td>\n      <td>185.0</td>\n      <td>80.0</td>\n      <td>94</td>\n      <td>90</td>\n      <td>93</td>\n      <td>82</td>\n      <td>90</td>\n      <td>33</td>\n      <td>80</td>\n      <td>5</td>\n      <td>5</td>\n      <td>4</td>\n      <td>85</td>\n      <td>94</td>\n      <td>88</td>\n      <td>83</td>\n      <td>88</td>\n      <td>91</td>\n      <td>81</td>\n      <td>76</td>\n      <td>77</td>\n      <td>93</td>\n      <td>89</td>\n      <td>91</td>\n      <td>89</td>\n      <td>96</td>\n      <td>63</td>\n      <td>94</td>\n      <td>95</td>\n      <td>92</td>\n      <td>80</td>\n      <td>92</td>\n      <td>63</td>\n      <td>29</td>\n      <td>95</td>\n      <td>85</td>\n      <td>85</td>\n      <td>95</td>\n      <td>22</td>\n      <td>31</td>\n      <td>0</td>\n      <td>0</td>\n      <td>1</td>\n      <td>0</td>\n      <td>1</td>\n    </tr>\n    <tr>\n      <th>1</th>\n      <td>30</td>\n      <td>170.0</td>\n      <td>72.0</td>\n      <td>93</td>\n      <td>89</td>\n      <td>90</td>\n      <td>86</td>\n      <td>96</td>\n      <td>26</td>\n      <td>61</td>\n      <td>5</td>\n      <td>4</td>\n      <td>4</td>\n      <td>77</td>\n      <td>95</td>\n      <td>71</td>\n      <td>88</td>\n      <td>85</td>\n      <td>97</td>\n      <td>89</td>\n      <td>90</td>\n      <td>87</td>\n      <td>95</td>\n      <td>92</td>\n      <td>87</td>\n      <td>90</td>\n      <td>95</td>\n      <td>95</td>\n      <td>85</td>\n      <td>68</td>\n      <td>73</td>\n      <td>59</td>\n      <td>88</td>\n      <td>48</td>\n      <td>22</td>\n      <td>93</td>\n      <td>90</td>\n      <td>78</td>\n      <td>96</td>\n      <td>13</td>\n      <td>28</td>\n      <td>0</td>\n      <td>1</td>\n      <td>0</td>\n      <td>1</td>\n      <td>0</td>\n    </tr>\n    <tr>\n      <th>2</th>\n      <td>25</td>\n      <td>175.0</td>\n      <td>68.0</td>\n      <td>92</td>\n      <td>92</td>\n      <td>84</td>\n      <td>79</td>\n      <td>95</td>\n      <td>30</td>\n      <td>60</td>\n      <td>5</td>\n      <td>5</td>\n      <td>5</td>\n      <td>75</td>\n      <td>89</td>\n      <td>62</td>\n      <td>81</td>\n      <td>83</td>\n      <td>96</td>\n      <td>81</td>\n      <td>84</td>\n      <td>75</td>\n      <td>95</td>\n      <td>94</td>\n      <td>90</td>\n      <td>96</td>\n      <td>88</td>\n      <td>82</td>\n      <td>80</td>\n      <td>61</td>\n      <td>78</td>\n      <td>53</td>\n      <td>77</td>\n      <td>56</td>\n      <td>36</td>\n      <td>90</td>\n      <td>80</td>\n      <td>81</td>\n      <td>92</td>\n      <td>21</td>\n      <td>24</td>\n      <td>0</td>\n      <td>0</td>\n      <td>0</td>\n      <td>1</td>\n      <td>1</td>\n    </tr>\n    <tr>\n      <th>3</th>\n      <td>30</td>\n      <td>182.0</td>\n      <td>86.0</td>\n      <td>92</td>\n      <td>82</td>\n      <td>90</td>\n      <td>79</td>\n      <td>87</td>\n      <td>42</td>\n      <td>81</td>\n      <td>5</td>\n      <td>4</td>\n      <td>4</td>\n      <td>77</td>\n      <td>94</td>\n      <td>77</td>\n      <td>83</td>\n      <td>88</td>\n      <td>86</td>\n      <td>86</td>\n      <td>84</td>\n      <td>64</td>\n      <td>91</td>\n      <td>88</td>\n      <td>77</td>\n      <td>86</td>\n      <td>93</td>\n      <td>60</td>\n      <td>87</td>\n      <td>69</td>\n      <td>89</td>\n      <td>80</td>\n      <td>86</td>\n      <td>78</td>\n      <td>41</td>\n      <td>92</td>\n      <td>84</td>\n      <td>85</td>\n      <td>83</td>\n      <td>30</td>\n      <td>45</td>\n      <td>0</td>\n      <td>0</td>\n      <td>0</td>\n      <td>1</td>\n      <td>1</td>\n    </tr>\n    <tr>\n      <th>4</th>\n      <td>31</td>\n      <td>193.0</td>\n      <td>92.0</td>\n      <td>92</td>\n      <td>91</td>\n      <td>90</td>\n      <td>95</td>\n      <td>89</td>\n      <td>60</td>\n      <td>91</td>\n      <td>5</td>\n      <td>1</td>\n      <td>4</td>\n      <td>15</td>\n      <td>13</td>\n      <td>25</td>\n      <td>55</td>\n      <td>11</td>\n      <td>30</td>\n      <td>14</td>\n      <td>11</td>\n      <td>59</td>\n      <td>48</td>\n      <td>58</td>\n      <td>61</td>\n      <td>52</td>\n      <td>85</td>\n      <td>35</td>\n      <td>25</td>\n      <td>78</td>\n      <td>44</td>\n      <td>83</td>\n      <td>16</td>\n      <td>29</td>\n      <td>30</td>\n      <td>12</td>\n      <td>70</td>\n      <td>47</td>\n      <td>70</td>\n      <td>10</td>\n      <td>10</td>\n      <td>0</td>\n      <td>1</td>\n      <td>0</td>\n      <td>1</td>\n      <td>1</td>\n    </tr>\n  </tbody>\n</table>\n</div>"
     },
     "metadata": {},
     "execution_count": 2
    }
   ],
   "source": [
    "data = pd.read_csv('footballer_data.csv')\n",
    "data = data.drop(columns=['ID', 'club', 'club_logo', 'birth_date', 'flag', 'nationality', 'photo', 'potential'])\n",
    "\n",
    "data = pd.get_dummies(data, columns=['work_rate_att', 'work_rate_def', 'preferred_foot'], drop_first=True)\n",
    "\n",
    "data.head()\n"
   ]
  },
  {
   "cell_type": "markdown",
   "metadata": {},
   "source": [
    "### Question 2: /10 pts\n",
    "\n",
    "The data should all be numerical now. To evalute different models, the hiring manager asks you to define a function that returns the mean squared error. \n",
    "\n",
    "*\"Before we begin modelling, it is important to obtain a baseline for the accuracy of our predictive models.\"* says the hiring manager. *Compute the squared errors resulting if we use the mean of the `overall` variable to make predictions. Then compute the expected loss. This will serve as our baseline performance.*\n",
    "\n",
    "Plot the distribution of the losses (squared errors) and print their mean and standard deviation."
   ]
  },
  {
   "cell_type": "code",
   "execution_count": 3,
   "metadata": {},
   "outputs": [
    {
     "output_type": "stream",
     "name": "stdout",
     "text": [
      "MEAN:  48.25436033850663\nSTANDARD DEVIATION:  68.68075613537349\n"
     ]
    },
    {
     "output_type": "display_data",
     "data": {
      "text/plain": "<Figure size 432x288 with 1 Axes>",
      "image/svg+xml": "<?xml version=\"1.0\" encoding=\"utf-8\" standalone=\"no\"?>\n<!DOCTYPE svg PUBLIC \"-//W3C//DTD SVG 1.1//EN\"\n  \"http://www.w3.org/Graphics/SVG/1.1/DTD/svg11.dtd\">\n<!-- Created with matplotlib (https://matplotlib.org/) -->\n<svg height=\"262.19625pt\" version=\"1.1\" viewBox=\"0 0 398.50625 262.19625\" width=\"398.50625pt\" xmlns=\"http://www.w3.org/2000/svg\" xmlns:xlink=\"http://www.w3.org/1999/xlink\">\n <metadata>\n  <rdf:RDF xmlns:cc=\"http://creativecommons.org/ns#\" xmlns:dc=\"http://purl.org/dc/elements/1.1/\" xmlns:rdf=\"http://www.w3.org/1999/02/22-rdf-syntax-ns#\">\n   <cc:Work>\n    <dc:type rdf:resource=\"http://purl.org/dc/dcmitype/StillImage\"/>\n    <dc:date>2021-02-21T22:14:24.347958</dc:date>\n    <dc:format>image/svg+xml</dc:format>\n    <dc:creator>\n     <cc:Agent>\n      <dc:title>Matplotlib v3.3.4, https://matplotlib.org/</dc:title>\n     </cc:Agent>\n    </dc:creator>\n   </cc:Work>\n  </rdf:RDF>\n </metadata>\n <defs>\n  <style type=\"text/css\">*{stroke-linecap:butt;stroke-linejoin:round;}</style>\n </defs>\n <g id=\"figure_1\">\n  <g id=\"patch_1\">\n   <path d=\"M 0 262.19625 \nL 398.50625 262.19625 \nL 398.50625 0 \nL 0 0 \nz\n\" style=\"fill:none;\"/>\n  </g>\n  <g id=\"axes_1\">\n   <g id=\"patch_2\">\n    <path d=\"M 56.50625 224.64 \nL 391.30625 224.64 \nL 391.30625 7.2 \nL 56.50625 7.2 \nz\n\" style=\"fill:#ffffff;\"/>\n   </g>\n   <g id=\"patch_3\">\n    <path clip-path=\"url(#paaefd536dd)\" d=\"M 82.398865 224.64 \nL 88.059161 224.64 \nL 88.059161 17.554286 \nL 82.398865 17.554286 \nz\n\" style=\"fill:#1f77b4;opacity:0.4;\"/>\n   </g>\n   <g id=\"patch_4\">\n    <path clip-path=\"url(#paaefd536dd)\" d=\"M 88.059161 224.64 \nL 93.719456 224.64 \nL 93.719456 164.592077 \nL 88.059161 164.592077 \nz\n\" style=\"fill:#1f77b4;opacity:0.4;\"/>\n   </g>\n   <g id=\"patch_5\">\n    <path clip-path=\"url(#paaefd536dd)\" d=\"M 93.719456 224.64 \nL 99.379751 224.64 \nL 99.379751 170.268121 \nL 93.719456 170.268121 \nz\n\" style=\"fill:#1f77b4;opacity:0.4;\"/>\n   </g>\n   <g id=\"patch_6\">\n    <path clip-path=\"url(#paaefd536dd)\" d=\"M 99.379751 224.64 \nL 105.040047 224.64 \nL 105.040047 196.747766 \nL 99.379751 196.747766 \nz\n\" style=\"fill:#1f77b4;opacity:0.4;\"/>\n   </g>\n   <g id=\"patch_7\">\n    <path clip-path=\"url(#paaefd536dd)\" d=\"M 105.040047 224.64 \nL 110.700342 224.64 \nL 110.700342 201.370788 \nL 105.040047 201.370788 \nz\n\" style=\"fill:#1f77b4;opacity:0.4;\"/>\n   </g>\n   <g id=\"patch_8\">\n    <path clip-path=\"url(#paaefd536dd)\" d=\"M 110.700342 224.64 \nL 116.360638 224.64 \nL 116.360638 214.957337 \nL 110.700342 214.957337 \nz\n\" style=\"fill:#1f77b4;opacity:0.4;\"/>\n   </g>\n   <g id=\"patch_9\">\n    <path clip-path=\"url(#paaefd536dd)\" d=\"M 116.360638 224.64 \nL 122.020933 224.64 \nL 122.020933 207.175249 \nL 116.360638 207.175249 \nz\n\" style=\"fill:#1f77b4;opacity:0.4;\"/>\n   </g>\n   <g id=\"patch_10\">\n    <path clip-path=\"url(#paaefd536dd)\" d=\"M 122.020933 224.64 \nL 127.681228 224.64 \nL 127.681228 216.934963 \nL 122.020933 216.934963 \nz\n\" style=\"fill:#1f77b4;opacity:0.4;\"/>\n   </g>\n   <g id=\"patch_11\">\n    <path clip-path=\"url(#paaefd536dd)\" d=\"M 127.681228 224.64 \nL 133.341524 224.64 \nL 133.341524 212.876977 \nL 127.681228 212.876977 \nz\n\" style=\"fill:#1f77b4;opacity:0.4;\"/>\n   </g>\n   <g id=\"patch_12\">\n    <path clip-path=\"url(#paaefd536dd)\" d=\"M 133.341524 224.64 \nL 139.001819 224.64 \nL 139.001819 218.630071 \nL 133.341524 218.630071 \nz\n\" style=\"fill:#1f77b4;opacity:0.4;\"/>\n   </g>\n   <g id=\"patch_13\">\n    <path clip-path=\"url(#paaefd536dd)\" d=\"M 139.001819 224.64 \nL 144.662114 224.64 \nL 144.662114 220.299496 \nL 139.001819 220.299496 \nz\n\" style=\"fill:#1f77b4;opacity:0.4;\"/>\n   </g>\n   <g id=\"patch_14\">\n    <path clip-path=\"url(#paaefd536dd)\" d=\"M 144.662114 224.64 \nL 150.32241 224.64 \nL 150.32241 218.707121 \nL 144.662114 218.707121 \nz\n\" style=\"fill:#1f77b4;opacity:0.4;\"/>\n   </g>\n   <g id=\"patch_15\">\n    <path clip-path=\"url(#paaefd536dd)\" d=\"M 150.32241 224.64 \nL 155.982705 224.64 \nL 155.982705 221.2241 \nL 150.32241 221.2241 \nz\n\" style=\"fill:#1f77b4;opacity:0.4;\"/>\n   </g>\n   <g id=\"patch_16\">\n    <path clip-path=\"url(#paaefd536dd)\" d=\"M 155.982705 224.64 \nL 161.643001 224.64 \nL 161.643001 220.273812 \nL 155.982705 220.273812 \nz\n\" style=\"fill:#1f77b4;opacity:0.4;\"/>\n   </g>\n   <g id=\"patch_17\">\n    <path clip-path=\"url(#paaefd536dd)\" d=\"M 161.643001 224.64 \nL 167.303296 224.64 \nL 167.303296 222.225755 \nL 161.643001 222.225755 \nz\n\" style=\"fill:#1f77b4;opacity:0.4;\"/>\n   </g>\n   <g id=\"patch_18\">\n    <path clip-path=\"url(#paaefd536dd)\" d=\"M 167.303296 224.64 \nL 172.963591 224.64 \nL 172.963591 221.095683 \nL 167.303296 221.095683 \nz\n\" style=\"fill:#1f77b4;opacity:0.4;\"/>\n   </g>\n   <g id=\"patch_19\">\n    <path clip-path=\"url(#paaefd536dd)\" d=\"M 172.963591 224.64 \nL 178.623887 224.64 \nL 178.623887 222.097338 \nL 172.963591 222.097338 \nz\n\" style=\"fill:#1f77b4;opacity:0.4;\"/>\n   </g>\n   <g id=\"patch_20\">\n    <path clip-path=\"url(#paaefd536dd)\" d=\"M 178.623887 224.64 \nL 184.284182 224.64 \nL 184.284182 221.81482 \nL 178.623887 221.81482 \nz\n\" style=\"fill:#1f77b4;opacity:0.4;\"/>\n   </g>\n   <g id=\"patch_21\">\n    <path clip-path=\"url(#paaefd536dd)\" d=\"M 184.284182 224.64 \nL 189.944478 224.64 \nL 189.944478 222.816475 \nL 184.284182 222.816475 \nz\n\" style=\"fill:#1f77b4;opacity:0.4;\"/>\n   </g>\n   <g id=\"patch_22\">\n    <path clip-path=\"url(#paaefd536dd)\" d=\"M 189.944478 224.64 \nL 195.604773 224.64 \nL 195.604773 223.484244 \nL 189.944478 223.484244 \nz\n\" style=\"fill:#1f77b4;opacity:0.4;\"/>\n   </g>\n   <g id=\"patch_23\">\n    <path clip-path=\"url(#paaefd536dd)\" d=\"M 195.604773 224.64 \nL 201.265068 224.64 \nL 201.265068 223.792446 \nL 195.604773 223.792446 \nz\n\" style=\"fill:#1f77b4;opacity:0.4;\"/>\n   </g>\n   <g id=\"patch_24\">\n    <path clip-path=\"url(#paaefd536dd)\" d=\"M 201.265068 224.64 \nL 206.925364 224.64 \nL 206.925364 224.074964 \nL 201.265068 224.074964 \nz\n\" style=\"fill:#1f77b4;opacity:0.4;\"/>\n   </g>\n   <g id=\"patch_25\">\n    <path clip-path=\"url(#paaefd536dd)\" d=\"M 206.925364 224.64 \nL 212.585659 224.64 \nL 212.585659 223.997914 \nL 206.925364 223.997914 \nz\n\" style=\"fill:#1f77b4;opacity:0.4;\"/>\n   </g>\n   <g id=\"patch_26\">\n    <path clip-path=\"url(#paaefd536dd)\" d=\"M 212.585659 224.64 \nL 218.245955 224.64 \nL 218.245955 224.64 \nL 212.585659 224.64 \nz\n\" style=\"fill:#1f77b4;opacity:0.4;\"/>\n   </g>\n   <g id=\"patch_27\">\n    <path clip-path=\"url(#paaefd536dd)\" d=\"M 218.245955 224.64 \nL 223.90625 224.64 \nL 223.90625 224.280432 \nL 218.245955 224.280432 \nz\n\" style=\"fill:#1f77b4;opacity:0.4;\"/>\n   </g>\n   <g id=\"patch_28\">\n    <path clip-path=\"url(#paaefd536dd)\" d=\"M 223.90625 224.64 \nL 229.566545 224.64 \nL 229.566545 224.04928 \nL 223.90625 224.04928 \nz\n\" style=\"fill:#1f77b4;opacity:0.4;\"/>\n   </g>\n   <g id=\"patch_29\">\n    <path clip-path=\"url(#paaefd536dd)\" d=\"M 229.566545 224.64 \nL 235.226841 224.64 \nL 235.226841 224.331799 \nL 229.566545 224.331799 \nz\n\" style=\"fill:#1f77b4;opacity:0.4;\"/>\n   </g>\n   <g id=\"patch_30\">\n    <path clip-path=\"url(#paaefd536dd)\" d=\"M 235.226841 224.64 \nL 240.887136 224.64 \nL 240.887136 224.306115 \nL 235.226841 224.306115 \nz\n\" style=\"fill:#1f77b4;opacity:0.4;\"/>\n   </g>\n   <g id=\"patch_31\">\n    <path clip-path=\"url(#paaefd536dd)\" d=\"M 240.887136 224.64 \nL 246.547432 224.64 \nL 246.547432 224.64 \nL 240.887136 224.64 \nz\n\" style=\"fill:#1f77b4;opacity:0.4;\"/>\n   </g>\n   <g id=\"patch_32\">\n    <path clip-path=\"url(#paaefd536dd)\" d=\"M 246.547432 224.64 \nL 252.207727 224.64 \nL 252.207727 224.64 \nL 246.547432 224.64 \nz\n\" style=\"fill:#1f77b4;opacity:0.4;\"/>\n   </g>\n   <g id=\"patch_33\">\n    <path clip-path=\"url(#paaefd536dd)\" d=\"M 252.207727 224.64 \nL 257.868022 224.64 \nL 257.868022 224.280432 \nL 252.207727 224.280432 \nz\n\" style=\"fill:#1f77b4;opacity:0.4;\"/>\n   </g>\n   <g id=\"patch_34\">\n    <path clip-path=\"url(#paaefd536dd)\" d=\"M 257.868022 224.64 \nL 263.528318 224.64 \nL 263.528318 224.64 \nL 257.868022 224.64 \nz\n\" style=\"fill:#1f77b4;opacity:0.4;\"/>\n   </g>\n   <g id=\"patch_35\">\n    <path clip-path=\"url(#paaefd536dd)\" d=\"M 263.528318 224.64 \nL 269.188613 224.64 \nL 269.188613 224.64 \nL 263.528318 224.64 \nz\n\" style=\"fill:#1f77b4;opacity:0.4;\"/>\n   </g>\n   <g id=\"patch_36\">\n    <path clip-path=\"url(#paaefd536dd)\" d=\"M 269.188613 224.64 \nL 274.848909 224.64 \nL 274.848909 224.434532 \nL 269.188613 224.434532 \nz\n\" style=\"fill:#1f77b4;opacity:0.4;\"/>\n   </g>\n   <g id=\"patch_37\">\n    <path clip-path=\"url(#paaefd536dd)\" d=\"M 274.848909 224.64 \nL 280.509204 224.64 \nL 280.509204 224.64 \nL 274.848909 224.64 \nz\n\" style=\"fill:#1f77b4;opacity:0.4;\"/>\n   </g>\n   <g id=\"patch_38\">\n    <path clip-path=\"url(#paaefd536dd)\" d=\"M 280.509204 224.64 \nL 286.169499 224.64 \nL 286.169499 224.64 \nL 280.509204 224.64 \nz\n\" style=\"fill:#1f77b4;opacity:0.4;\"/>\n   </g>\n   <g id=\"patch_39\">\n    <path clip-path=\"url(#paaefd536dd)\" d=\"M 286.169499 224.64 \nL 291.829795 224.64 \nL 291.829795 224.511583 \nL 286.169499 224.511583 \nz\n\" style=\"fill:#1f77b4;opacity:0.4;\"/>\n   </g>\n   <g id=\"patch_40\">\n    <path clip-path=\"url(#paaefd536dd)\" d=\"M 291.829795 224.64 \nL 297.49009 224.64 \nL 297.49009 224.64 \nL 291.829795 224.64 \nz\n\" style=\"fill:#1f77b4;opacity:0.4;\"/>\n   </g>\n   <g id=\"patch_41\">\n    <path clip-path=\"url(#paaefd536dd)\" d=\"M 297.49009 224.64 \nL 303.150386 224.64 \nL 303.150386 224.64 \nL 297.49009 224.64 \nz\n\" style=\"fill:#1f77b4;opacity:0.4;\"/>\n   </g>\n   <g id=\"patch_42\">\n    <path clip-path=\"url(#paaefd536dd)\" d=\"M 303.150386 224.64 \nL 308.810681 224.64 \nL 308.810681 224.614317 \nL 303.150386 224.614317 \nz\n\" style=\"fill:#1f77b4;opacity:0.4;\"/>\n   </g>\n   <g id=\"patch_43\">\n    <path clip-path=\"url(#paaefd536dd)\" d=\"M 308.810681 224.64 \nL 314.470976 224.64 \nL 314.470976 224.64 \nL 308.810681 224.64 \nz\n\" style=\"fill:#1f77b4;opacity:0.4;\"/>\n   </g>\n   <g id=\"patch_44\">\n    <path clip-path=\"url(#paaefd536dd)\" d=\"M 314.470976 224.64 \nL 320.131272 224.64 \nL 320.131272 224.64 \nL 314.470976 224.64 \nz\n\" style=\"fill:#1f77b4;opacity:0.4;\"/>\n   </g>\n   <g id=\"patch_45\">\n    <path clip-path=\"url(#paaefd536dd)\" d=\"M 320.131272 224.64 \nL 325.791567 224.64 \nL 325.791567 224.64 \nL 320.131272 224.64 \nz\n\" style=\"fill:#1f77b4;opacity:0.4;\"/>\n   </g>\n   <g id=\"patch_46\">\n    <path clip-path=\"url(#paaefd536dd)\" d=\"M 325.791567 224.64 \nL 331.451862 224.64 \nL 331.451862 224.56295 \nL 325.791567 224.56295 \nz\n\" style=\"fill:#1f77b4;opacity:0.4;\"/>\n   </g>\n   <g id=\"patch_47\">\n    <path clip-path=\"url(#paaefd536dd)\" d=\"M 331.451862 224.64 \nL 337.112158 224.64 \nL 337.112158 224.64 \nL 331.451862 224.64 \nz\n\" style=\"fill:#1f77b4;opacity:0.4;\"/>\n   </g>\n   <g id=\"patch_48\">\n    <path clip-path=\"url(#paaefd536dd)\" d=\"M 337.112158 224.64 \nL 342.772453 224.64 \nL 342.772453 224.64 \nL 337.112158 224.64 \nz\n\" style=\"fill:#1f77b4;opacity:0.4;\"/>\n   </g>\n   <g id=\"patch_49\">\n    <path clip-path=\"url(#paaefd536dd)\" d=\"M 342.772453 224.64 \nL 348.432749 224.64 \nL 348.432749 224.614317 \nL 342.772453 224.614317 \nz\n\" style=\"fill:#1f77b4;opacity:0.4;\"/>\n   </g>\n   <g id=\"patch_50\">\n    <path clip-path=\"url(#paaefd536dd)\" d=\"M 348.432749 224.64 \nL 354.093044 224.64 \nL 354.093044 224.64 \nL 348.432749 224.64 \nz\n\" style=\"fill:#1f77b4;opacity:0.4;\"/>\n   </g>\n   <g id=\"patch_51\">\n    <path clip-path=\"url(#paaefd536dd)\" d=\"M 354.093044 224.64 \nL 359.753339 224.64 \nL 359.753339 224.64 \nL 354.093044 224.64 \nz\n\" style=\"fill:#1f77b4;opacity:0.4;\"/>\n   </g>\n   <g id=\"patch_52\">\n    <path clip-path=\"url(#paaefd536dd)\" d=\"M 359.753339 224.64 \nL 365.413635 224.64 \nL 365.413635 224.614317 \nL 359.753339 224.614317 \nz\n\" style=\"fill:#1f77b4;opacity:0.4;\"/>\n   </g>\n   <g id=\"matplotlib.axis_1\">\n    <g id=\"xtick_1\">\n     <g id=\"line2d_1\">\n      <defs>\n       <path d=\"M 0 0 \nL 0 3.5 \n\" id=\"ma82c04a23e\" style=\"stroke:#000000;stroke-width:0.8;\"/>\n      </defs>\n      <g>\n       <use style=\"stroke:#000000;stroke-width:0.8;\" x=\"82.375328\" xlink:href=\"#ma82c04a23e\" y=\"224.64\"/>\n      </g>\n     </g>\n     <g id=\"text_1\">\n      <!-- 0 -->\n      <g transform=\"translate(79.194078 239.238437)scale(0.1 -0.1)\">\n       <defs>\n        <path d=\"M 31.78125 66.40625 \nQ 24.171875 66.40625 20.328125 58.90625 \nQ 16.5 51.421875 16.5 36.375 \nQ 16.5 21.390625 20.328125 13.890625 \nQ 24.171875 6.390625 31.78125 6.390625 \nQ 39.453125 6.390625 43.28125 13.890625 \nQ 47.125 21.390625 47.125 36.375 \nQ 47.125 51.421875 43.28125 58.90625 \nQ 39.453125 66.40625 31.78125 66.40625 \nz\nM 31.78125 74.21875 \nQ 44.046875 74.21875 50.515625 64.515625 \nQ 56.984375 54.828125 56.984375 36.375 \nQ 56.984375 17.96875 50.515625 8.265625 \nQ 44.046875 -1.421875 31.78125 -1.421875 \nQ 19.53125 -1.421875 13.0625 8.265625 \nQ 6.59375 17.96875 6.59375 36.375 \nQ 6.59375 54.828125 13.0625 64.515625 \nQ 19.53125 74.21875 31.78125 74.21875 \nz\n\" id=\"DejaVuSans-48\"/>\n       </defs>\n       <use xlink:href=\"#DejaVuSans-48\"/>\n      </g>\n     </g>\n    </g>\n    <g id=\"xtick_2\">\n     <g id=\"line2d_2\">\n      <g>\n       <use style=\"stroke:#000000;stroke-width:0.8;\" x=\"155.901854\" xlink:href=\"#ma82c04a23e\" y=\"224.64\"/>\n      </g>\n     </g>\n     <g id=\"text_2\">\n      <!-- 200 -->\n      <g transform=\"translate(146.358104 239.238437)scale(0.1 -0.1)\">\n       <defs>\n        <path d=\"M 19.1875 8.296875 \nL 53.609375 8.296875 \nL 53.609375 0 \nL 7.328125 0 \nL 7.328125 8.296875 \nQ 12.9375 14.109375 22.625 23.890625 \nQ 32.328125 33.6875 34.8125 36.53125 \nQ 39.546875 41.84375 41.421875 45.53125 \nQ 43.3125 49.21875 43.3125 52.78125 \nQ 43.3125 58.59375 39.234375 62.25 \nQ 35.15625 65.921875 28.609375 65.921875 \nQ 23.96875 65.921875 18.8125 64.3125 \nQ 13.671875 62.703125 7.8125 59.421875 \nL 7.8125 69.390625 \nQ 13.765625 71.78125 18.9375 73 \nQ 24.125 74.21875 28.421875 74.21875 \nQ 39.75 74.21875 46.484375 68.546875 \nQ 53.21875 62.890625 53.21875 53.421875 \nQ 53.21875 48.921875 51.53125 44.890625 \nQ 49.859375 40.875 45.40625 35.40625 \nQ 44.1875 33.984375 37.640625 27.21875 \nQ 31.109375 20.453125 19.1875 8.296875 \nz\n\" id=\"DejaVuSans-50\"/>\n       </defs>\n       <use xlink:href=\"#DejaVuSans-50\"/>\n       <use x=\"63.623047\" xlink:href=\"#DejaVuSans-48\"/>\n       <use x=\"127.246094\" xlink:href=\"#DejaVuSans-48\"/>\n      </g>\n     </g>\n    </g>\n    <g id=\"xtick_3\">\n     <g id=\"line2d_3\">\n      <g>\n       <use style=\"stroke:#000000;stroke-width:0.8;\" x=\"229.42838\" xlink:href=\"#ma82c04a23e\" y=\"224.64\"/>\n      </g>\n     </g>\n     <g id=\"text_3\">\n      <!-- 400 -->\n      <g transform=\"translate(219.88463 239.238437)scale(0.1 -0.1)\">\n       <defs>\n        <path d=\"M 37.796875 64.3125 \nL 12.890625 25.390625 \nL 37.796875 25.390625 \nz\nM 35.203125 72.90625 \nL 47.609375 72.90625 \nL 47.609375 25.390625 \nL 58.015625 25.390625 \nL 58.015625 17.1875 \nL 47.609375 17.1875 \nL 47.609375 0 \nL 37.796875 0 \nL 37.796875 17.1875 \nL 4.890625 17.1875 \nL 4.890625 26.703125 \nz\n\" id=\"DejaVuSans-52\"/>\n       </defs>\n       <use xlink:href=\"#DejaVuSans-52\"/>\n       <use x=\"63.623047\" xlink:href=\"#DejaVuSans-48\"/>\n       <use x=\"127.246094\" xlink:href=\"#DejaVuSans-48\"/>\n      </g>\n     </g>\n    </g>\n    <g id=\"xtick_4\">\n     <g id=\"line2d_4\">\n      <g>\n       <use style=\"stroke:#000000;stroke-width:0.8;\" x=\"302.954906\" xlink:href=\"#ma82c04a23e\" y=\"224.64\"/>\n      </g>\n     </g>\n     <g id=\"text_4\">\n      <!-- 600 -->\n      <g transform=\"translate(293.411156 239.238437)scale(0.1 -0.1)\">\n       <defs>\n        <path d=\"M 33.015625 40.375 \nQ 26.375 40.375 22.484375 35.828125 \nQ 18.609375 31.296875 18.609375 23.390625 \nQ 18.609375 15.53125 22.484375 10.953125 \nQ 26.375 6.390625 33.015625 6.390625 \nQ 39.65625 6.390625 43.53125 10.953125 \nQ 47.40625 15.53125 47.40625 23.390625 \nQ 47.40625 31.296875 43.53125 35.828125 \nQ 39.65625 40.375 33.015625 40.375 \nz\nM 52.59375 71.296875 \nL 52.59375 62.3125 \nQ 48.875 64.0625 45.09375 64.984375 \nQ 41.3125 65.921875 37.59375 65.921875 \nQ 27.828125 65.921875 22.671875 59.328125 \nQ 17.53125 52.734375 16.796875 39.40625 \nQ 19.671875 43.65625 24.015625 45.921875 \nQ 28.375 48.1875 33.59375 48.1875 \nQ 44.578125 48.1875 50.953125 41.515625 \nQ 57.328125 34.859375 57.328125 23.390625 \nQ 57.328125 12.15625 50.6875 5.359375 \nQ 44.046875 -1.421875 33.015625 -1.421875 \nQ 20.359375 -1.421875 13.671875 8.265625 \nQ 6.984375 17.96875 6.984375 36.375 \nQ 6.984375 53.65625 15.1875 63.9375 \nQ 23.390625 74.21875 37.203125 74.21875 \nQ 40.921875 74.21875 44.703125 73.484375 \nQ 48.484375 72.75 52.59375 71.296875 \nz\n\" id=\"DejaVuSans-54\"/>\n       </defs>\n       <use xlink:href=\"#DejaVuSans-54\"/>\n       <use x=\"63.623047\" xlink:href=\"#DejaVuSans-48\"/>\n       <use x=\"127.246094\" xlink:href=\"#DejaVuSans-48\"/>\n      </g>\n     </g>\n    </g>\n    <g id=\"xtick_5\">\n     <g id=\"line2d_5\">\n      <g>\n       <use style=\"stroke:#000000;stroke-width:0.8;\" x=\"376.481432\" xlink:href=\"#ma82c04a23e\" y=\"224.64\"/>\n      </g>\n     </g>\n     <g id=\"text_5\">\n      <!-- 800 -->\n      <g transform=\"translate(366.937682 239.238437)scale(0.1 -0.1)\">\n       <defs>\n        <path d=\"M 31.78125 34.625 \nQ 24.75 34.625 20.71875 30.859375 \nQ 16.703125 27.09375 16.703125 20.515625 \nQ 16.703125 13.921875 20.71875 10.15625 \nQ 24.75 6.390625 31.78125 6.390625 \nQ 38.8125 6.390625 42.859375 10.171875 \nQ 46.921875 13.96875 46.921875 20.515625 \nQ 46.921875 27.09375 42.890625 30.859375 \nQ 38.875 34.625 31.78125 34.625 \nz\nM 21.921875 38.8125 \nQ 15.578125 40.375 12.03125 44.71875 \nQ 8.5 49.078125 8.5 55.328125 \nQ 8.5 64.0625 14.71875 69.140625 \nQ 20.953125 74.21875 31.78125 74.21875 \nQ 42.671875 74.21875 48.875 69.140625 \nQ 55.078125 64.0625 55.078125 55.328125 \nQ 55.078125 49.078125 51.53125 44.71875 \nQ 48 40.375 41.703125 38.8125 \nQ 48.828125 37.15625 52.796875 32.3125 \nQ 56.78125 27.484375 56.78125 20.515625 \nQ 56.78125 9.90625 50.3125 4.234375 \nQ 43.84375 -1.421875 31.78125 -1.421875 \nQ 19.734375 -1.421875 13.25 4.234375 \nQ 6.78125 9.90625 6.78125 20.515625 \nQ 6.78125 27.484375 10.78125 32.3125 \nQ 14.796875 37.15625 21.921875 38.8125 \nz\nM 18.3125 54.390625 \nQ 18.3125 48.734375 21.84375 45.5625 \nQ 25.390625 42.390625 31.78125 42.390625 \nQ 38.140625 42.390625 41.71875 45.5625 \nQ 45.3125 48.734375 45.3125 54.390625 \nQ 45.3125 60.0625 41.71875 63.234375 \nQ 38.140625 66.40625 31.78125 66.40625 \nQ 25.390625 66.40625 21.84375 63.234375 \nQ 18.3125 60.0625 18.3125 54.390625 \nz\n\" id=\"DejaVuSans-56\"/>\n       </defs>\n       <use xlink:href=\"#DejaVuSans-56\"/>\n       <use x=\"63.623047\" xlink:href=\"#DejaVuSans-48\"/>\n       <use x=\"127.246094\" xlink:href=\"#DejaVuSans-48\"/>\n      </g>\n     </g>\n    </g>\n    <g id=\"text_6\">\n     <!-- overall -->\n     <g transform=\"translate(206.913281 252.916562)scale(0.1 -0.1)\">\n      <defs>\n       <path d=\"M 30.609375 48.390625 \nQ 23.390625 48.390625 19.1875 42.75 \nQ 14.984375 37.109375 14.984375 27.296875 \nQ 14.984375 17.484375 19.15625 11.84375 \nQ 23.34375 6.203125 30.609375 6.203125 \nQ 37.796875 6.203125 41.984375 11.859375 \nQ 46.1875 17.53125 46.1875 27.296875 \nQ 46.1875 37.015625 41.984375 42.703125 \nQ 37.796875 48.390625 30.609375 48.390625 \nz\nM 30.609375 56 \nQ 42.328125 56 49.015625 48.375 \nQ 55.71875 40.765625 55.71875 27.296875 \nQ 55.71875 13.875 49.015625 6.21875 \nQ 42.328125 -1.421875 30.609375 -1.421875 \nQ 18.84375 -1.421875 12.171875 6.21875 \nQ 5.515625 13.875 5.515625 27.296875 \nQ 5.515625 40.765625 12.171875 48.375 \nQ 18.84375 56 30.609375 56 \nz\n\" id=\"DejaVuSans-111\"/>\n       <path d=\"M 2.984375 54.6875 \nL 12.5 54.6875 \nL 29.59375 8.796875 \nL 46.6875 54.6875 \nL 56.203125 54.6875 \nL 35.6875 0 \nL 23.484375 0 \nz\n\" id=\"DejaVuSans-118\"/>\n       <path d=\"M 56.203125 29.59375 \nL 56.203125 25.203125 \nL 14.890625 25.203125 \nQ 15.484375 15.921875 20.484375 11.0625 \nQ 25.484375 6.203125 34.421875 6.203125 \nQ 39.59375 6.203125 44.453125 7.46875 \nQ 49.3125 8.734375 54.109375 11.28125 \nL 54.109375 2.78125 \nQ 49.265625 0.734375 44.1875 -0.34375 \nQ 39.109375 -1.421875 33.890625 -1.421875 \nQ 20.796875 -1.421875 13.15625 6.1875 \nQ 5.515625 13.8125 5.515625 26.8125 \nQ 5.515625 40.234375 12.765625 48.109375 \nQ 20.015625 56 32.328125 56 \nQ 43.359375 56 49.78125 48.890625 \nQ 56.203125 41.796875 56.203125 29.59375 \nz\nM 47.21875 32.234375 \nQ 47.125 39.59375 43.09375 43.984375 \nQ 39.0625 48.390625 32.421875 48.390625 \nQ 24.90625 48.390625 20.390625 44.140625 \nQ 15.875 39.890625 15.1875 32.171875 \nz\n\" id=\"DejaVuSans-101\"/>\n       <path d=\"M 41.109375 46.296875 \nQ 39.59375 47.171875 37.8125 47.578125 \nQ 36.03125 48 33.890625 48 \nQ 26.265625 48 22.1875 43.046875 \nQ 18.109375 38.09375 18.109375 28.8125 \nL 18.109375 0 \nL 9.078125 0 \nL 9.078125 54.6875 \nL 18.109375 54.6875 \nL 18.109375 46.1875 \nQ 20.953125 51.171875 25.484375 53.578125 \nQ 30.03125 56 36.53125 56 \nQ 37.453125 56 38.578125 55.875 \nQ 39.703125 55.765625 41.0625 55.515625 \nz\n\" id=\"DejaVuSans-114\"/>\n       <path d=\"M 34.28125 27.484375 \nQ 23.390625 27.484375 19.1875 25 \nQ 14.984375 22.515625 14.984375 16.5 \nQ 14.984375 11.71875 18.140625 8.90625 \nQ 21.296875 6.109375 26.703125 6.109375 \nQ 34.1875 6.109375 38.703125 11.40625 \nQ 43.21875 16.703125 43.21875 25.484375 \nL 43.21875 27.484375 \nz\nM 52.203125 31.203125 \nL 52.203125 0 \nL 43.21875 0 \nL 43.21875 8.296875 \nQ 40.140625 3.328125 35.546875 0.953125 \nQ 30.953125 -1.421875 24.3125 -1.421875 \nQ 15.921875 -1.421875 10.953125 3.296875 \nQ 6 8.015625 6 15.921875 \nQ 6 25.140625 12.171875 29.828125 \nQ 18.359375 34.515625 30.609375 34.515625 \nL 43.21875 34.515625 \nL 43.21875 35.40625 \nQ 43.21875 41.609375 39.140625 45 \nQ 35.0625 48.390625 27.6875 48.390625 \nQ 23 48.390625 18.546875 47.265625 \nQ 14.109375 46.140625 10.015625 43.890625 \nL 10.015625 52.203125 \nQ 14.9375 54.109375 19.578125 55.046875 \nQ 24.21875 56 28.609375 56 \nQ 40.484375 56 46.34375 49.84375 \nQ 52.203125 43.703125 52.203125 31.203125 \nz\n\" id=\"DejaVuSans-97\"/>\n       <path d=\"M 9.421875 75.984375 \nL 18.40625 75.984375 \nL 18.40625 0 \nL 9.421875 0 \nz\n\" id=\"DejaVuSans-108\"/>\n      </defs>\n      <use xlink:href=\"#DejaVuSans-111\"/>\n      <use x=\"61.181641\" xlink:href=\"#DejaVuSans-118\"/>\n      <use x=\"120.361328\" xlink:href=\"#DejaVuSans-101\"/>\n      <use x=\"181.884766\" xlink:href=\"#DejaVuSans-114\"/>\n      <use x=\"222.998047\" xlink:href=\"#DejaVuSans-97\"/>\n      <use x=\"284.277344\" xlink:href=\"#DejaVuSans-108\"/>\n      <use x=\"312.060547\" xlink:href=\"#DejaVuSans-108\"/>\n     </g>\n    </g>\n   </g>\n   <g id=\"matplotlib.axis_2\">\n    <g id=\"ytick_1\">\n     <g id=\"line2d_6\">\n      <defs>\n       <path d=\"M 0 0 \nL -3.5 0 \n\" id=\"m92f1d9e72b\" style=\"stroke:#000000;stroke-width:0.8;\"/>\n      </defs>\n      <g>\n       <use style=\"stroke:#000000;stroke-width:0.8;\" x=\"56.50625\" xlink:href=\"#m92f1d9e72b\" y=\"224.64\"/>\n      </g>\n     </g>\n     <g id=\"text_7\">\n      <!-- 0.000 -->\n      <g transform=\"translate(20.878125 228.439219)scale(0.1 -0.1)\">\n       <defs>\n        <path d=\"M 10.6875 12.40625 \nL 21 12.40625 \nL 21 0 \nL 10.6875 0 \nz\n\" id=\"DejaVuSans-46\"/>\n       </defs>\n       <use xlink:href=\"#DejaVuSans-48\"/>\n       <use x=\"63.623047\" xlink:href=\"#DejaVuSans-46\"/>\n       <use x=\"95.410156\" xlink:href=\"#DejaVuSans-48\"/>\n       <use x=\"159.033203\" xlink:href=\"#DejaVuSans-48\"/>\n       <use x=\"222.65625\" xlink:href=\"#DejaVuSans-48\"/>\n      </g>\n     </g>\n    </g>\n    <g id=\"ytick_2\">\n     <g id=\"line2d_7\">\n      <g>\n       <use style=\"stroke:#000000;stroke-width:0.8;\" x=\"56.50625\" xlink:href=\"#m92f1d9e72b\" y=\"189.062433\"/>\n      </g>\n     </g>\n     <g id=\"text_8\">\n      <!-- 0.005 -->\n      <g transform=\"translate(20.878125 192.861652)scale(0.1 -0.1)\">\n       <defs>\n        <path d=\"M 10.796875 72.90625 \nL 49.515625 72.90625 \nL 49.515625 64.59375 \nL 19.828125 64.59375 \nL 19.828125 46.734375 \nQ 21.96875 47.46875 24.109375 47.828125 \nQ 26.265625 48.1875 28.421875 48.1875 \nQ 40.625 48.1875 47.75 41.5 \nQ 54.890625 34.8125 54.890625 23.390625 \nQ 54.890625 11.625 47.5625 5.09375 \nQ 40.234375 -1.421875 26.90625 -1.421875 \nQ 22.3125 -1.421875 17.546875 -0.640625 \nQ 12.796875 0.140625 7.71875 1.703125 \nL 7.71875 11.625 \nQ 12.109375 9.234375 16.796875 8.0625 \nQ 21.484375 6.890625 26.703125 6.890625 \nQ 35.15625 6.890625 40.078125 11.328125 \nQ 45.015625 15.765625 45.015625 23.390625 \nQ 45.015625 31 40.078125 35.4375 \nQ 35.15625 39.890625 26.703125 39.890625 \nQ 22.75 39.890625 18.8125 39.015625 \nQ 14.890625 38.140625 10.796875 36.28125 \nz\n\" id=\"DejaVuSans-53\"/>\n       </defs>\n       <use xlink:href=\"#DejaVuSans-48\"/>\n       <use x=\"63.623047\" xlink:href=\"#DejaVuSans-46\"/>\n       <use x=\"95.410156\" xlink:href=\"#DejaVuSans-48\"/>\n       <use x=\"159.033203\" xlink:href=\"#DejaVuSans-48\"/>\n       <use x=\"222.65625\" xlink:href=\"#DejaVuSans-53\"/>\n      </g>\n     </g>\n    </g>\n    <g id=\"ytick_3\">\n     <g id=\"line2d_8\">\n      <g>\n       <use style=\"stroke:#000000;stroke-width:0.8;\" x=\"56.50625\" xlink:href=\"#m92f1d9e72b\" y=\"153.484866\"/>\n      </g>\n     </g>\n     <g id=\"text_9\">\n      <!-- 0.010 -->\n      <g transform=\"translate(20.878125 157.284084)scale(0.1 -0.1)\">\n       <defs>\n        <path d=\"M 12.40625 8.296875 \nL 28.515625 8.296875 \nL 28.515625 63.921875 \nL 10.984375 60.40625 \nL 10.984375 69.390625 \nL 28.421875 72.90625 \nL 38.28125 72.90625 \nL 38.28125 8.296875 \nL 54.390625 8.296875 \nL 54.390625 0 \nL 12.40625 0 \nz\n\" id=\"DejaVuSans-49\"/>\n       </defs>\n       <use xlink:href=\"#DejaVuSans-48\"/>\n       <use x=\"63.623047\" xlink:href=\"#DejaVuSans-46\"/>\n       <use x=\"95.410156\" xlink:href=\"#DejaVuSans-48\"/>\n       <use x=\"159.033203\" xlink:href=\"#DejaVuSans-49\"/>\n       <use x=\"222.65625\" xlink:href=\"#DejaVuSans-48\"/>\n      </g>\n     </g>\n    </g>\n    <g id=\"ytick_4\">\n     <g id=\"line2d_9\">\n      <g>\n       <use style=\"stroke:#000000;stroke-width:0.8;\" x=\"56.50625\" xlink:href=\"#m92f1d9e72b\" y=\"117.907299\"/>\n      </g>\n     </g>\n     <g id=\"text_10\">\n      <!-- 0.015 -->\n      <g transform=\"translate(20.878125 121.706517)scale(0.1 -0.1)\">\n       <use xlink:href=\"#DejaVuSans-48\"/>\n       <use x=\"63.623047\" xlink:href=\"#DejaVuSans-46\"/>\n       <use x=\"95.410156\" xlink:href=\"#DejaVuSans-48\"/>\n       <use x=\"159.033203\" xlink:href=\"#DejaVuSans-49\"/>\n       <use x=\"222.65625\" xlink:href=\"#DejaVuSans-53\"/>\n      </g>\n     </g>\n    </g>\n    <g id=\"ytick_5\">\n     <g id=\"line2d_10\">\n      <g>\n       <use style=\"stroke:#000000;stroke-width:0.8;\" x=\"56.50625\" xlink:href=\"#m92f1d9e72b\" y=\"82.329731\"/>\n      </g>\n     </g>\n     <g id=\"text_11\">\n      <!-- 0.020 -->\n      <g transform=\"translate(20.878125 86.12895)scale(0.1 -0.1)\">\n       <use xlink:href=\"#DejaVuSans-48\"/>\n       <use x=\"63.623047\" xlink:href=\"#DejaVuSans-46\"/>\n       <use x=\"95.410156\" xlink:href=\"#DejaVuSans-48\"/>\n       <use x=\"159.033203\" xlink:href=\"#DejaVuSans-50\"/>\n       <use x=\"222.65625\" xlink:href=\"#DejaVuSans-48\"/>\n      </g>\n     </g>\n    </g>\n    <g id=\"ytick_6\">\n     <g id=\"line2d_11\">\n      <g>\n       <use style=\"stroke:#000000;stroke-width:0.8;\" x=\"56.50625\" xlink:href=\"#m92f1d9e72b\" y=\"46.752164\"/>\n      </g>\n     </g>\n     <g id=\"text_12\">\n      <!-- 0.025 -->\n      <g transform=\"translate(20.878125 50.551383)scale(0.1 -0.1)\">\n       <use xlink:href=\"#DejaVuSans-48\"/>\n       <use x=\"63.623047\" xlink:href=\"#DejaVuSans-46\"/>\n       <use x=\"95.410156\" xlink:href=\"#DejaVuSans-48\"/>\n       <use x=\"159.033203\" xlink:href=\"#DejaVuSans-50\"/>\n       <use x=\"222.65625\" xlink:href=\"#DejaVuSans-53\"/>\n      </g>\n     </g>\n    </g>\n    <g id=\"ytick_7\">\n     <g id=\"line2d_12\">\n      <g>\n       <use style=\"stroke:#000000;stroke-width:0.8;\" x=\"56.50625\" xlink:href=\"#m92f1d9e72b\" y=\"11.174597\"/>\n      </g>\n     </g>\n     <g id=\"text_13\">\n      <!-- 0.030 -->\n      <g transform=\"translate(20.878125 14.973816)scale(0.1 -0.1)\">\n       <defs>\n        <path d=\"M 40.578125 39.3125 \nQ 47.65625 37.796875 51.625 33 \nQ 55.609375 28.21875 55.609375 21.1875 \nQ 55.609375 10.40625 48.1875 4.484375 \nQ 40.765625 -1.421875 27.09375 -1.421875 \nQ 22.515625 -1.421875 17.65625 -0.515625 \nQ 12.796875 0.390625 7.625 2.203125 \nL 7.625 11.71875 \nQ 11.71875 9.328125 16.59375 8.109375 \nQ 21.484375 6.890625 26.8125 6.890625 \nQ 36.078125 6.890625 40.9375 10.546875 \nQ 45.796875 14.203125 45.796875 21.1875 \nQ 45.796875 27.640625 41.28125 31.265625 \nQ 36.765625 34.90625 28.71875 34.90625 \nL 20.21875 34.90625 \nL 20.21875 43.015625 \nL 29.109375 43.015625 \nQ 36.375 43.015625 40.234375 45.921875 \nQ 44.09375 48.828125 44.09375 54.296875 \nQ 44.09375 59.90625 40.109375 62.90625 \nQ 36.140625 65.921875 28.71875 65.921875 \nQ 24.65625 65.921875 20.015625 65.03125 \nQ 15.375 64.15625 9.8125 62.3125 \nL 9.8125 71.09375 \nQ 15.4375 72.65625 20.34375 73.4375 \nQ 25.25 74.21875 29.59375 74.21875 \nQ 40.828125 74.21875 47.359375 69.109375 \nQ 53.90625 64.015625 53.90625 55.328125 \nQ 53.90625 49.265625 50.4375 45.09375 \nQ 46.96875 40.921875 40.578125 39.3125 \nz\n\" id=\"DejaVuSans-51\"/>\n       </defs>\n       <use xlink:href=\"#DejaVuSans-48\"/>\n       <use x=\"63.623047\" xlink:href=\"#DejaVuSans-46\"/>\n       <use x=\"95.410156\" xlink:href=\"#DejaVuSans-48\"/>\n       <use x=\"159.033203\" xlink:href=\"#DejaVuSans-51\"/>\n       <use x=\"222.65625\" xlink:href=\"#DejaVuSans-48\"/>\n      </g>\n     </g>\n    </g>\n    <g id=\"text_14\">\n     <!-- Density -->\n     <g transform=\"translate(14.798437 134.928594)rotate(-90)scale(0.1 -0.1)\">\n      <defs>\n       <path d=\"M 19.671875 64.796875 \nL 19.671875 8.109375 \nL 31.59375 8.109375 \nQ 46.6875 8.109375 53.6875 14.9375 \nQ 60.6875 21.78125 60.6875 36.53125 \nQ 60.6875 51.171875 53.6875 57.984375 \nQ 46.6875 64.796875 31.59375 64.796875 \nz\nM 9.8125 72.90625 \nL 30.078125 72.90625 \nQ 51.265625 72.90625 61.171875 64.09375 \nQ 71.09375 55.28125 71.09375 36.53125 \nQ 71.09375 17.671875 61.125 8.828125 \nQ 51.171875 0 30.078125 0 \nL 9.8125 0 \nz\n\" id=\"DejaVuSans-68\"/>\n       <path d=\"M 54.890625 33.015625 \nL 54.890625 0 \nL 45.90625 0 \nL 45.90625 32.71875 \nQ 45.90625 40.484375 42.875 44.328125 \nQ 39.84375 48.1875 33.796875 48.1875 \nQ 26.515625 48.1875 22.3125 43.546875 \nQ 18.109375 38.921875 18.109375 30.90625 \nL 18.109375 0 \nL 9.078125 0 \nL 9.078125 54.6875 \nL 18.109375 54.6875 \nL 18.109375 46.1875 \nQ 21.34375 51.125 25.703125 53.5625 \nQ 30.078125 56 35.796875 56 \nQ 45.21875 56 50.046875 50.171875 \nQ 54.890625 44.34375 54.890625 33.015625 \nz\n\" id=\"DejaVuSans-110\"/>\n       <path d=\"M 44.28125 53.078125 \nL 44.28125 44.578125 \nQ 40.484375 46.53125 36.375 47.5 \nQ 32.28125 48.484375 27.875 48.484375 \nQ 21.1875 48.484375 17.84375 46.4375 \nQ 14.5 44.390625 14.5 40.28125 \nQ 14.5 37.15625 16.890625 35.375 \nQ 19.28125 33.59375 26.515625 31.984375 \nL 29.59375 31.296875 \nQ 39.15625 29.25 43.1875 25.515625 \nQ 47.21875 21.78125 47.21875 15.09375 \nQ 47.21875 7.46875 41.1875 3.015625 \nQ 35.15625 -1.421875 24.609375 -1.421875 \nQ 20.21875 -1.421875 15.453125 -0.5625 \nQ 10.6875 0.296875 5.421875 2 \nL 5.421875 11.28125 \nQ 10.40625 8.6875 15.234375 7.390625 \nQ 20.0625 6.109375 24.8125 6.109375 \nQ 31.15625 6.109375 34.5625 8.28125 \nQ 37.984375 10.453125 37.984375 14.40625 \nQ 37.984375 18.0625 35.515625 20.015625 \nQ 33.0625 21.96875 24.703125 23.78125 \nL 21.578125 24.515625 \nQ 13.234375 26.265625 9.515625 29.90625 \nQ 5.8125 33.546875 5.8125 39.890625 \nQ 5.8125 47.609375 11.28125 51.796875 \nQ 16.75 56 26.8125 56 \nQ 31.78125 56 36.171875 55.265625 \nQ 40.578125 54.546875 44.28125 53.078125 \nz\n\" id=\"DejaVuSans-115\"/>\n       <path d=\"M 9.421875 54.6875 \nL 18.40625 54.6875 \nL 18.40625 0 \nL 9.421875 0 \nz\nM 9.421875 75.984375 \nL 18.40625 75.984375 \nL 18.40625 64.59375 \nL 9.421875 64.59375 \nz\n\" id=\"DejaVuSans-105\"/>\n       <path d=\"M 18.3125 70.21875 \nL 18.3125 54.6875 \nL 36.8125 54.6875 \nL 36.8125 47.703125 \nL 18.3125 47.703125 \nL 18.3125 18.015625 \nQ 18.3125 11.328125 20.140625 9.421875 \nQ 21.96875 7.515625 27.59375 7.515625 \nL 36.8125 7.515625 \nL 36.8125 0 \nL 27.59375 0 \nQ 17.1875 0 13.234375 3.875 \nQ 9.28125 7.765625 9.28125 18.015625 \nL 9.28125 47.703125 \nL 2.6875 47.703125 \nL 2.6875 54.6875 \nL 9.28125 54.6875 \nL 9.28125 70.21875 \nz\n\" id=\"DejaVuSans-116\"/>\n       <path d=\"M 32.171875 -5.078125 \nQ 28.375 -14.84375 24.75 -17.8125 \nQ 21.140625 -20.796875 15.09375 -20.796875 \nL 7.90625 -20.796875 \nL 7.90625 -13.28125 \nL 13.1875 -13.28125 \nQ 16.890625 -13.28125 18.9375 -11.515625 \nQ 21 -9.765625 23.484375 -3.21875 \nL 25.09375 0.875 \nL 2.984375 54.6875 \nL 12.5 54.6875 \nL 29.59375 11.921875 \nL 46.6875 54.6875 \nL 56.203125 54.6875 \nz\n\" id=\"DejaVuSans-121\"/>\n      </defs>\n      <use xlink:href=\"#DejaVuSans-68\"/>\n      <use x=\"77.001953\" xlink:href=\"#DejaVuSans-101\"/>\n      <use x=\"138.525391\" xlink:href=\"#DejaVuSans-110\"/>\n      <use x=\"201.904297\" xlink:href=\"#DejaVuSans-115\"/>\n      <use x=\"254.003906\" xlink:href=\"#DejaVuSans-105\"/>\n      <use x=\"281.787109\" xlink:href=\"#DejaVuSans-116\"/>\n      <use x=\"320.996094\" xlink:href=\"#DejaVuSans-121\"/>\n     </g>\n    </g>\n   </g>\n   <g id=\"line2d_13\">\n    <path clip-path=\"url(#paaefd536dd)\" d=\"M 71.724432 224.032189 \nL 73.253897 222.500709 \nL 74.783363 218.328508 \nL 76.312828 208.998159 \nL 77.842294 191.978765 \nL 79.371759 166.936301 \nL 80.901225 137.851849 \nL 82.43069 112.513336 \nL 83.960156 98.542087 \nL 85.489621 98.80095 \nL 87.019087 110.195912 \nL 90.078018 142.567189 \nL 91.607483 155.569857 \nL 93.136949 165.239469 \nL 94.666414 172.335196 \nL 96.19588 177.805224 \nL 97.725345 182.374081 \nL 99.254811 186.427501 \nL 100.784276 190.068145 \nL 102.313742 193.273174 \nL 103.843208 196.041017 \nL 105.372673 198.430164 \nL 106.902139 200.515003 \nL 108.431604 202.354066 \nL 111.490535 205.488168 \nL 114.549466 208.074066 \nL 117.608397 210.159462 \nL 120.667328 211.848315 \nL 125.255725 213.916147 \nL 131.373587 216.583382 \nL 132.903052 217.063315 \nL 135.961983 217.596977 \nL 139.020914 218.045602 \nL 142.079845 218.512653 \nL 146.668242 218.736603 \nL 148.197707 219.013038 \nL 152.786104 220.145703 \nL 158.903966 220.843362 \nL 161.962897 221.43952 \nL 163.492362 221.565155 \nL 169.610224 221.524273 \nL 175.728086 222.050642 \nL 180.316483 222.219629 \nL 186.434345 223.017396 \nL 191.022742 223.498493 \nL 198.670069 223.912647 \nL 204.787931 224.119459 \nL 252.201362 224.519119 \nL 256.789758 224.414497 \nL 267.496017 224.591814 \nL 275.143345 224.539031 \nL 282.790672 224.625411 \nL 296.555862 224.627192 \nL 319.497844 224.631115 \nL 336.321965 224.638584 \nL 376.088068 224.639819 \nL 376.088068 224.639819 \n\" style=\"fill:none;stroke:#1f77b4;stroke-linecap:square;stroke-width:1.5;\"/>\n   </g>\n   <g id=\"patch_53\">\n    <path d=\"M 56.50625 224.64 \nL 56.50625 7.2 \n\" style=\"fill:none;stroke:#000000;stroke-linecap:square;stroke-linejoin:miter;stroke-width:0.8;\"/>\n   </g>\n   <g id=\"patch_54\">\n    <path d=\"M 391.30625 224.64 \nL 391.30625 7.2 \n\" style=\"fill:none;stroke:#000000;stroke-linecap:square;stroke-linejoin:miter;stroke-width:0.8;\"/>\n   </g>\n   <g id=\"patch_55\">\n    <path d=\"M 56.50625 224.64 \nL 391.30625 224.64 \n\" style=\"fill:none;stroke:#000000;stroke-linecap:square;stroke-linejoin:miter;stroke-width:0.8;\"/>\n   </g>\n   <g id=\"patch_56\">\n    <path d=\"M 56.50625 7.2 \nL 391.30625 7.2 \n\" style=\"fill:none;stroke:#000000;stroke-linecap:square;stroke-linejoin:miter;stroke-width:0.8;\"/>\n   </g>\n  </g>\n </g>\n <defs>\n  <clipPath id=\"paaefd536dd\">\n   <rect height=\"217.44\" width=\"334.8\" x=\"56.50625\" y=\"7.2\"/>\n  </clipPath>\n </defs>\n</svg>\n",
      "image/png": "[encoded data removed]"
     },
     "metadata": {
      "needs_background": "light"
     }
    }
   ],
   "source": [
    "# Define mean squared error function  \n",
    "def get_mse(y, ypred):\n",
    "    mse = np.mean((y-ypred)**2)\n",
    "    return mse\n",
    "\n",
    "# Get mean and std of test loss \n",
    "mse = get_mse(data.overall, data.overall.mean())\n",
    "loss = (data.overall - data.overall.mean())**2\n",
    "exp_loss = loss.std()\n",
    "\n",
    "print('MEAN: ', mse)\n",
    "print('STANDARD DEVIATION: ', exp_loss) \n",
    "\n",
    "# Plot distribution  \n",
    "sns.distplot(loss)\n",
    "plt.show()\n",
    "\n"
   ]
  },
  {
   "source": [
    "### Question 3: /15pts\n",
    "\n",
    "To prepare the data for modelling, the hiring manager asks you use `sklearn.model_selection.train_test_split` to seperate the data into a training set and a test set.\n",
    "\n",
    "The hiring manager would like you to estimate the performance of the final selected model to within +/- 0.25 units using mean squared error as the loss function of choice.  You remember that you can use the formula for effective test size to accomplish this.\n",
    "\n",
    "The formula for the effective test size is\n",
    "\n",
    "$$ n = \\left(\\frac{1.96 \\sigma_l}{d}\\right)^2$$\n",
    "\n",
    "Can you estimate the performance of the model to within their desired precsion? Why or why not?  If you can't, tell the hiring manager why you can't and then tell them what precision splitting the data into 50% train and 50% test will achieve.\n",
    "\n",
    "Include your answer as if you were writing the hiring manager an email in a markdown cell below..."
   ],
   "cell_type": "markdown",
   "metadata": {}
  },
  {
   "source": [
    "Hey Hiring Manager,\n",
    "\n",
    "The model can't be estimated within your desired precision. To achieve this precision, we will need a test set size of at least 289937. We don't have enough data to have a test set of this size. If we split the data into 50% train and 50% test, then we can achieve a precision of +/- 1.42 units.\n",
    "\n",
    "Sincerely,\n",
    "Maya\n"
   ],
   "cell_type": "markdown",
   "metadata": {}
  },
  {
   "cell_type": "code",
   "execution_count": 4,
   "metadata": {},
   "outputs": [
    {
     "output_type": "stream",
     "name": "stdout",
     "text": [
      "Required test size for +/- 0.25 units:  289936.07880313\nPrecision with train/test split equally:  1.4191956749545402\n"
     ]
    }
   ],
   "source": [
    "# Provide your calculation as evidence\n",
    "test_size = ((1.96 * exp_loss)/0.25)**2\n",
    "\n",
    "y = data.overall\n",
    "X = data.drop('overall', axis = 'columns')\n",
    "\n",
    "n = len(y)/2\n",
    "d = (1.96 * exp_loss)/(n**0.5)\n",
    "\n",
    "print('Required test size for +/- 0.25 units: ', test_size)\n",
    "print('Precision with train/test split equally: ', d)\n",
    "\n",
    "Xtrain, Xtest, ytrain, ytest = train_test_split(X, y, test_size=0.20, random_state=0)\n",
    "\n"
   ]
  },
  {
   "cell_type": "markdown",
   "metadata": {},
   "source": [
    "### Question 4: /5pts\n",
    "The team at the football clib use sklearn to build a model pipelines for their projects. To learn more about pipelines, do lab section 5.9 (lab part 2) and read up on sklearn pipelines [here](https://scikit-learn.org/stable/modules/generated/sklearn.pipeline.Pipeline.html). \n",
    "\n",
    "The hiring manager want you to create a model pipeline to be fit later.  Create an sklearn pipeline which fits a linear regression model.  Don't fit the data yet!  The hiring manager will tell you when to do that...\n",
    "\n",
    "Note that the sklearn linear regression adds its own intercept so you don't need to create a column of 1s.\n"
   ]
  },
  {
   "cell_type": "code",
   "execution_count": 5,
   "metadata": {},
   "outputs": [],
   "source": [
    "model1 = Pipeline([('linear_regression', LinearRegression())])"
   ]
  },
  {
   "cell_type": "markdown",
   "metadata": {},
   "source": [
    "### Question 5: /15pts\n",
    "\n",
    "The hiring manager wants you to perform cross validation on the model you constructed in the last question.  They want to make sure you understand what cross validation is, so they've asked you to **write your own function to do cross validation.  Do not use sklearn's functions to do this for you.  Else, you won't get the job!**.\n",
    "\n",
    "\n",
    "Your function should take the following arguments:\n",
    "\n",
    "* `model` -- an instance of an sklearn pipeline (like the one you made in the last question)\n",
    "* `X` -- a matrix of features\n",
    "* `y` -- a vector of outcomes (remember we're using the \"overall\" column from the data)\n",
    "* `K` -- an integer no smaller than 1 and no larger than 10.  This represents the number of folds to make in the cross validation step.\n",
    "* `scoring` -- a loss function.  \n",
    "\n",
    "Your function should return:\n",
    "\n",
    "* cv_scores -- an array of length `K`.  This houses the cross validation estimates from each fold.\n",
    "\n",
    "Perform 5 fold cross validation with your function.  Report the estimated average mean square error from your cross validation.\n",
    "\n",
    "Note: Please make sure you write your own function to perform crossvalidation. While you can use sklearn's `cross_val_score` the main aim of this question is to test that you have a thorough understanding of cross-validation."
   ]
  },
  {
   "cell_type": "code",
   "execution_count": 6,
   "metadata": {
    "tags": []
   },
   "outputs": [
    {
     "output_type": "stream",
     "name": "stdout",
     "text": [
      "MSE from each fold:\n[6.04385785 5.73647415 5.85321565 5.74909268 6.02220151]\nMean MSE:\n5.880968369402618\n"
     ]
    }
   ],
   "source": [
    "def cross_validate(model, X, y, K, scoring_function):\n",
    "    \n",
    "\t# Divide data set randomly into K partitions\n",
    "\tfolds_X = list()\n",
    "\tfolds_y = list()\n",
    "\tdata_X = X.to_numpy().tolist()\n",
    "\tdata_y = y.to_numpy().tolist()\n",
    "\tsize = int(len(data_X) / K)\n",
    "\n",
    "\tfor i in range(K):\n",
    "\t\tfold_X = list()\n",
    "\t\tfold_y = list()\n",
    "\n",
    "\t\twhile len(fold_X) < size:\n",
    "\t\t\t# Randomly split up the data\n",
    "\t\t\tindex = np.random.random_integers(0, len(data_X)-1)\n",
    "\t\t\tfold_X.append(data_X.pop(index))\n",
    "\t\t\tfold_y.append(data_y.pop(index))\n",
    "\t\t# Add fold to the list\n",
    "\t\tfolds_X.append(fold_X)\n",
    "\t\tfolds_y.append(fold_y)\n",
    "\n",
    "    # For each crossvalidation fold, fit the model on K-1 partitions and evaluation on the remaning Kth partition \n",
    "\tcv_scores = list()\n",
    "\tfor i in range(0, K):\n",
    "\t\ttraining_data_X = list()\n",
    "\t\ttraining_data_y = list()\n",
    "\t\tfor j in range(0, K):\n",
    "\t\t\tif (j != i):\n",
    "\t\t\t\t# Create the training sets from K-1 partitions\n",
    "\t\t\t\ttraining_data_X.extend(folds_X[j])\n",
    "\t\t\t\ttraining_data_y.extend(folds_y[j])\n",
    "\t\t# Get the scores\n",
    "\t\tfit = model.fit(training_data_X, training_data_y)\n",
    "\t\typred = fit.predict(folds_X[i])\n",
    "\t\tscore = scoring_function(folds_y[i], ypred)\n",
    "\t\tcv_scores.append(score)\n",
    "    \n",
    "\tcv_scores = np.array(cv_scores)\n",
    "\treturn cv_scores\n",
    "\n",
    "# Test your function with K = 5\n",
    "cv_scores1 = cross_validate(model1, X, y, 5, mean_squared_error)\n",
    "print('MSE from each fold:')\n",
    "print(cv_scores1)\n",
    "print('Mean MSE:')\n",
    "print(cv_scores1.mean())"
   ]
  },
  {
   "cell_type": "markdown",
   "metadata": {},
   "source": [
    "### Question 6: /15pts\n",
    "\n",
    "That's impressive!  Your model seems to be very accurate, but now the hiring manager wants to try and make it more accurate.  They share with you that scounts see that players hit their prime in their late 20s, and as they age they become worse overall.  Thus, the effect of age seems to increase at first and then start to decrease.  Kind of like a quadratic funciton.\n",
    "\n",
    "The hiring manager wants you to add a quadratic term for age to the model.  Repeat the steps above (creating a pipeline, validating the model, etc) for a model which includes a quadratic term for age. As in the Lab, include the addition of the quadratic term for Age as a Transform into the pipeline. Report the cross validated performance below."
   ]
  },
  {
   "cell_type": "code",
   "execution_count": 7,
   "metadata": {},
   "outputs": [
    {
     "output_type": "stream",
     "name": "stdout",
     "text": [
      "Cross Validated Performance:  5.755647742091438\n"
     ]
    }
   ],
   "source": [
    "class Age2(BaseEstimator, TransformerMixin):\n",
    "    def fit(self, X, y=None):\n",
    "        return self\n",
    "    \n",
    "    def transform(self, X, y=None):\n",
    "        X = X.assign(age2 = X.age**2)\n",
    "        return X\n",
    "\n",
    "model2 = Pipeline([\n",
    "    ('age2', Age2()),\n",
    "    ('linear regression', LinearRegression())\n",
    "])\n",
    "\n",
    "cv_scores2 = cross_val_score(model2, Xtrain, ytrain, cv=5, scoring=make_scorer(get_mse))\n",
    "print('Cross Validated Performance: ', cv_scores2.mean())"
   ]
  },
  {
   "cell_type": "markdown",
   "metadata": {},
   "source": [
    "### Question 7: /10 pts\n",
    "\n",
    "\n",
    "Hmmm...You aren't happy that the quadratic age  term has not improved the fit of the model.  You *really* want to impress the hiring manager, and decide to add more features to your model in hopes it will improve performance. \n",
    "\n",
    "Add sklearn's `PolynomialFeatures` to your pipeline from question 5 and set `degree=2`. Cross validate the new model and report the performance."
   ]
  },
  {
   "cell_type": "code",
   "execution_count": 8,
   "metadata": {},
   "outputs": [
    {
     "output_type": "stream",
     "name": "stdout",
     "text": [
      "Cross Validation Performance:  1.3784765866975803\n"
     ]
    }
   ],
   "source": [
    "model3 = Pipeline([\n",
    "    ('poly', PolynomialFeatures(degree=2, include_bias=False)),\n",
    "    ('linear_regression', LinearRegression())\n",
    "])\n",
    "\n",
    "cv_scores3 = cross_val_score(model3, Xtrain, ytrain, cv=5, scoring=make_scorer(get_mse))\n",
    "print('Cross Validation Performance: ', cv_scores3.mean())"
   ]
  },
  {
   "cell_type": "markdown",
   "metadata": {},
   "source": [
    "### Question 8: /10pts\n",
    "\n",
    "Great job!  You've managed to decrease the loss by a lot!  The hiring manager is really impressed with your work and things are looking good for your employment status!  \n",
    "\n",
    "However, the hiring manager is a little too happy with your peformance.  The hiring manager wants to explore third order interactions (that is adding cubic terms to the model).  The hiring manager tells you that their super computers can handle the computation; \"*It's no big deal for us*\" they boast.\n",
    " \n",
    "This is not a good idea, and you know it!  Talk them out of doing this.  Write them an email in the cell below explaining what could happen if you add too may interactions.\n",
    "\n",
    "---"
   ]
  },
  {
   "source": [
    "Hey Hiring Manager,\n",
    "\n",
    "I suggest that we do not add a cubic term to the model, because adding too many interactions will end up overfitting the data. This happens because the model learns the noise of the training data, rather than the actual trend. Although this may better fit the training data, it will result in high errors for the testing data and for future predictions. \n",
    "\n",
    "Sincerely,\n",
    "Maya\n",
    "\n"
   ],
   "cell_type": "markdown",
   "metadata": {}
  },
  {
   "cell_type": "markdown",
   "metadata": {},
   "source": [
    "### Question 9:  /10pts\n",
    "\n",
    "You've successfully talked the hiring manager out of adding cubic terms to the model. Good job!  Now the hiring manager asks for your opinion.  Over the course of the interview, you've fit three models.  It is time to pick a model to deploy!\n",
    "\n",
    "Based on the cross validation scores, which model would you choose?  \n",
    "Train your chosen model on all the training data. \n",
    "Estimate the performance of your chosen model on the test data you held out, and do the following:\n",
    "\n",
    "- Compute a point estimate for the generalization error. (A \"point estimate\" is a single number that we expect to be close to the thing we are trying to estimate.)\n",
    "- Compute a confidence interval for the generalization error.  \n",
    "- Plot the distribution of the squared errors.\n",
    "\n",
    "Is the test error close to the cross validation error of the model you chose? Why do you think this is the case? Answer below as if you were talking to the hiring manager.\n"
   ]
  },
  {
   "source": [
    "Hey Hiring Manager,\n",
    "\n",
    "The test error is close to the cross validation error of model 3 because they should be close; the cross validation error is the mean squared error across n = 5 trials of train/test split, whereas the generalized error is the mean squared error across n = 1 trial of train/test split. Therefore, it is no surprise that the errors are similar. \n",
    "\n",
    "Sincerely,\n",
    "Maya"
   ],
   "cell_type": "markdown",
   "metadata": {}
  },
  {
   "cell_type": "code",
   "execution_count": 9,
   "metadata": {},
   "outputs": [
    {
     "output_type": "stream",
     "name": "stdout",
     "text": [
      "Generalization Error:  1.39878842777015\nConfidence Interval 95%:  [1.30552629 1.49205057]\n"
     ]
    },
    {
     "output_type": "display_data",
     "data": {
      "text/plain": "<Figure size 432x288 with 1 Axes>",
      "image/svg+xml": "<?xml version=\"1.0\" encoding=\"utf-8\" standalone=\"no\"?>\n<!DOCTYPE svg PUBLIC \"-//W3C//DTD SVG 1.1//EN\"\n  \"http://www.w3.org/Graphics/SVG/1.1/DTD/svg11.dtd\">\n<!-- Created with matplotlib (https://matplotlib.org/) -->\n<svg height=\"262.19625pt\" version=\"1.1\" viewBox=\"0 0 385.78125 262.19625\" width=\"385.78125pt\" xmlns=\"http://www.w3.org/2000/svg\" xmlns:xlink=\"http://www.w3.org/1999/xlink\">\n <metadata>\n  <rdf:RDF xmlns:cc=\"http://creativecommons.org/ns#\" xmlns:dc=\"http://purl.org/dc/elements/1.1/\" xmlns:rdf=\"http://www.w3.org/1999/02/22-rdf-syntax-ns#\">\n   <cc:Work>\n    <dc:type rdf:resource=\"http://purl.org/dc/dcmitype/StillImage\"/>\n    <dc:date>2021-02-21T22:14:31.645703</dc:date>\n    <dc:format>image/svg+xml</dc:format>\n    <dc:creator>\n     <cc:Agent>\n      <dc:title>Matplotlib v3.3.4, https://matplotlib.org/</dc:title>\n     </cc:Agent>\n    </dc:creator>\n   </cc:Work>\n  </rdf:RDF>\n </metadata>\n <defs>\n  <style type=\"text/css\">*{stroke-linecap:butt;stroke-linejoin:round;}</style>\n </defs>\n <g id=\"figure_1\">\n  <g id=\"patch_1\">\n   <path d=\"M 0 262.19625 \nL 385.78125 262.19625 \nL 385.78125 0 \nL 0 0 \nz\n\" style=\"fill:none;\"/>\n  </g>\n  <g id=\"axes_1\">\n   <g id=\"patch_2\">\n    <path d=\"M 43.78125 224.64 \nL 378.58125 224.64 \nL 378.58125 7.2 \nL 43.78125 7.2 \nz\n\" style=\"fill:#ffffff;\"/>\n   </g>\n   <g id=\"patch_3\">\n    <path clip-path=\"url(#pe91b96710d)\" d=\"M 68.121798 224.64 \nL 73.844176 224.64 \nL 73.844176 17.554286 \nL 68.121798 17.554286 \nz\n\" style=\"fill:#1f77b4;opacity:0.4;\"/>\n   </g>\n   <g id=\"patch_4\">\n    <path clip-path=\"url(#pe91b96710d)\" d=\"M 73.844176 224.64 \nL 79.566554 224.64 \nL 79.566554 182.090491 \nL 73.844176 182.090491 \nz\n\" style=\"fill:#1f77b4;opacity:0.4;\"/>\n   </g>\n   <g id=\"patch_5\">\n    <path clip-path=\"url(#pe91b96710d)\" d=\"M 79.566554 224.64 \nL 85.288932 224.64 \nL 85.288932 203.365246 \nL 79.566554 203.365246 \nz\n\" style=\"fill:#1f77b4;opacity:0.4;\"/>\n   </g>\n   <g id=\"patch_6\">\n    <path clip-path=\"url(#pe91b96710d)\" d=\"M 85.288932 224.64 \nL 91.01131 224.64 \nL 91.01131 212.029561 \nL 85.288932 212.029561 \nz\n\" style=\"fill:#1f77b4;opacity:0.4;\"/>\n   </g>\n   <g id=\"patch_7\">\n    <path clip-path=\"url(#pe91b96710d)\" d=\"M 91.01131 224.64 \nL 96.733688 224.64 \nL 96.733688 216.233041 \nL 91.01131 216.233041 \nz\n\" style=\"fill:#1f77b4;opacity:0.4;\"/>\n   </g>\n   <g id=\"patch_8\">\n    <path clip-path=\"url(#pe91b96710d)\" d=\"M 96.733688 224.64 \nL 102.456066 224.64 \nL 102.456066 219.235526 \nL 96.733688 219.235526 \nz\n\" style=\"fill:#1f77b4;opacity:0.4;\"/>\n   </g>\n   <g id=\"patch_9\">\n    <path clip-path=\"url(#pe91b96710d)\" d=\"M 102.456066 224.64 \nL 108.178445 224.64 \nL 108.178445 222.666938 \nL 102.456066 222.666938 \nz\n\" style=\"fill:#1f77b4;opacity:0.4;\"/>\n   </g>\n   <g id=\"patch_10\">\n    <path clip-path=\"url(#pe91b96710d)\" d=\"M 108.178445 224.64 \nL 113.900823 224.64 \nL 113.900823 222.238012 \nL 108.178445 222.238012 \nz\n\" style=\"fill:#1f77b4;opacity:0.4;\"/>\n   </g>\n   <g id=\"patch_11\">\n    <path clip-path=\"url(#pe91b96710d)\" d=\"M 113.900823 224.64 \nL 119.623201 224.64 \nL 119.623201 222.838509 \nL 113.900823 222.838509 \nz\n\" style=\"fill:#1f77b4;opacity:0.4;\"/>\n   </g>\n   <g id=\"patch_12\">\n    <path clip-path=\"url(#pe91b96710d)\" d=\"M 119.623201 224.64 \nL 125.345579 224.64 \nL 125.345579 223.867932 \nL 119.623201 223.867932 \nz\n\" style=\"fill:#1f77b4;opacity:0.4;\"/>\n   </g>\n   <g id=\"patch_13\">\n    <path clip-path=\"url(#pe91b96710d)\" d=\"M 125.345579 224.64 \nL 131.067957 224.64 \nL 131.067957 224.039503 \nL 125.345579 224.039503 \nz\n\" style=\"fill:#1f77b4;opacity:0.4;\"/>\n   </g>\n   <g id=\"patch_14\">\n    <path clip-path=\"url(#pe91b96710d)\" d=\"M 131.067957 224.64 \nL 136.790335 224.64 \nL 136.790335 224.125288 \nL 131.067957 224.125288 \nz\n\" style=\"fill:#1f77b4;opacity:0.4;\"/>\n   </g>\n   <g id=\"patch_15\">\n    <path clip-path=\"url(#pe91b96710d)\" d=\"M 136.790335 224.64 \nL 142.512713 224.64 \nL 142.512713 223.953718 \nL 136.790335 223.953718 \nz\n\" style=\"fill:#1f77b4;opacity:0.4;\"/>\n   </g>\n   <g id=\"patch_16\">\n    <path clip-path=\"url(#pe91b96710d)\" d=\"M 142.512713 224.64 \nL 148.235091 224.64 \nL 148.235091 224.468429 \nL 142.512713 224.468429 \nz\n\" style=\"fill:#1f77b4;opacity:0.4;\"/>\n   </g>\n   <g id=\"patch_17\">\n    <path clip-path=\"url(#pe91b96710d)\" d=\"M 148.235091 224.64 \nL 153.957469 224.64 \nL 153.957469 224.382644 \nL 148.235091 224.382644 \nz\n\" style=\"fill:#1f77b4;opacity:0.4;\"/>\n   </g>\n   <g id=\"patch_18\">\n    <path clip-path=\"url(#pe91b96710d)\" d=\"M 153.957469 224.64 \nL 159.679847 224.64 \nL 159.679847 224.468429 \nL 153.957469 224.468429 \nz\n\" style=\"fill:#1f77b4;opacity:0.4;\"/>\n   </g>\n   <g id=\"patch_19\">\n    <path clip-path=\"url(#pe91b96710d)\" d=\"M 159.679847 224.64 \nL 165.402225 224.64 \nL 165.402225 224.296859 \nL 159.679847 224.296859 \nz\n\" style=\"fill:#1f77b4;opacity:0.4;\"/>\n   </g>\n   <g id=\"patch_20\">\n    <path clip-path=\"url(#pe91b96710d)\" d=\"M 165.402225 224.64 \nL 171.124603 224.64 \nL 171.124603 224.468429 \nL 165.402225 224.468429 \nz\n\" style=\"fill:#1f77b4;opacity:0.4;\"/>\n   </g>\n   <g id=\"patch_21\">\n    <path clip-path=\"url(#pe91b96710d)\" d=\"M 171.124603 224.64 \nL 176.846982 224.64 \nL 176.846982 224.468429 \nL 171.124603 224.468429 \nz\n\" style=\"fill:#1f77b4;opacity:0.4;\"/>\n   </g>\n   <g id=\"patch_22\">\n    <path clip-path=\"url(#pe91b96710d)\" d=\"M 176.846982 224.64 \nL 182.56936 224.64 \nL 182.56936 224.468429 \nL 176.846982 224.468429 \nz\n\" style=\"fill:#1f77b4;opacity:0.4;\"/>\n   </g>\n   <g id=\"patch_23\">\n    <path clip-path=\"url(#pe91b96710d)\" d=\"M 182.56936 224.64 \nL 188.291738 224.64 \nL 188.291738 224.382644 \nL 182.56936 224.382644 \nz\n\" style=\"fill:#1f77b4;opacity:0.4;\"/>\n   </g>\n   <g id=\"patch_24\">\n    <path clip-path=\"url(#pe91b96710d)\" d=\"M 188.291738 224.64 \nL 194.014116 224.64 \nL 194.014116 224.554215 \nL 188.291738 224.554215 \nz\n\" style=\"fill:#1f77b4;opacity:0.4;\"/>\n   </g>\n   <g id=\"patch_25\">\n    <path clip-path=\"url(#pe91b96710d)\" d=\"M 194.014116 224.64 \nL 199.736494 224.64 \nL 199.736494 224.554215 \nL 194.014116 224.554215 \nz\n\" style=\"fill:#1f77b4;opacity:0.4;\"/>\n   </g>\n   <g id=\"patch_26\">\n    <path clip-path=\"url(#pe91b96710d)\" d=\"M 199.736494 224.64 \nL 205.458872 224.64 \nL 205.458872 224.554215 \nL 199.736494 224.554215 \nz\n\" style=\"fill:#1f77b4;opacity:0.4;\"/>\n   </g>\n   <g id=\"patch_27\">\n    <path clip-path=\"url(#pe91b96710d)\" d=\"M 205.458872 224.64 \nL 211.18125 224.64 \nL 211.18125 224.554215 \nL 205.458872 224.554215 \nz\n\" style=\"fill:#1f77b4;opacity:0.4;\"/>\n   </g>\n   <g id=\"patch_28\">\n    <path clip-path=\"url(#pe91b96710d)\" d=\"M 211.18125 224.64 \nL 216.903628 224.64 \nL 216.903628 224.64 \nL 211.18125 224.64 \nz\n\" style=\"fill:#1f77b4;opacity:0.4;\"/>\n   </g>\n   <g id=\"patch_29\">\n    <path clip-path=\"url(#pe91b96710d)\" d=\"M 216.903628 224.64 \nL 222.626006 224.64 \nL 222.626006 224.468429 \nL 216.903628 224.468429 \nz\n\" style=\"fill:#1f77b4;opacity:0.4;\"/>\n   </g>\n   <g id=\"patch_30\">\n    <path clip-path=\"url(#pe91b96710d)\" d=\"M 222.626006 224.64 \nL 228.348384 224.64 \nL 228.348384 224.64 \nL 222.626006 224.64 \nz\n\" style=\"fill:#1f77b4;opacity:0.4;\"/>\n   </g>\n   <g id=\"patch_31\">\n    <path clip-path=\"url(#pe91b96710d)\" d=\"M 228.348384 224.64 \nL 234.070762 224.64 \nL 234.070762 224.64 \nL 228.348384 224.64 \nz\n\" style=\"fill:#1f77b4;opacity:0.4;\"/>\n   </g>\n   <g id=\"patch_32\">\n    <path clip-path=\"url(#pe91b96710d)\" d=\"M 234.070762 224.64 \nL 239.79314 224.64 \nL 239.79314 224.64 \nL 234.070762 224.64 \nz\n\" style=\"fill:#1f77b4;opacity:0.4;\"/>\n   </g>\n   <g id=\"patch_33\">\n    <path clip-path=\"url(#pe91b96710d)\" d=\"M 239.79314 224.64 \nL 245.515518 224.64 \nL 245.515518 224.64 \nL 239.79314 224.64 \nz\n\" style=\"fill:#1f77b4;opacity:0.4;\"/>\n   </g>\n   <g id=\"patch_34\">\n    <path clip-path=\"url(#pe91b96710d)\" d=\"M 245.515518 224.64 \nL 251.237897 224.64 \nL 251.237897 224.64 \nL 245.515518 224.64 \nz\n\" style=\"fill:#1f77b4;opacity:0.4;\"/>\n   </g>\n   <g id=\"patch_35\">\n    <path clip-path=\"url(#pe91b96710d)\" d=\"M 251.237897 224.64 \nL 256.960275 224.64 \nL 256.960275 224.64 \nL 251.237897 224.64 \nz\n\" style=\"fill:#1f77b4;opacity:0.4;\"/>\n   </g>\n   <g id=\"patch_36\">\n    <path clip-path=\"url(#pe91b96710d)\" d=\"M 256.960275 224.64 \nL 262.682653 224.64 \nL 262.682653 224.554215 \nL 256.960275 224.554215 \nz\n\" style=\"fill:#1f77b4;opacity:0.4;\"/>\n   </g>\n   <g id=\"patch_37\">\n    <path clip-path=\"url(#pe91b96710d)\" d=\"M 262.682653 224.64 \nL 268.405031 224.64 \nL 268.405031 224.554215 \nL 262.682653 224.554215 \nz\n\" style=\"fill:#1f77b4;opacity:0.4;\"/>\n   </g>\n   <g id=\"patch_38\">\n    <path clip-path=\"url(#pe91b96710d)\" d=\"M 268.405031 224.64 \nL 274.127409 224.64 \nL 274.127409 224.64 \nL 268.405031 224.64 \nz\n\" style=\"fill:#1f77b4;opacity:0.4;\"/>\n   </g>\n   <g id=\"patch_39\">\n    <path clip-path=\"url(#pe91b96710d)\" d=\"M 274.127409 224.64 \nL 279.849787 224.64 \nL 279.849787 224.64 \nL 274.127409 224.64 \nz\n\" style=\"fill:#1f77b4;opacity:0.4;\"/>\n   </g>\n   <g id=\"patch_40\">\n    <path clip-path=\"url(#pe91b96710d)\" d=\"M 279.849787 224.64 \nL 285.572165 224.64 \nL 285.572165 224.64 \nL 279.849787 224.64 \nz\n\" style=\"fill:#1f77b4;opacity:0.4;\"/>\n   </g>\n   <g id=\"patch_41\">\n    <path clip-path=\"url(#pe91b96710d)\" d=\"M 285.572165 224.64 \nL 291.294543 224.64 \nL 291.294543 224.468429 \nL 285.572165 224.468429 \nz\n\" style=\"fill:#1f77b4;opacity:0.4;\"/>\n   </g>\n   <g id=\"patch_42\">\n    <path clip-path=\"url(#pe91b96710d)\" d=\"M 291.294543 224.64 \nL 297.016921 224.64 \nL 297.016921 224.64 \nL 291.294543 224.64 \nz\n\" style=\"fill:#1f77b4;opacity:0.4;\"/>\n   </g>\n   <g id=\"patch_43\">\n    <path clip-path=\"url(#pe91b96710d)\" d=\"M 297.016921 224.64 \nL 302.739299 224.64 \nL 302.739299 224.64 \nL 297.016921 224.64 \nz\n\" style=\"fill:#1f77b4;opacity:0.4;\"/>\n   </g>\n   <g id=\"patch_44\">\n    <path clip-path=\"url(#pe91b96710d)\" d=\"M 302.739299 224.64 \nL 308.461677 224.64 \nL 308.461677 224.64 \nL 302.739299 224.64 \nz\n\" style=\"fill:#1f77b4;opacity:0.4;\"/>\n   </g>\n   <g id=\"patch_45\">\n    <path clip-path=\"url(#pe91b96710d)\" d=\"M 308.461677 224.64 \nL 314.184055 224.64 \nL 314.184055 224.64 \nL 308.461677 224.64 \nz\n\" style=\"fill:#1f77b4;opacity:0.4;\"/>\n   </g>\n   <g id=\"patch_46\">\n    <path clip-path=\"url(#pe91b96710d)\" d=\"M 314.184055 224.64 \nL 319.906434 224.64 \nL 319.906434 224.64 \nL 314.184055 224.64 \nz\n\" style=\"fill:#1f77b4;opacity:0.4;\"/>\n   </g>\n   <g id=\"patch_47\">\n    <path clip-path=\"url(#pe91b96710d)\" d=\"M 319.906434 224.64 \nL 325.628812 224.64 \nL 325.628812 224.64 \nL 319.906434 224.64 \nz\n\" style=\"fill:#1f77b4;opacity:0.4;\"/>\n   </g>\n   <g id=\"patch_48\">\n    <path clip-path=\"url(#pe91b96710d)\" d=\"M 325.628812 224.64 \nL 331.35119 224.64 \nL 331.35119 224.64 \nL 325.628812 224.64 \nz\n\" style=\"fill:#1f77b4;opacity:0.4;\"/>\n   </g>\n   <g id=\"patch_49\">\n    <path clip-path=\"url(#pe91b96710d)\" d=\"M 331.35119 224.64 \nL 337.073568 224.64 \nL 337.073568 224.64 \nL 331.35119 224.64 \nz\n\" style=\"fill:#1f77b4;opacity:0.4;\"/>\n   </g>\n   <g id=\"patch_50\">\n    <path clip-path=\"url(#pe91b96710d)\" d=\"M 337.073568 224.64 \nL 342.795946 224.64 \nL 342.795946 224.64 \nL 337.073568 224.64 \nz\n\" style=\"fill:#1f77b4;opacity:0.4;\"/>\n   </g>\n   <g id=\"patch_51\">\n    <path clip-path=\"url(#pe91b96710d)\" d=\"M 342.795946 224.64 \nL 348.518324 224.64 \nL 348.518324 224.64 \nL 342.795946 224.64 \nz\n\" style=\"fill:#1f77b4;opacity:0.4;\"/>\n   </g>\n   <g id=\"patch_52\">\n    <path clip-path=\"url(#pe91b96710d)\" d=\"M 348.518324 224.64 \nL 354.240702 224.64 \nL 354.240702 224.554215 \nL 348.518324 224.554215 \nz\n\" style=\"fill:#1f77b4;opacity:0.4;\"/>\n   </g>\n   <g id=\"matplotlib.axis_1\">\n    <g id=\"xtick_1\">\n     <g id=\"line2d_1\">\n      <defs>\n       <path d=\"M 0 0 \nL 0 3.5 \n\" id=\"m8761fef759\" style=\"stroke:#000000;stroke-width:0.8;\"/>\n      </defs>\n      <g>\n       <use style=\"stroke:#000000;stroke-width:0.8;\" x=\"68.121796\" xlink:href=\"#m8761fef759\" y=\"224.64\"/>\n      </g>\n     </g>\n     <g id=\"text_1\">\n      <!-- 0 -->\n      <g transform=\"translate(64.940546 239.238437)scale(0.1 -0.1)\">\n       <defs>\n        <path d=\"M 31.78125 66.40625 \nQ 24.171875 66.40625 20.328125 58.90625 \nQ 16.5 51.421875 16.5 36.375 \nQ 16.5 21.390625 20.328125 13.890625 \nQ 24.171875 6.390625 31.78125 6.390625 \nQ 39.453125 6.390625 43.28125 13.890625 \nQ 47.125 21.390625 47.125 36.375 \nQ 47.125 51.421875 43.28125 58.90625 \nQ 39.453125 66.40625 31.78125 66.40625 \nz\nM 31.78125 74.21875 \nQ 44.046875 74.21875 50.515625 64.515625 \nQ 56.984375 54.828125 56.984375 36.375 \nQ 56.984375 17.96875 50.515625 8.265625 \nQ 44.046875 -1.421875 31.78125 -1.421875 \nQ 19.53125 -1.421875 13.0625 8.265625 \nQ 6.59375 17.96875 6.59375 36.375 \nQ 6.59375 54.828125 13.0625 64.515625 \nQ 19.53125 74.21875 31.78125 74.21875 \nz\n\" id=\"DejaVuSans-48\"/>\n       </defs>\n       <use xlink:href=\"#DejaVuSans-48\"/>\n      </g>\n     </g>\n    </g>\n    <g id=\"xtick_2\">\n     <g id=\"line2d_2\">\n      <g>\n       <use style=\"stroke:#000000;stroke-width:0.8;\" x=\"122.901796\" xlink:href=\"#m8761fef759\" y=\"224.64\"/>\n      </g>\n     </g>\n     <g id=\"text_2\">\n      <!-- 10 -->\n      <g transform=\"translate(116.539296 239.238437)scale(0.1 -0.1)\">\n       <defs>\n        <path d=\"M 12.40625 8.296875 \nL 28.515625 8.296875 \nL 28.515625 63.921875 \nL 10.984375 60.40625 \nL 10.984375 69.390625 \nL 28.421875 72.90625 \nL 38.28125 72.90625 \nL 38.28125 8.296875 \nL 54.390625 8.296875 \nL 54.390625 0 \nL 12.40625 0 \nz\n\" id=\"DejaVuSans-49\"/>\n       </defs>\n       <use xlink:href=\"#DejaVuSans-49\"/>\n       <use x=\"63.623047\" xlink:href=\"#DejaVuSans-48\"/>\n      </g>\n     </g>\n    </g>\n    <g id=\"xtick_3\">\n     <g id=\"line2d_3\">\n      <g>\n       <use style=\"stroke:#000000;stroke-width:0.8;\" x=\"177.681797\" xlink:href=\"#m8761fef759\" y=\"224.64\"/>\n      </g>\n     </g>\n     <g id=\"text_3\">\n      <!-- 20 -->\n      <g transform=\"translate(171.319297 239.238437)scale(0.1 -0.1)\">\n       <defs>\n        <path d=\"M 19.1875 8.296875 \nL 53.609375 8.296875 \nL 53.609375 0 \nL 7.328125 0 \nL 7.328125 8.296875 \nQ 12.9375 14.109375 22.625 23.890625 \nQ 32.328125 33.6875 34.8125 36.53125 \nQ 39.546875 41.84375 41.421875 45.53125 \nQ 43.3125 49.21875 43.3125 52.78125 \nQ 43.3125 58.59375 39.234375 62.25 \nQ 35.15625 65.921875 28.609375 65.921875 \nQ 23.96875 65.921875 18.8125 64.3125 \nQ 13.671875 62.703125 7.8125 59.421875 \nL 7.8125 69.390625 \nQ 13.765625 71.78125 18.9375 73 \nQ 24.125 74.21875 28.421875 74.21875 \nQ 39.75 74.21875 46.484375 68.546875 \nQ 53.21875 62.890625 53.21875 53.421875 \nQ 53.21875 48.921875 51.53125 44.890625 \nQ 49.859375 40.875 45.40625 35.40625 \nQ 44.1875 33.984375 37.640625 27.21875 \nQ 31.109375 20.453125 19.1875 8.296875 \nz\n\" id=\"DejaVuSans-50\"/>\n       </defs>\n       <use xlink:href=\"#DejaVuSans-50\"/>\n       <use x=\"63.623047\" xlink:href=\"#DejaVuSans-48\"/>\n      </g>\n     </g>\n    </g>\n    <g id=\"xtick_4\">\n     <g id=\"line2d_4\">\n      <g>\n       <use style=\"stroke:#000000;stroke-width:0.8;\" x=\"232.461798\" xlink:href=\"#m8761fef759\" y=\"224.64\"/>\n      </g>\n     </g>\n     <g id=\"text_4\">\n      <!-- 30 -->\n      <g transform=\"translate(226.099298 239.238437)scale(0.1 -0.1)\">\n       <defs>\n        <path d=\"M 40.578125 39.3125 \nQ 47.65625 37.796875 51.625 33 \nQ 55.609375 28.21875 55.609375 21.1875 \nQ 55.609375 10.40625 48.1875 4.484375 \nQ 40.765625 -1.421875 27.09375 -1.421875 \nQ 22.515625 -1.421875 17.65625 -0.515625 \nQ 12.796875 0.390625 7.625 2.203125 \nL 7.625 11.71875 \nQ 11.71875 9.328125 16.59375 8.109375 \nQ 21.484375 6.890625 26.8125 6.890625 \nQ 36.078125 6.890625 40.9375 10.546875 \nQ 45.796875 14.203125 45.796875 21.1875 \nQ 45.796875 27.640625 41.28125 31.265625 \nQ 36.765625 34.90625 28.71875 34.90625 \nL 20.21875 34.90625 \nL 20.21875 43.015625 \nL 29.109375 43.015625 \nQ 36.375 43.015625 40.234375 45.921875 \nQ 44.09375 48.828125 44.09375 54.296875 \nQ 44.09375 59.90625 40.109375 62.90625 \nQ 36.140625 65.921875 28.71875 65.921875 \nQ 24.65625 65.921875 20.015625 65.03125 \nQ 15.375 64.15625 9.8125 62.3125 \nL 9.8125 71.09375 \nQ 15.4375 72.65625 20.34375 73.4375 \nQ 25.25 74.21875 29.59375 74.21875 \nQ 40.828125 74.21875 47.359375 69.109375 \nQ 53.90625 64.015625 53.90625 55.328125 \nQ 53.90625 49.265625 50.4375 45.09375 \nQ 46.96875 40.921875 40.578125 39.3125 \nz\n\" id=\"DejaVuSans-51\"/>\n       </defs>\n       <use xlink:href=\"#DejaVuSans-51\"/>\n       <use x=\"63.623047\" xlink:href=\"#DejaVuSans-48\"/>\n      </g>\n     </g>\n    </g>\n    <g id=\"xtick_5\">\n     <g id=\"line2d_5\">\n      <g>\n       <use style=\"stroke:#000000;stroke-width:0.8;\" x=\"287.241799\" xlink:href=\"#m8761fef759\" y=\"224.64\"/>\n      </g>\n     </g>\n     <g id=\"text_5\">\n      <!-- 40 -->\n      <g transform=\"translate(280.879299 239.238437)scale(0.1 -0.1)\">\n       <defs>\n        <path d=\"M 37.796875 64.3125 \nL 12.890625 25.390625 \nL 37.796875 25.390625 \nz\nM 35.203125 72.90625 \nL 47.609375 72.90625 \nL 47.609375 25.390625 \nL 58.015625 25.390625 \nL 58.015625 17.1875 \nL 47.609375 17.1875 \nL 47.609375 0 \nL 37.796875 0 \nL 37.796875 17.1875 \nL 4.890625 17.1875 \nL 4.890625 26.703125 \nz\n\" id=\"DejaVuSans-52\"/>\n       </defs>\n       <use xlink:href=\"#DejaVuSans-52\"/>\n       <use x=\"63.623047\" xlink:href=\"#DejaVuSans-48\"/>\n      </g>\n     </g>\n    </g>\n    <g id=\"xtick_6\">\n     <g id=\"line2d_6\">\n      <g>\n       <use style=\"stroke:#000000;stroke-width:0.8;\" x=\"342.021799\" xlink:href=\"#m8761fef759\" y=\"224.64\"/>\n      </g>\n     </g>\n     <g id=\"text_6\">\n      <!-- 50 -->\n      <g transform=\"translate(335.659299 239.238437)scale(0.1 -0.1)\">\n       <defs>\n        <path d=\"M 10.796875 72.90625 \nL 49.515625 72.90625 \nL 49.515625 64.59375 \nL 19.828125 64.59375 \nL 19.828125 46.734375 \nQ 21.96875 47.46875 24.109375 47.828125 \nQ 26.265625 48.1875 28.421875 48.1875 \nQ 40.625 48.1875 47.75 41.5 \nQ 54.890625 34.8125 54.890625 23.390625 \nQ 54.890625 11.625 47.5625 5.09375 \nQ 40.234375 -1.421875 26.90625 -1.421875 \nQ 22.3125 -1.421875 17.546875 -0.640625 \nQ 12.796875 0.140625 7.71875 1.703125 \nL 7.71875 11.625 \nQ 12.109375 9.234375 16.796875 8.0625 \nQ 21.484375 6.890625 26.703125 6.890625 \nQ 35.15625 6.890625 40.078125 11.328125 \nQ 45.015625 15.765625 45.015625 23.390625 \nQ 45.015625 31 40.078125 35.4375 \nQ 35.15625 39.890625 26.703125 39.890625 \nQ 22.75 39.890625 18.8125 39.015625 \nQ 14.890625 38.140625 10.796875 36.28125 \nz\n\" id=\"DejaVuSans-53\"/>\n       </defs>\n       <use xlink:href=\"#DejaVuSans-53\"/>\n       <use x=\"63.623047\" xlink:href=\"#DejaVuSans-48\"/>\n      </g>\n     </g>\n    </g>\n    <g id=\"text_7\">\n     <!-- overall -->\n     <g transform=\"translate(194.188281 252.916562)scale(0.1 -0.1)\">\n      <defs>\n       <path d=\"M 30.609375 48.390625 \nQ 23.390625 48.390625 19.1875 42.75 \nQ 14.984375 37.109375 14.984375 27.296875 \nQ 14.984375 17.484375 19.15625 11.84375 \nQ 23.34375 6.203125 30.609375 6.203125 \nQ 37.796875 6.203125 41.984375 11.859375 \nQ 46.1875 17.53125 46.1875 27.296875 \nQ 46.1875 37.015625 41.984375 42.703125 \nQ 37.796875 48.390625 30.609375 48.390625 \nz\nM 30.609375 56 \nQ 42.328125 56 49.015625 48.375 \nQ 55.71875 40.765625 55.71875 27.296875 \nQ 55.71875 13.875 49.015625 6.21875 \nQ 42.328125 -1.421875 30.609375 -1.421875 \nQ 18.84375 -1.421875 12.171875 6.21875 \nQ 5.515625 13.875 5.515625 27.296875 \nQ 5.515625 40.765625 12.171875 48.375 \nQ 18.84375 56 30.609375 56 \nz\n\" id=\"DejaVuSans-111\"/>\n       <path d=\"M 2.984375 54.6875 \nL 12.5 54.6875 \nL 29.59375 8.796875 \nL 46.6875 54.6875 \nL 56.203125 54.6875 \nL 35.6875 0 \nL 23.484375 0 \nz\n\" id=\"DejaVuSans-118\"/>\n       <path d=\"M 56.203125 29.59375 \nL 56.203125 25.203125 \nL 14.890625 25.203125 \nQ 15.484375 15.921875 20.484375 11.0625 \nQ 25.484375 6.203125 34.421875 6.203125 \nQ 39.59375 6.203125 44.453125 7.46875 \nQ 49.3125 8.734375 54.109375 11.28125 \nL 54.109375 2.78125 \nQ 49.265625 0.734375 44.1875 -0.34375 \nQ 39.109375 -1.421875 33.890625 -1.421875 \nQ 20.796875 -1.421875 13.15625 6.1875 \nQ 5.515625 13.8125 5.515625 26.8125 \nQ 5.515625 40.234375 12.765625 48.109375 \nQ 20.015625 56 32.328125 56 \nQ 43.359375 56 49.78125 48.890625 \nQ 56.203125 41.796875 56.203125 29.59375 \nz\nM 47.21875 32.234375 \nQ 47.125 39.59375 43.09375 43.984375 \nQ 39.0625 48.390625 32.421875 48.390625 \nQ 24.90625 48.390625 20.390625 44.140625 \nQ 15.875 39.890625 15.1875 32.171875 \nz\n\" id=\"DejaVuSans-101\"/>\n       <path d=\"M 41.109375 46.296875 \nQ 39.59375 47.171875 37.8125 47.578125 \nQ 36.03125 48 33.890625 48 \nQ 26.265625 48 22.1875 43.046875 \nQ 18.109375 38.09375 18.109375 28.8125 \nL 18.109375 0 \nL 9.078125 0 \nL 9.078125 54.6875 \nL 18.109375 54.6875 \nL 18.109375 46.1875 \nQ 20.953125 51.171875 25.484375 53.578125 \nQ 30.03125 56 36.53125 56 \nQ 37.453125 56 38.578125 55.875 \nQ 39.703125 55.765625 41.0625 55.515625 \nz\n\" id=\"DejaVuSans-114\"/>\n       <path d=\"M 34.28125 27.484375 \nQ 23.390625 27.484375 19.1875 25 \nQ 14.984375 22.515625 14.984375 16.5 \nQ 14.984375 11.71875 18.140625 8.90625 \nQ 21.296875 6.109375 26.703125 6.109375 \nQ 34.1875 6.109375 38.703125 11.40625 \nQ 43.21875 16.703125 43.21875 25.484375 \nL 43.21875 27.484375 \nz\nM 52.203125 31.203125 \nL 52.203125 0 \nL 43.21875 0 \nL 43.21875 8.296875 \nQ 40.140625 3.328125 35.546875 0.953125 \nQ 30.953125 -1.421875 24.3125 -1.421875 \nQ 15.921875 -1.421875 10.953125 3.296875 \nQ 6 8.015625 6 15.921875 \nQ 6 25.140625 12.171875 29.828125 \nQ 18.359375 34.515625 30.609375 34.515625 \nL 43.21875 34.515625 \nL 43.21875 35.40625 \nQ 43.21875 41.609375 39.140625 45 \nQ 35.0625 48.390625 27.6875 48.390625 \nQ 23 48.390625 18.546875 47.265625 \nQ 14.109375 46.140625 10.015625 43.890625 \nL 10.015625 52.203125 \nQ 14.9375 54.109375 19.578125 55.046875 \nQ 24.21875 56 28.609375 56 \nQ 40.484375 56 46.34375 49.84375 \nQ 52.203125 43.703125 52.203125 31.203125 \nz\n\" id=\"DejaVuSans-97\"/>\n       <path d=\"M 9.421875 75.984375 \nL 18.40625 75.984375 \nL 18.40625 0 \nL 9.421875 0 \nz\n\" id=\"DejaVuSans-108\"/>\n      </defs>\n      <use xlink:href=\"#DejaVuSans-111\"/>\n      <use x=\"61.181641\" xlink:href=\"#DejaVuSans-118\"/>\n      <use x=\"120.361328\" xlink:href=\"#DejaVuSans-101\"/>\n      <use x=\"181.884766\" xlink:href=\"#DejaVuSans-114\"/>\n      <use x=\"222.998047\" xlink:href=\"#DejaVuSans-97\"/>\n      <use x=\"284.277344\" xlink:href=\"#DejaVuSans-108\"/>\n      <use x=\"312.060547\" xlink:href=\"#DejaVuSans-108\"/>\n     </g>\n    </g>\n   </g>\n   <g id=\"matplotlib.axis_2\">\n    <g id=\"ytick_1\">\n     <g id=\"line2d_7\">\n      <defs>\n       <path d=\"M 0 0 \nL -3.5 0 \n\" id=\"m4adc7790ac\" style=\"stroke:#000000;stroke-width:0.8;\"/>\n      </defs>\n      <g>\n       <use style=\"stroke:#000000;stroke-width:0.8;\" x=\"43.78125\" xlink:href=\"#m4adc7790ac\" y=\"224.64\"/>\n      </g>\n     </g>\n     <g id=\"text_8\">\n      <!-- 0.0 -->\n      <g transform=\"translate(20.878125 228.439219)scale(0.1 -0.1)\">\n       <defs>\n        <path d=\"M 10.6875 12.40625 \nL 21 12.40625 \nL 21 0 \nL 10.6875 0 \nz\n\" id=\"DejaVuSans-46\"/>\n       </defs>\n       <use xlink:href=\"#DejaVuSans-48\"/>\n       <use x=\"63.623047\" xlink:href=\"#DejaVuSans-46\"/>\n       <use x=\"95.410156\" xlink:href=\"#DejaVuSans-48\"/>\n      </g>\n     </g>\n    </g>\n    <g id=\"ytick_2\">\n     <g id=\"line2d_8\">\n      <g>\n       <use style=\"stroke:#000000;stroke-width:0.8;\" x=\"43.78125\" xlink:href=\"#m4adc7790ac\" y=\"192.388551\"/>\n      </g>\n     </g>\n     <g id=\"text_9\">\n      <!-- 0.1 -->\n      <g transform=\"translate(20.878125 196.187769)scale(0.1 -0.1)\">\n       <use xlink:href=\"#DejaVuSans-48\"/>\n       <use x=\"63.623047\" xlink:href=\"#DejaVuSans-46\"/>\n       <use x=\"95.410156\" xlink:href=\"#DejaVuSans-49\"/>\n      </g>\n     </g>\n    </g>\n    <g id=\"ytick_3\">\n     <g id=\"line2d_9\">\n      <g>\n       <use style=\"stroke:#000000;stroke-width:0.8;\" x=\"43.78125\" xlink:href=\"#m4adc7790ac\" y=\"160.137101\"/>\n      </g>\n     </g>\n     <g id=\"text_10\">\n      <!-- 0.2 -->\n      <g transform=\"translate(20.878125 163.93632)scale(0.1 -0.1)\">\n       <use xlink:href=\"#DejaVuSans-48\"/>\n       <use x=\"63.623047\" xlink:href=\"#DejaVuSans-46\"/>\n       <use x=\"95.410156\" xlink:href=\"#DejaVuSans-50\"/>\n      </g>\n     </g>\n    </g>\n    <g id=\"ytick_4\">\n     <g id=\"line2d_10\">\n      <g>\n       <use style=\"stroke:#000000;stroke-width:0.8;\" x=\"43.78125\" xlink:href=\"#m4adc7790ac\" y=\"127.885652\"/>\n      </g>\n     </g>\n     <g id=\"text_11\">\n      <!-- 0.3 -->\n      <g transform=\"translate(20.878125 131.684871)scale(0.1 -0.1)\">\n       <use xlink:href=\"#DejaVuSans-48\"/>\n       <use x=\"63.623047\" xlink:href=\"#DejaVuSans-46\"/>\n       <use x=\"95.410156\" xlink:href=\"#DejaVuSans-51\"/>\n      </g>\n     </g>\n    </g>\n    <g id=\"ytick_5\">\n     <g id=\"line2d_11\">\n      <g>\n       <use style=\"stroke:#000000;stroke-width:0.8;\" x=\"43.78125\" xlink:href=\"#m4adc7790ac\" y=\"95.634203\"/>\n      </g>\n     </g>\n     <g id=\"text_12\">\n      <!-- 0.4 -->\n      <g transform=\"translate(20.878125 99.433421)scale(0.1 -0.1)\">\n       <use xlink:href=\"#DejaVuSans-48\"/>\n       <use x=\"63.623047\" xlink:href=\"#DejaVuSans-46\"/>\n       <use x=\"95.410156\" xlink:href=\"#DejaVuSans-52\"/>\n      </g>\n     </g>\n    </g>\n    <g id=\"ytick_6\">\n     <g id=\"line2d_12\">\n      <g>\n       <use style=\"stroke:#000000;stroke-width:0.8;\" x=\"43.78125\" xlink:href=\"#m4adc7790ac\" y=\"63.382753\"/>\n      </g>\n     </g>\n     <g id=\"text_13\">\n      <!-- 0.5 -->\n      <g transform=\"translate(20.878125 67.181972)scale(0.1 -0.1)\">\n       <use xlink:href=\"#DejaVuSans-48\"/>\n       <use x=\"63.623047\" xlink:href=\"#DejaVuSans-46\"/>\n       <use x=\"95.410156\" xlink:href=\"#DejaVuSans-53\"/>\n      </g>\n     </g>\n    </g>\n    <g id=\"ytick_7\">\n     <g id=\"line2d_13\">\n      <g>\n       <use style=\"stroke:#000000;stroke-width:0.8;\" x=\"43.78125\" xlink:href=\"#m4adc7790ac\" y=\"31.131304\"/>\n      </g>\n     </g>\n     <g id=\"text_14\">\n      <!-- 0.6 -->\n      <g transform=\"translate(20.878125 34.930523)scale(0.1 -0.1)\">\n       <defs>\n        <path d=\"M 33.015625 40.375 \nQ 26.375 40.375 22.484375 35.828125 \nQ 18.609375 31.296875 18.609375 23.390625 \nQ 18.609375 15.53125 22.484375 10.953125 \nQ 26.375 6.390625 33.015625 6.390625 \nQ 39.65625 6.390625 43.53125 10.953125 \nQ 47.40625 15.53125 47.40625 23.390625 \nQ 47.40625 31.296875 43.53125 35.828125 \nQ 39.65625 40.375 33.015625 40.375 \nz\nM 52.59375 71.296875 \nL 52.59375 62.3125 \nQ 48.875 64.0625 45.09375 64.984375 \nQ 41.3125 65.921875 37.59375 65.921875 \nQ 27.828125 65.921875 22.671875 59.328125 \nQ 17.53125 52.734375 16.796875 39.40625 \nQ 19.671875 43.65625 24.015625 45.921875 \nQ 28.375 48.1875 33.59375 48.1875 \nQ 44.578125 48.1875 50.953125 41.515625 \nQ 57.328125 34.859375 57.328125 23.390625 \nQ 57.328125 12.15625 50.6875 5.359375 \nQ 44.046875 -1.421875 33.015625 -1.421875 \nQ 20.359375 -1.421875 13.671875 8.265625 \nQ 6.984375 17.96875 6.984375 36.375 \nQ 6.984375 53.65625 15.1875 63.9375 \nQ 23.390625 74.21875 37.203125 74.21875 \nQ 40.921875 74.21875 44.703125 73.484375 \nQ 48.484375 72.75 52.59375 71.296875 \nz\n\" id=\"DejaVuSans-54\"/>\n       </defs>\n       <use xlink:href=\"#DejaVuSans-48\"/>\n       <use x=\"63.623047\" xlink:href=\"#DejaVuSans-46\"/>\n       <use x=\"95.410156\" xlink:href=\"#DejaVuSans-54\"/>\n      </g>\n     </g>\n    </g>\n    <g id=\"text_15\">\n     <!-- Density -->\n     <g transform=\"translate(14.798438 134.928594)rotate(-90)scale(0.1 -0.1)\">\n      <defs>\n       <path d=\"M 19.671875 64.796875 \nL 19.671875 8.109375 \nL 31.59375 8.109375 \nQ 46.6875 8.109375 53.6875 14.9375 \nQ 60.6875 21.78125 60.6875 36.53125 \nQ 60.6875 51.171875 53.6875 57.984375 \nQ 46.6875 64.796875 31.59375 64.796875 \nz\nM 9.8125 72.90625 \nL 30.078125 72.90625 \nQ 51.265625 72.90625 61.171875 64.09375 \nQ 71.09375 55.28125 71.09375 36.53125 \nQ 71.09375 17.671875 61.125 8.828125 \nQ 51.171875 0 30.078125 0 \nL 9.8125 0 \nz\n\" id=\"DejaVuSans-68\"/>\n       <path d=\"M 54.890625 33.015625 \nL 54.890625 0 \nL 45.90625 0 \nL 45.90625 32.71875 \nQ 45.90625 40.484375 42.875 44.328125 \nQ 39.84375 48.1875 33.796875 48.1875 \nQ 26.515625 48.1875 22.3125 43.546875 \nQ 18.109375 38.921875 18.109375 30.90625 \nL 18.109375 0 \nL 9.078125 0 \nL 9.078125 54.6875 \nL 18.109375 54.6875 \nL 18.109375 46.1875 \nQ 21.34375 51.125 25.703125 53.5625 \nQ 30.078125 56 35.796875 56 \nQ 45.21875 56 50.046875 50.171875 \nQ 54.890625 44.34375 54.890625 33.015625 \nz\n\" id=\"DejaVuSans-110\"/>\n       <path d=\"M 44.28125 53.078125 \nL 44.28125 44.578125 \nQ 40.484375 46.53125 36.375 47.5 \nQ 32.28125 48.484375 27.875 48.484375 \nQ 21.1875 48.484375 17.84375 46.4375 \nQ 14.5 44.390625 14.5 40.28125 \nQ 14.5 37.15625 16.890625 35.375 \nQ 19.28125 33.59375 26.515625 31.984375 \nL 29.59375 31.296875 \nQ 39.15625 29.25 43.1875 25.515625 \nQ 47.21875 21.78125 47.21875 15.09375 \nQ 47.21875 7.46875 41.1875 3.015625 \nQ 35.15625 -1.421875 24.609375 -1.421875 \nQ 20.21875 -1.421875 15.453125 -0.5625 \nQ 10.6875 0.296875 5.421875 2 \nL 5.421875 11.28125 \nQ 10.40625 8.6875 15.234375 7.390625 \nQ 20.0625 6.109375 24.8125 6.109375 \nQ 31.15625 6.109375 34.5625 8.28125 \nQ 37.984375 10.453125 37.984375 14.40625 \nQ 37.984375 18.0625 35.515625 20.015625 \nQ 33.0625 21.96875 24.703125 23.78125 \nL 21.578125 24.515625 \nQ 13.234375 26.265625 9.515625 29.90625 \nQ 5.8125 33.546875 5.8125 39.890625 \nQ 5.8125 47.609375 11.28125 51.796875 \nQ 16.75 56 26.8125 56 \nQ 31.78125 56 36.171875 55.265625 \nQ 40.578125 54.546875 44.28125 53.078125 \nz\n\" id=\"DejaVuSans-115\"/>\n       <path d=\"M 9.421875 54.6875 \nL 18.40625 54.6875 \nL 18.40625 0 \nL 9.421875 0 \nz\nM 9.421875 75.984375 \nL 18.40625 75.984375 \nL 18.40625 64.59375 \nL 9.421875 64.59375 \nz\n\" id=\"DejaVuSans-105\"/>\n       <path d=\"M 18.3125 70.21875 \nL 18.3125 54.6875 \nL 36.8125 54.6875 \nL 36.8125 47.703125 \nL 18.3125 47.703125 \nL 18.3125 18.015625 \nQ 18.3125 11.328125 20.140625 9.421875 \nQ 21.96875 7.515625 27.59375 7.515625 \nL 36.8125 7.515625 \nL 36.8125 0 \nL 27.59375 0 \nQ 17.1875 0 13.234375 3.875 \nQ 9.28125 7.765625 9.28125 18.015625 \nL 9.28125 47.703125 \nL 2.6875 47.703125 \nL 2.6875 54.6875 \nL 9.28125 54.6875 \nL 9.28125 70.21875 \nz\n\" id=\"DejaVuSans-116\"/>\n       <path d=\"M 32.171875 -5.078125 \nQ 28.375 -14.84375 24.75 -17.8125 \nQ 21.140625 -20.796875 15.09375 -20.796875 \nL 7.90625 -20.796875 \nL 7.90625 -13.28125 \nL 13.1875 -13.28125 \nQ 16.890625 -13.28125 18.9375 -11.515625 \nQ 21 -9.765625 23.484375 -3.21875 \nL 25.09375 0.875 \nL 2.984375 54.6875 \nL 12.5 54.6875 \nL 29.59375 11.921875 \nL 46.6875 54.6875 \nL 56.203125 54.6875 \nz\n\" id=\"DejaVuSans-121\"/>\n      </defs>\n      <use xlink:href=\"#DejaVuSans-68\"/>\n      <use x=\"77.001953\" xlink:href=\"#DejaVuSans-101\"/>\n      <use x=\"138.525391\" xlink:href=\"#DejaVuSans-110\"/>\n      <use x=\"201.904297\" xlink:href=\"#DejaVuSans-115\"/>\n      <use x=\"254.003906\" xlink:href=\"#DejaVuSans-105\"/>\n      <use x=\"281.787109\" xlink:href=\"#DejaVuSans-116\"/>\n      <use x=\"320.996094\" xlink:href=\"#DejaVuSans-121\"/>\n     </g>\n    </g>\n   </g>\n   <g id=\"line2d_14\">\n    <path clip-path=\"url(#pe91b96710d)\" d=\"M 58.999432 223.911517 \nL 60.528897 221.52295 \nL 62.058363 214.174201 \nL 63.587828 196.976585 \nL 65.117294 166.803941 \nL 66.646759 128.311418 \nL 68.176225 95.403442 \nL 69.70569 82.518557 \nL 71.235156 92.989794 \nL 72.764621 117.647886 \nL 74.294087 144.11611 \nL 75.823552 165.205059 \nL 77.353018 179.792132 \nL 78.882483 189.552936 \nL 80.411949 196.351989 \nL 81.941414 201.401686 \nL 83.47088 205.293523 \nL 85.000345 208.233113 \nL 86.529811 210.314429 \nL 88.059276 211.732472 \nL 91.118208 213.780952 \nL 101.824466 220.760922 \nL 103.353932 221.562416 \nL 104.883397 222.171428 \nL 106.412863 222.574127 \nL 107.942328 222.75168 \nL 111.001259 222.607371 \nL 114.06019 222.555207 \nL 117.119121 222.868551 \nL 123.236983 223.723693 \nL 129.354845 224.081563 \nL 133.943242 224.152625 \nL 141.590569 224.082752 \nL 150.767362 224.421409 \nL 156.885224 224.459584 \nL 163.003086 224.317515 \nL 172.17988 224.477328 \nL 202.76919 224.549936 \nL 211.945983 224.59772 \nL 218.063845 224.528349 \nL 222.652241 224.559101 \nL 230.299569 224.639697 \nL 283.830862 224.544015 \nL 288.419258 224.542186 \nL 296.066586 224.639359 \nL 363.363068 224.639285 \nL 363.363068 224.639285 \n\" style=\"fill:none;stroke:#1f77b4;stroke-linecap:square;stroke-width:1.5;\"/>\n   </g>\n   <g id=\"patch_53\">\n    <path d=\"M 43.78125 224.64 \nL 43.78125 7.2 \n\" style=\"fill:none;stroke:#000000;stroke-linecap:square;stroke-linejoin:miter;stroke-width:0.8;\"/>\n   </g>\n   <g id=\"patch_54\">\n    <path d=\"M 378.58125 224.64 \nL 378.58125 7.2 \n\" style=\"fill:none;stroke:#000000;stroke-linecap:square;stroke-linejoin:miter;stroke-width:0.8;\"/>\n   </g>\n   <g id=\"patch_55\">\n    <path d=\"M 43.78125 224.64 \nL 378.58125 224.64 \n\" style=\"fill:none;stroke:#000000;stroke-linecap:square;stroke-linejoin:miter;stroke-width:0.8;\"/>\n   </g>\n   <g id=\"patch_56\">\n    <path d=\"M 43.78125 7.2 \nL 378.58125 7.2 \n\" style=\"fill:none;stroke:#000000;stroke-linecap:square;stroke-linejoin:miter;stroke-width:0.8;\"/>\n   </g>\n  </g>\n </g>\n <defs>\n  <clipPath id=\"pe91b96710d\">\n   <rect height=\"217.44\" width=\"334.8\" x=\"43.78125\" y=\"7.2\"/>\n  </clipPath>\n </defs>\n</svg>\n",
      "image/png": "[encoded data removed]"
     },
     "metadata": {
      "needs_background": "light"
     }
    }
   ],
   "source": [
    "model3.fit(Xtrain, ytrain)\n",
    "ypred = model3.predict(Xtest)\n",
    "\n",
    "# generalization error\n",
    "gen_error = get_mse(ytest, ypred)\n",
    "test_errors = ((ytest - ypred)**2)\n",
    "\n",
    "print('Generalization Error: ', gen_error)\n",
    "\n",
    "n = ytest.size\n",
    "quantile = 1.96 # 95% confidence\n",
    "estimated_standard_error = np.std(test_errors)/np.sqrt(n)\n",
    "bounds = gen_error + quantile * estimated_standard_error * np.array([-1,1])\n",
    "\n",
    "print('Confidence Interval 95%: ', bounds)\n",
    "\n",
    "sns.distplot(test_errors)\n",
    "plt.show()"
   ]
  },
  {
   "cell_type": "markdown",
   "metadata": {},
   "source": [
    "### Follow These Steps before submitting\n",
    "Once you are finished, ensure to complete the following steps.\n",
    "\n",
    "1.  Restart your kernel by clicking 'Kernel' > 'Restart & Run All'.\n",
    "\n",
    "2.  Fix any errors which result from this.\n",
    "\n",
    "3.  Repeat steps 1. and 2. until your notebook runs without errors.\n",
    "\n",
    "4.  Submit your completed notebook to OWL by the deadline."
   ]
  }
 ],
 "metadata": {
  "kernelspec": {
   "name": "python3",
   "display_name": "Python 3.9.1 64-bit",
   "metadata": {
    "interpreter": {
     "hash": "aee8b7b246df8f9039afb4144a1f6fd8d2ca17a180786b69acc140d282b71a49"
    }
   }
  },
  "language_info": {
   "codemirror_mode": {
    "name": "ipython",
    "version": 3
   },
   "file_extension": ".py",
   "mimetype": "text/x-python",
   "name": "python",
   "nbconvert_exporter": "python",
   "pygments_lexer": "ipython3",
   "version": "3.9.1-final"
  }
 },
 "nbformat": 4,
 "nbformat_minor": 4
}