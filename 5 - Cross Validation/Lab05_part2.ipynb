{
 "cells": [
  {
   "cell_type": "markdown",
   "metadata": {},
   "source": [
    "# Lab 05.2 - Part 2"
   ]
  },
  {
   "cell_type": "code",
   "execution_count": 1,
   "metadata": {},
   "outputs": [],
   "source": [
    "import pandas as pd\n",
    "import numpy as np\n",
    "import matplotlib.pyplot as plt\n",
    "import seaborn as sns\n",
    "from sklearn.model_selection import train_test_split, cross_val_score, KFold\n",
    "from sklearn.linear_model import LinearRegression\n",
    "from sklearn.pipeline import Pipeline\n",
    "from sklearn.base import BaseEstimator, TransformerMixin\n",
    "from sklearn.decomposition import PCA\n",
    "from sklearn.preprocessing import StandardScaler, PolynomialFeatures\n",
    "from sklearn.metrics import mean_squared_error, mean_absolute_error, make_scorer\n",
    "pd.set_option('display.max_columns', 500)\n",
    "\n",
    "%matplotlib inline"
   ]
  },
  {
   "cell_type": "markdown",
   "metadata": {},
   "source": [
    "## 1. Preliminaries"
   ]
  },
  {
   "cell_type": "code",
   "execution_count": 2,
   "metadata": {},
   "outputs": [
    {
     "data": {
      "text/html": [
       "<div>\n",
       "<style scoped>\n",
       "    .dataframe tbody tr th:only-of-type {\n",
       "        vertical-align: middle;\n",
       "    }\n",
       "\n",
       "    .dataframe tbody tr th {\n",
       "        vertical-align: top;\n",
       "    }\n",
       "\n",
       "    .dataframe thead th {\n",
       "        text-align: right;\n",
       "    }\n",
       "</style>\n",
       "<table border=\"1\" class=\"dataframe\">\n",
       "  <thead>\n",
       "    <tr style=\"text-align: right;\">\n",
       "      <th></th>\n",
       "      <th>age</th>\n",
       "      <th>height_cm</th>\n",
       "      <th>weight_kg</th>\n",
       "      <th>work_rate_att</th>\n",
       "      <th>overall</th>\n",
       "    </tr>\n",
       "  </thead>\n",
       "  <tbody>\n",
       "    <tr>\n",
       "      <th>0</th>\n",
       "      <td>20</td>\n",
       "      <td>175</td>\n",
       "      <td>70</td>\n",
       "      <td>Medium</td>\n",
       "      <td>58</td>\n",
       "    </tr>\n",
       "    <tr>\n",
       "      <th>1</th>\n",
       "      <td>29</td>\n",
       "      <td>183</td>\n",
       "      <td>80</td>\n",
       "      <td>High</td>\n",
       "      <td>65</td>\n",
       "    </tr>\n",
       "    <tr>\n",
       "      <th>2</th>\n",
       "      <td>35</td>\n",
       "      <td>183</td>\n",
       "      <td>78</td>\n",
       "      <td>High</td>\n",
       "      <td>67</td>\n",
       "    </tr>\n",
       "    <tr>\n",
       "      <th>3</th>\n",
       "      <td>24</td>\n",
       "      <td>178</td>\n",
       "      <td>72</td>\n",
       "      <td>Medium</td>\n",
       "      <td>69</td>\n",
       "    </tr>\n",
       "    <tr>\n",
       "      <th>4</th>\n",
       "      <td>23</td>\n",
       "      <td>173</td>\n",
       "      <td>73</td>\n",
       "      <td>Medium</td>\n",
       "      <td>70</td>\n",
       "    </tr>\n",
       "    <tr>\n",
       "      <th>...</th>\n",
       "      <td>...</td>\n",
       "      <td>...</td>\n",
       "      <td>...</td>\n",
       "      <td>...</td>\n",
       "      <td>...</td>\n",
       "    </tr>\n",
       "    <tr>\n",
       "      <th>355</th>\n",
       "      <td>25</td>\n",
       "      <td>180</td>\n",
       "      <td>77</td>\n",
       "      <td>Medium</td>\n",
       "      <td>66</td>\n",
       "    </tr>\n",
       "    <tr>\n",
       "      <th>356</th>\n",
       "      <td>23</td>\n",
       "      <td>180</td>\n",
       "      <td>75</td>\n",
       "      <td>Medium</td>\n",
       "      <td>71</td>\n",
       "    </tr>\n",
       "    <tr>\n",
       "      <th>357</th>\n",
       "      <td>22</td>\n",
       "      <td>180</td>\n",
       "      <td>72</td>\n",
       "      <td>Medium</td>\n",
       "      <td>63</td>\n",
       "    </tr>\n",
       "    <tr>\n",
       "      <th>358</th>\n",
       "      <td>22</td>\n",
       "      <td>180</td>\n",
       "      <td>72</td>\n",
       "      <td>Medium</td>\n",
       "      <td>62</td>\n",
       "    </tr>\n",
       "    <tr>\n",
       "      <th>359</th>\n",
       "      <td>33</td>\n",
       "      <td>185</td>\n",
       "      <td>87</td>\n",
       "      <td>High</td>\n",
       "      <td>70</td>\n",
       "    </tr>\n",
       "  </tbody>\n",
       "</table>\n",
       "<p>360 rows × 5 columns</p>\n",
       "</div>"
      ],
      "text/plain": [
       "     age  height_cm  weight_kg work_rate_att  overall\n",
       "0     20        175         70        Medium       58\n",
       "1     29        183         80          High       65\n",
       "2     35        183         78          High       67\n",
       "3     24        178         72        Medium       69\n",
       "4     23        173         73        Medium       70\n",
       "..   ...        ...        ...           ...      ...\n",
       "355   25        180         77        Medium       66\n",
       "356   23        180         75        Medium       71\n",
       "357   22        180         72        Medium       63\n",
       "358   22        180         72        Medium       62\n",
       "359   33        185         87          High       70\n",
       "\n",
       "[360 rows x 5 columns]"
      ]
     },
     "execution_count": 2,
     "metadata": {},
     "output_type": "execute_result"
    }
   ],
   "source": [
    "# Read in subset of footballer data\n",
    "model_data = pd.read_csv('footballer_reduced.csv')\n",
    "model_data"
   ]
  },
  {
   "cell_type": "code",
   "execution_count": 3,
   "metadata": {
    "scrolled": false
   },
   "outputs": [
    {
     "data": {
      "text/html": [
       "<div>\n",
       "<style scoped>\n",
       "    .dataframe tbody tr th:only-of-type {\n",
       "        vertical-align: middle;\n",
       "    }\n",
       "\n",
       "    .dataframe tbody tr th {\n",
       "        vertical-align: top;\n",
       "    }\n",
       "\n",
       "    .dataframe thead th {\n",
       "        text-align: right;\n",
       "    }\n",
       "</style>\n",
       "<table border=\"1\" class=\"dataframe\">\n",
       "  <thead>\n",
       "    <tr style=\"text-align: right;\">\n",
       "      <th></th>\n",
       "      <th>age</th>\n",
       "      <th>height_cm</th>\n",
       "      <th>weight_kg</th>\n",
       "      <th>overall</th>\n",
       "      <th>work_rate_att_Low</th>\n",
       "      <th>work_rate_att_Medium</th>\n",
       "    </tr>\n",
       "  </thead>\n",
       "  <tbody>\n",
       "    <tr>\n",
       "      <th>0</th>\n",
       "      <td>20</td>\n",
       "      <td>175</td>\n",
       "      <td>70</td>\n",
       "      <td>58</td>\n",
       "      <td>0</td>\n",
       "      <td>1</td>\n",
       "    </tr>\n",
       "    <tr>\n",
       "      <th>1</th>\n",
       "      <td>29</td>\n",
       "      <td>183</td>\n",
       "      <td>80</td>\n",
       "      <td>65</td>\n",
       "      <td>0</td>\n",
       "      <td>0</td>\n",
       "    </tr>\n",
       "    <tr>\n",
       "      <th>2</th>\n",
       "      <td>35</td>\n",
       "      <td>183</td>\n",
       "      <td>78</td>\n",
       "      <td>67</td>\n",
       "      <td>0</td>\n",
       "      <td>0</td>\n",
       "    </tr>\n",
       "    <tr>\n",
       "      <th>3</th>\n",
       "      <td>24</td>\n",
       "      <td>178</td>\n",
       "      <td>72</td>\n",
       "      <td>69</td>\n",
       "      <td>0</td>\n",
       "      <td>1</td>\n",
       "    </tr>\n",
       "    <tr>\n",
       "      <th>4</th>\n",
       "      <td>23</td>\n",
       "      <td>173</td>\n",
       "      <td>73</td>\n",
       "      <td>70</td>\n",
       "      <td>0</td>\n",
       "      <td>1</td>\n",
       "    </tr>\n",
       "    <tr>\n",
       "      <th>...</th>\n",
       "      <td>...</td>\n",
       "      <td>...</td>\n",
       "      <td>...</td>\n",
       "      <td>...</td>\n",
       "      <td>...</td>\n",
       "      <td>...</td>\n",
       "    </tr>\n",
       "    <tr>\n",
       "      <th>355</th>\n",
       "      <td>25</td>\n",
       "      <td>180</td>\n",
       "      <td>77</td>\n",
       "      <td>66</td>\n",
       "      <td>0</td>\n",
       "      <td>1</td>\n",
       "    </tr>\n",
       "    <tr>\n",
       "      <th>356</th>\n",
       "      <td>23</td>\n",
       "      <td>180</td>\n",
       "      <td>75</td>\n",
       "      <td>71</td>\n",
       "      <td>0</td>\n",
       "      <td>1</td>\n",
       "    </tr>\n",
       "    <tr>\n",
       "      <th>357</th>\n",
       "      <td>22</td>\n",
       "      <td>180</td>\n",
       "      <td>72</td>\n",
       "      <td>63</td>\n",
       "      <td>0</td>\n",
       "      <td>1</td>\n",
       "    </tr>\n",
       "    <tr>\n",
       "      <th>358</th>\n",
       "      <td>22</td>\n",
       "      <td>180</td>\n",
       "      <td>72</td>\n",
       "      <td>62</td>\n",
       "      <td>0</td>\n",
       "      <td>1</td>\n",
       "    </tr>\n",
       "    <tr>\n",
       "      <th>359</th>\n",
       "      <td>33</td>\n",
       "      <td>185</td>\n",
       "      <td>87</td>\n",
       "      <td>70</td>\n",
       "      <td>0</td>\n",
       "      <td>0</td>\n",
       "    </tr>\n",
       "  </tbody>\n",
       "</table>\n",
       "<p>360 rows × 6 columns</p>\n",
       "</div>"
      ],
      "text/plain": [
       "     age  height_cm  weight_kg  overall  work_rate_att_Low  \\\n",
       "0     20        175         70       58                  0   \n",
       "1     29        183         80       65                  0   \n",
       "2     35        183         78       67                  0   \n",
       "3     24        178         72       69                  0   \n",
       "4     23        173         73       70                  0   \n",
       "..   ...        ...        ...      ...                ...   \n",
       "355   25        180         77       66                  0   \n",
       "356   23        180         75       71                  0   \n",
       "357   22        180         72       63                  0   \n",
       "358   22        180         72       62                  0   \n",
       "359   33        185         87       70                  0   \n",
       "\n",
       "     work_rate_att_Medium  \n",
       "0                       1  \n",
       "1                       0  \n",
       "2                       0  \n",
       "3                       1  \n",
       "4                       1  \n",
       "..                    ...  \n",
       "355                     1  \n",
       "356                     1  \n",
       "357                     1  \n",
       "358                     1  \n",
       "359                     0  \n",
       "\n",
       "[360 rows x 6 columns]"
      ]
     },
     "execution_count": 3,
     "metadata": {},
     "output_type": "execute_result"
    }
   ],
   "source": [
    "# Turn category into numeric variables\n",
    "model_data = pd.get_dummies(model_data, drop_first=True)\n",
    "model_data"
   ]
  },
  {
   "cell_type": "code",
   "execution_count": 4,
   "metadata": {},
   "outputs": [],
   "source": [
    "# Define our X and y\n",
    "y = model_data.overall\n",
    "X = model_data.drop('overall', axis = 'columns')"
   ]
  },
  {
   "cell_type": "code",
   "execution_count": 5,
   "metadata": {},
   "outputs": [
    {
     "name": "stdout",
     "output_type": "stream",
     "text": [
      "(310, 5) (50, 5)\n"
     ]
    }
   ],
   "source": [
    "# Split into train&validation, test\n",
    "# Random state assures that folds are consistent across models\n",
    "Xtrain, Xtest, ytrain, ytest = train_test_split(X,y, test_size = 50, random_state = 0)\n",
    "print(Xtrain.shape,Xtest.shape)"
   ]
  },
  {
   "cell_type": "code",
   "execution_count": 6,
   "metadata": {},
   "outputs": [],
   "source": [
    "# Define training and testing loss \n",
    "def mse(y,ypred):\n",
    "    return np.mean((y-ypred)**2)"
   ]
  },
  {
   "cell_type": "markdown",
   "metadata": {},
   "source": [
    "## 2. Use cross-validation to select the best model "
   ]
  },
  {
   "cell_type": "code",
   "execution_count": 7,
   "metadata": {},
   "outputs": [
    {
     "name": "stdout",
     "output_type": "stream",
     "text": [
      "Training loss: 34.647804072402714\n",
      "CV loss: 36.0088230581963\n"
     ]
    }
   ],
   "source": [
    "# Model 1\n",
    "model1 = LinearRegression()\n",
    "model1 = model1.fit(Xtrain,ytrain)\n",
    "trainloss = mse(ytrain,model1.predict(Xtrain))\n",
    "print(f\"Training loss: {trainloss}\")\n",
    "\n",
    "kf = KFold(n_splits=5,shuffle=False)\n",
    "sc = make_scorer(mse)\n",
    "cv_scores = cross_val_score(model1, Xtrain, ytrain, cv=kf, scoring=sc)\n",
    "print(f\"CV loss: {cv_scores.mean()}\")"
   ]
  },
  {
   "cell_type": "code",
   "execution_count": 8,
   "metadata": {},
   "outputs": [
    {
     "name": "stdout",
     "output_type": "stream",
     "text": [
      "Training loss: 31.95545717826095\n",
      "CV loss: 33.4089109962452\n"
     ]
    }
   ],
   "source": [
    "# Model 2: Squared trend for age\n",
    "# Construct a new feature - age squared\n",
    "Xtrain2 = Xtrain\n",
    "Xtrain2 = Xtrain2.assign(age2 = Xtrain.age**2)\n",
    "model2 = LinearRegression()\n",
    "model2 = model2.fit(Xtrain2,ytrain)\n",
    "trainloss = mse(ytrain,model2.predict(Xtrain2))\n",
    "print(f\"Training loss: {trainloss}\")\n",
    "\n",
    "cv_scores = cross_val_score(model2, Xtrain2, ytrain, cv=kf, scoring=sc)\n",
    "print(f\"CV loss: {cv_scores.mean()}\")"
   ]
  },
  {
   "cell_type": "code",
   "execution_count": 9,
   "metadata": {},
   "outputs": [
    {
     "name": "stdout",
     "output_type": "stream",
     "text": [
      "(310, 20)\n",
      "Training loss: 30.708788577785157\n",
      "CV loss: 35.332946611635904\n"
     ]
    }
   ],
   "source": [
    "# Model 3: All polynomial features\n",
    "PT =  PolynomialFeatures(degree=2,include_bias=False)\n",
    "Xtrain3 = PT.fit_transform(Xtrain)\n",
    "print(Xtrain3.shape)\n",
    "model3 = LinearRegression().fit(Xtrain3,ytrain)\n",
    "trainloss = mse(ytrain,model3.predict(Xtrain3))\n",
    "print(f\"Training loss: {trainloss}\")\n",
    "\n",
    "cv_scores = cross_val_score(model3, Xtrain3, ytrain, cv=kf, scoring=sc)\n",
    "print(f\"CV loss: {cv_scores.mean()}\")"
   ]
  },
  {
   "cell_type": "markdown",
   "metadata": {},
   "source": [
    "## 3. Pipelines "
   ]
  },
  {
   "cell_type": "code",
   "execution_count": 10,
   "metadata": {},
   "outputs": [],
   "source": [
    "# Define the different pipelines \n",
    "model1 = Pipeline([\n",
    "    ('linear_regression', LinearRegression())\n",
    "])\n",
    "model3 = Pipeline([\n",
    "    ('poly', PolynomialFeatures(degree=2, include_bias=False)),\n",
    "    ('linear_regression', LinearRegression())\n",
    "])"
   ]
  },
  {
   "cell_type": "code",
   "execution_count": 11,
   "metadata": {},
   "outputs": [],
   "source": [
    "# Model2 with costum transform (You can also use ColumnTransformer)\n",
    "class Age2(BaseEstimator,TransformerMixin):  \n",
    "    def fit(self,X,y=None):\n",
    "        return self\n",
    "    \n",
    "    def transform(self,X,y=None):\n",
    "        X = X.assign(age2 = X.age**2)\n",
    "        return X\n",
    "\n",
    "model2 = Pipeline([\n",
    "    ('age2', Age2()),\n",
    "    ('linear_regression', LinearRegression())\n",
    "])"
   ]
  },
  {
   "cell_type": "code",
   "execution_count": 12,
   "metadata": {},
   "outputs": [
    {
     "name": "stdout",
     "output_type": "stream",
     "text": [
      "36.0088230581963\n",
      "33.4089109962452\n",
      "35.332946611635904\n"
     ]
    }
   ],
   "source": [
    "# Check training loss\n",
    "print(cross_val_score(model1, Xtrain, ytrain, cv=kf, scoring=sc).mean())\n",
    "print(cross_val_score(model2, Xtrain, ytrain, cv=kf, scoring=sc).mean())\n",
    "print(cross_val_score(model3, Xtrain, ytrain, cv=kf, scoring=sc).mean())\n"
   ]
  },
  {
   "cell_type": "code",
   "execution_count": 13,
   "metadata": {},
   "outputs": [
    {
     "name": "stdout",
     "output_type": "stream",
     "text": [
      "Test loss: 30.64475044863152\n"
     ]
    }
   ],
   "source": [
    "# Now report test loss on selected model \n",
    "model2 = model2.fit(Xtrain,ytrain)\n",
    "testloss = mse(ytest,model2.predict(Xtest))\n",
    "print(f\"Test loss: {testloss}\")"
   ]
  }
 ],
 "metadata": {
  "kernelspec": {
   "display_name": "Python 3",
   "language": "python",
   "name": "python3"
  },
  "language_info": {
   "codemirror_mode": {
    "name": "ipython",
    "version": 3
   },
   "file_extension": ".py",
   "mimetype": "text/x-python",
   "name": "python",
   "nbconvert_exporter": "python",
   "pygments_lexer": "ipython3",
   "version": "3.7.1"
  }
 },
 "nbformat": 4,
 "nbformat_minor": 2
}
