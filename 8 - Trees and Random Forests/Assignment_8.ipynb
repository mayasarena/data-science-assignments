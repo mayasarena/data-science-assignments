{
 "cells": [
  {
   "cell_type": "code",
   "execution_count": 39,
   "metadata": {},
   "outputs": [],
   "source": [
    "# You can import *ANYTHING* you want here.\n",
    "import numpy as np\n",
    "import matplotlib.pyplot as plt\n",
    "import matplotlib as mpl\n",
    "from sklearn.tree import DecisionTreeClassifier\n",
    "from sklearn.ensemble import BaggingClassifier, RandomForestClassifier\n",
    "from sklearn.metrics import accuracy_score\n",
    "from xgboost import XGBClassifier\n",
    "import pandas as pd\n",
    "from tqdm import tqdm # this is just a tool to show a progress bar as your simulations are running\n",
    "import seaborn as sns"
   ]
  },
  {
   "cell_type": "markdown",
   "metadata": {},
   "source": [
    "# Assignment 8: Nested Spheres\n",
    "\n",
    "Simulation is an incredibly useful tool in data science.  We can use simulation to evaluate how algorithms perform against ground truth, and how algorithms compare to one another.\n",
    "\n",
    "In this assignment, you will be implementing and extending the nested spheres simulation study found in *Elements of Statistical Learning* page 339. https://web.stanford.edu/~hastie/ElemStatLearn/\n",
    "\n",
    "# Nested Spheres\n",
    "\n",
    "Consider a dataset which contains 10 features $X_1 \\,, X_2 \\,, \\cdots \\,, X_{10}$.  The features are standard independent Gaussian random variables.  That is to say\n",
    "\n",
    "$$ X_j \\sim \\operatorname{Normal}(0,1) \\quad \\forall j = 1 \\dots 10$$\n",
    "\n",
    "We are going to use these features to study a classification problem.  You will have to create the target variable, $Y$ by computing the following rule:\n",
    "\n",
    "$$ Y = \\begin{cases}  1 \\quad \\mbox{ if } \\sum_{j=1}^{10} X^2_j>9.34 \\\\ 0 \\quad  \\mbox{else} \\end{cases}$$\n",
    "\n",
    "# The Simulation Study\n",
    "\n",
    "Follow these steps to complete the assignment. "
   ]
  },
  {
   "cell_type": "markdown",
   "metadata": {},
   "source": [
    "### Part 1 ( X / 25 pts )\n",
    "Write a function, `generate_data`, that takes a dataset size N and creates a dataset according to the rule above, returning the feature matrix `X` and the labels `y`."
   ]
  },
  {
   "cell_type": "code",
   "execution_count": 40,
   "metadata": {},
   "outputs": [],
   "source": [
    "def generate_data(N):\n",
    "    # Create feature matrix X and labels y\n",
    "    X = np.random.normal(0,1,size=(N,10))\n",
    "    \n",
    "    y = np.zeros(N)\n",
    "    for i in range(N):\n",
    "        if (np.sum(np.square(X[i,:])) > 9.34):\n",
    "            y[i] = 1\n",
    "    \n",
    "    return X,y"
   ]
  },
  {
   "cell_type": "markdown",
   "metadata": {},
   "source": [
    "## Part 2 ( X / 25 pts )\n",
    "\n",
    "Write a function `run_simulation` that accepts two numbers, Ntrain and Ntest. It should generate a training set and testing set using your `generate_data` function and then train **four classifiers**. The first should be a bagged decision tree, the second should be a random forest with `max_features=1`, the third should be a random forest with `max_features=3`, and the fourth can be anything you like, for example a random forest with more features or an XGboost model. Use 500 trees in your random forests and the bagged classifier. The function should return the accuracy for each of these models estimated using the corresponding test set you generated."
   ]
  },
  {
   "cell_type": "code",
   "execution_count": 41,
   "metadata": {},
   "outputs": [],
   "source": [
    "def run_simulation(Ntrain,Ntest):\n",
    "    # Code to generate data and run one simulation\n",
    "    Xtrain, ytrain = generate_data(Ntrain)\n",
    "    Xtest, ytest = generate_data(Ntest)\n",
    "    \n",
    "    # Create classifier models\n",
    "    bag = BaggingClassifier(DecisionTreeClassifier(), n_estimators=500)    \n",
    "    rf1 = RandomForestClassifier(n_estimators=500, criterion='gini', max_features=1)\n",
    "    rf3 = RandomForestClassifier(n_estimators=500, criterion='gini', max_features=3)\n",
    "    rf8 = RandomForestClassifier(n_estimators=500, criterion='gini', max_features=8)\n",
    "    \n",
    "    # Get bag accuracy\n",
    "    bag.fit(Xtrain,ytrain)\n",
    "    ypred = bag.predict(Xtest)\n",
    "    bag_accuracy = accuracy_score(ytest, ypred)\n",
    "    \n",
    "    # Get rf1 accuracy\n",
    "    rf1.fit(Xtrain,ytrain)\n",
    "    ypred = rf1.predict(Xtest)\n",
    "    rf_mf1_accuracy = accuracy_score(ytest, ypred)\n",
    "    \n",
    "    # Get rf1 accuracy\n",
    "    rf3.fit(Xtrain,ytrain)\n",
    "    ypred = rf3.predict(Xtest)\n",
    "    rf_mf3_accuracy = accuracy_score(ytest, ypred)\n",
    "    \n",
    "    # Get rf8 accuracy\n",
    "    rf8.fit(Xtrain,ytrain)\n",
    "    ypred = rf8.predict(Xtest)\n",
    "    rf8_accuracy = accuracy_score(ytest, ypred)\n",
    "    \n",
    "    return bag_accuracy, rf_mf1_accuracy, rf_mf3_accuracy, rf8_accuracy"
   ]
  },
  {
   "cell_type": "markdown",
   "metadata": {},
   "source": [
    "## Part 3 ( X / 25 pts )\n",
    "\n",
    "Run 50 simulations using a training set of size 1000 and a test set of size 5000 and record all the results in four vectors, one for each type of model. *You should probably debug your code using smaller training and test set sized first because these will take a while. The full simulation takes 10 minutes on my old 2.8GHz core i5 laptop.*"
   ]
  },
  {
   "cell_type": "code",
   "execution_count": 43,
   "metadata": {},
   "outputs": [
    {
     "name": "stderr",
     "output_type": "stream",
     "text": [
      "100%|██████████| 50/50 [12:01<00:00, 14.44s/it]\n"
     ]
    }
   ],
   "source": [
    "#Setup code to record results here:\n",
    "Nsim = 50\n",
    "Ntrain = 1000\n",
    "Ntest = 5000\n",
    "bag_acc = np.zeros(Nsim)\n",
    "rf1_acc = np.zeros(Nsim)\n",
    "rf3_acc = np.zeros(Nsim)\n",
    "rf8_acc = np.zeros(Nsim)\n",
    "\n",
    "\n",
    "#Loop to run simulations:\n",
    "for sim in tqdm(range(Nsim)):\n",
    "    # Run simulations, collect data\n",
    "    bag_acc[sim], rf1_acc[sim], rf3_acc[sim], rf8_acc[sim] = run_simulation(Ntrain, Ntest)\n",
    "\n"
   ]
  },
  {
   "cell_type": "markdown",
   "metadata": {},
   "source": [
    "## Part 4 (X / 25 pts) \n",
    "Plot the error rates for each model using a boxplot for each one. The four models should be across the x-axis, and the y-axis should be accuracy."
   ]
  },
  {
   "cell_type": "code",
   "execution_count": 56,
   "metadata": {},
   "outputs": [
    {
     "data": {
      "image/png": "[encoded data removed]",
      "text/plain": [
       "<Figure size 720x504 with 1 Axes>"
      ]
     },
     "metadata": {
      "needs_background": "light"
     },
     "output_type": "display_data"
    }
   ],
   "source": [
    "#Plot the error rates as a box plot by model to complete the assignment.\n",
    "fig = plt.figure(figsize =(10, 7)) \n",
    "  \n",
    "# Creating axes instance \n",
    "ax = fig.add_axes([0, 0, 1, 1]) \n",
    "  \n",
    "# Creating plot \n",
    "data = pd.DataFrame({\"bag_acc\": bag_acc, \"rf_mf1_acc\": rf1_acc, \"rf_mf3_acc\": rf3_acc, \"my_classifier_acc\": rf8_acc})\n",
    "ax = sns.boxplot(data = data, orient = 'v')\n",
    "\n",
    "# show plot \n",
    "plt.show() \n",
    "plt.show()"
   ]
  },
  {
   "cell_type": "code",
   "execution_count": null,
   "metadata": {},
   "outputs": [],
   "source": []
  }
 ],
 "metadata": {
  "kernelspec": {
   "display_name": "Python 3",
   "language": "python",
   "name": "python3"
  },
  "language_info": {
   "codemirror_mode": {
    "name": "ipython",
    "version": 3
   },
   "file_extension": ".py",
   "mimetype": "text/x-python",
   "name": "python",
   "nbconvert_exporter": "python",
   "pygments_lexer": "ipython3",
   "version": "3.8.5"
  }
 },
 "nbformat": 4,
 "nbformat_minor": 4
}
